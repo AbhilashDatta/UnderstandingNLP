{
  "nbformat": 4,
  "nbformat_minor": 0,
  "metadata": {
    "colab": {
      "name": "TrainRNNonTimeSeriesForcastingSineSeries.ipynb",
      "provenance": [],
      "authorship_tag": "ABX9TyNpg5/SRfTIeTG342NY7+K5",
      "include_colab_link": true
    },
    "kernelspec": {
      "name": "python3",
      "display_name": "Python 3"
    },
    "language_info": {
      "name": "python"
    }
  },
  "cells": [
    {
      "cell_type": "markdown",
      "metadata": {
        "id": "view-in-github",
        "colab_type": "text"
      },
      "source": [
        "<a href=\"https://colab.research.google.com/github/bhadreshpsavani/UnderstandingNLP/blob/master/TrainRNNonTimeSeriesForcastingSineSeries.ipynb\" target=\"_parent\"><img src=\"https://colab.research.google.com/assets/colab-badge.svg\" alt=\"Open In Colab\"/></a>"
      ]
    },
    {
      "cell_type": "markdown",
      "metadata": {
        "id": "F3nibE-fuqh0"
      },
      "source": [
        "## Create Data"
      ]
    },
    {
      "cell_type": "code",
      "metadata": {
        "id": "ZM_9sshGuLds"
      },
      "source": [
        "import torch\n",
        "from torch import nn\n",
        "import numpy as np\n",
        "import matplotlib.pyplot as plt\n",
        "%matplotlib inline"
      ],
      "execution_count": 1,
      "outputs": []
    },
    {
      "cell_type": "code",
      "metadata": {
        "colab": {
          "base_uri": "https://localhost:8080/",
          "height": 374
        },
        "id": "pjTEQDAGvB5T",
        "outputId": "2cf26f29-7007-43f8-8dfe-4587448e25ce"
      },
      "source": [
        "plt.figure(figsize=(8, 6))\n",
        "\n",
        "# how many time step/datapoint in each bach\n",
        "seq_len = 20\n",
        "\n",
        "# generate evenly spaced datapoints\n",
        "time_steps = np.linspace(0, np.pi, seq_len+1)\n",
        "data = np.sin(time_steps) \n",
        "data.resize((seq_len+1, 1)) # size becomes (seq_len+1, 1) like input dim\n",
        "\n",
        "x = data[:-1] # all but not last one\n",
        "y = data[1:] # all but not first one\n",
        "\n",
        "# display the data\n",
        "plt.plot(time_steps[1:], x, 'r.', label = 'input, x')\n",
        "plt.plot(time_steps[1:], y, 'b.', label = 'target, y')\n",
        "\n",
        "plt.legend(loc='best')\n",
        "plt.show()"
      ],
      "execution_count": 2,
      "outputs": [
        {
          "output_type": "display_data",
          "data": {
            "image/png": "[encoded data removed]",
            "text/plain": [
              "<Figure size 576x432 with 1 Axes>"
            ]
          },
          "metadata": {
            "tags": [],
            "needs_background": "light"
          }
        }
      ]
    },
    {
      "cell_type": "markdown",
      "metadata": {
        "id": "2gdmLOnoA46L"
      },
      "source": [
        "# Create Model"
      ]
    },
    {
      "cell_type": "code",
      "metadata": {
        "id": "9olORsI1Axog"
      },
      "source": [
        "class RNN(nn.Module):\n",
        "  def __init__(self, input_size, output_size, hidden_dim, n_layers):\n",
        "    super(RNN, self).__init__()\n",
        "    self.hidden_dim = hidden_dim\n",
        "\n",
        "    # batch_first will ensure that first dim of input and output will be batch size\n",
        "    self.rnn = nn.RNN(input_size, hidden_dim, n_layers, batch_first=True)\n",
        "\n",
        "    self.fc = nn.Linear(hidden_dim, output_size)\n",
        "\n",
        "  def forward(self, x, hidden):\n",
        "    # x (batch_size, seq_len, input_size)\n",
        "    batch_size = x.size(0)\n",
        "\n",
        "    # hidden (n_layers, batch_size, hidden_dim)\n",
        "    # r_out (batch_size, time_step, hidden_dim)\n",
        "    r_out, hidden = self.rnn(x, hidden)\n",
        "\n",
        "    # r_out (batch_size* time_step, hidden_dim)\n",
        "    r_out = r_out.view(-1, self.hidden_dim)\n",
        "\n",
        "    output = self.fc(r_out)\n",
        "    return output, hidden"
      ],
      "execution_count": 3,
      "outputs": []
    },
    {
      "cell_type": "markdown",
      "metadata": {
        "id": "WPXTcoTYLvTc"
      },
      "source": [
        "## Check input and out dim"
      ]
    },
    {
      "cell_type": "code",
      "metadata": {
        "colab": {
          "base_uri": "https://localhost:8080/"
        },
        "id": "rJKxPAMnLMAM",
        "outputId": "e6321577-4bf4-407b-9871-10a6eded3dbf"
      },
      "source": [
        "# test rnn dim\n",
        "test_rnn = RNN(input_size=1, output_size=1, hidden_dim=10, n_layers=2)\n",
        "\n",
        "time_step = np.linspace(0 , np.pi, seq_len)\n",
        "data = np.sin(time_step)\n",
        "data.resize((seq_len, 1))\n",
        "\n",
        "tensor_input = torch.Tensor(data).unsqueeze(0)\n",
        "print(\"Input size:\", tensor_input.size())\n",
        "\n",
        "test_out, test_hidd = test_rnn(tensor_input, None)\n",
        "print(\"Output size:\", test_out.size())\n",
        "print(\"Hidden size:\", test_hidd.size())"
      ],
      "execution_count": 4,
      "outputs": [
        {
          "output_type": "stream",
          "text": [
            "Input size: torch.Size([1, 20, 1])\n",
            "Output size: torch.Size([20, 1])\n",
            "Hidden size: torch.Size([2, 1, 10])\n"
          ],
          "name": "stdout"
        }
      ]
    },
    {
      "cell_type": "markdown",
      "metadata": {
        "id": "aYdf646vOvba"
      },
      "source": [
        "## Train RNN"
      ]
    },
    {
      "cell_type": "code",
      "metadata": {
        "colab": {
          "base_uri": "https://localhost:8080/"
        },
        "id": "wRNM8uu4MuKK",
        "outputId": "73107af9-2554-4d73-ff65-e8ad07f8fa4c"
      },
      "source": [
        "# Hyperparameter\n",
        "input_size = 1\n",
        "output_size = 1\n",
        "hidden_dim= 32\n",
        "n_layers = 1\n",
        "\n",
        "# instantiate RNN\n",
        "rnn = RNN(input_size, output_size, hidden_dim, n_layers)\n",
        "print(rnn)"
      ],
      "execution_count": 5,
      "outputs": [
        {
          "output_type": "stream",
          "text": [
            "RNN(\n",
            "  (rnn): RNN(1, 32, batch_first=True)\n",
            "  (fc): Linear(in_features=32, out_features=1, bias=True)\n",
            ")\n"
          ],
          "name": "stdout"
        }
      ]
    },
    {
      "cell_type": "markdown",
      "metadata": {
        "id": "blVVMAYAPn20"
      },
      "source": [
        "## Loss and Optimization"
      ]
    },
    {
      "cell_type": "code",
      "metadata": {
        "id": "LJFkoLdEPOFo"
      },
      "source": [
        "criterian = nn.MSELoss()\n",
        "optimizer = torch.optim.Adam(rnn.parameters(), lr=0.01)"
      ],
      "execution_count": 6,
      "outputs": []
    },
    {
      "cell_type": "markdown",
      "metadata": {
        "id": "JewisqUbQQ_t"
      },
      "source": [
        "## Train"
      ]
    },
    {
      "cell_type": "code",
      "metadata": {
        "id": "fig7kmFUQHig"
      },
      "source": [
        "def train(rnn, n_steps, print_every):\n",
        "  hidden = None\n",
        "  for batch_i, step in enumerate(range(n_steps)):\n",
        "    time_steps = np.linspace(step*np.pi, (step+1)*np.pi, seq_len+1)\n",
        "    data = np.sin(time_steps) \n",
        "    data.resize((seq_len+1, 1)) # size becomes (seq_len+1, 1) like input dim\n",
        "\n",
        "    x = data[:-1] # all but not last one\n",
        "    y = data[1:] # all but not first one\n",
        "\n",
        "    x_tensor = torch.Tensor(x).unsqueeze(0)\n",
        "    y_tensor = torch.Tensor(y)\n",
        "\n",
        "    predict, hidden = rnn(x_tensor, hidden)\n",
        "    hidden = hidden.data\n",
        "\n",
        "    loss = criterian(predict, y_tensor)\n",
        "    optimizer.zero_grad()\n",
        "\n",
        "    loss.backward()\n",
        "    optimizer.step()\n",
        "\n",
        "    if batch_i%print_every == 0:\n",
        "      print(\"Loss:\", loss.item())\n",
        "      plt.plot(time_steps[1:], x, 'r.')\n",
        "      plt.plot(time_steps[1:], predict.data.numpy().flatten(), 'b.')\n",
        "      plt.show()\n",
        "    \n",
        "  return rnn"
      ],
      "execution_count": 7,
      "outputs": []
    },
    {
      "cell_type": "code",
      "metadata": {
        "colab": {
          "base_uri": "https://localhost:8080/",
          "height": 1000
        },
        "id": "xrkSyY5_TKdn",
        "outputId": "bd2d2b33-e3e9-4c9d-b764-7fa95c73837a"
      },
      "source": [
        "# train\n",
        "n_steps = 200\n",
        "print_every = 15\n",
        "trained_rnn = train(rnn, n_steps, print_every)"
      ],
      "execution_count": 8,
      "outputs": [
        {
          "output_type": "stream",
          "text": [
            "Loss: 0.34285131096839905\n"
          ],
          "name": "stdout"
        },
        {
          "output_type": "display_data",
          "data": {
            "image/png": "[encoded data removed]",
            "text/plain": [
              "<Figure size 432x288 with 1 Axes>"
            ]
          },
          "metadata": {
            "tags": [],
            "needs_background": "light"
          }
        },
        {
          "output_type": "stream",
          "text": [
            "Loss: 0.0033006989397108555\n"
          ],
          "name": "stdout"
        },
        {
          "output_type": "display_data",
          "data": {
            "image/png": "[encoded data removed]",
            "text/plain": [
              "<Figure size 432x288 with 1 Axes>"
            ]
          },
          "metadata": {
            "tags": [],
            "needs_background": "light"
          }
        },
        {
          "output_type": "stream",
          "text": [
            "Loss: 0.0005263827042654157\n"
          ],
          "name": "stdout"
        },
        {
          "output_type": "display_data",
          "data": {
            "image/png": "[encoded data removed]",
            "text/plain": [
              "<Figure size 432x288 with 1 Axes>"
            ]
          },
          "metadata": {
            "tags": [],
            "needs_background": "light"
          }
        },
        {
          "output_type": "stream",
          "text": [
            "Loss: 0.0002621159073896706\n"
          ],
          "name": "stdout"
        },
        {
          "output_type": "display_data",
          "data": {
            "image/png": "[encoded data removed]",
            "text/plain": [
              "<Figure size 432x288 with 1 Axes>"
            ]
          },
          "metadata": {
            "tags": [],
            "needs_background": "light"
          }
        },
        {
          "output_type": "stream",
          "text": [
            "Loss: 0.00022359038121066988\n"
          ],
          "name": "stdout"
        },
        {
          "output_type": "display_data",
          "data": {
            "image/png": "[encoded data removed]",
            "text/plain": [
              "<Figure size 432x288 with 1 Axes>"
            ]
          },
          "metadata": {
            "tags": [],
            "needs_background": "light"
          }
        },
        {
          "output_type": "stream",
          "text": [
            "Loss: 0.00022410028032027185\n"
          ],
          "name": "stdout"
        },
        {
          "output_type": "display_data",
          "data": {
            "image/png": "[encoded data removed]",
            "text/plain": [
              "<Figure size 432x288 with 1 Axes>"
            ]
          },
          "metadata": {
            "tags": [],
            "needs_background": "light"
          }
        },
        {
          "output_type": "stream",
          "text": [
            "Loss: 0.0002443285775370896\n"
          ],
          "name": "stdout"
        },
        {
          "output_type": "display_data",
          "data": {
            "image/png": "[encoded data removed]",
            "text/plain": [
              "<Figure size 432x288 with 1 Axes>"
            ]
          },
          "metadata": {
            "tags": [],
            "needs_background": "light"
          }
        },
        {
          "output_type": "stream",
          "text": [
            "Loss: 0.00026453242753632367\n"
          ],
          "name": "stdout"
        },
        {
          "output_type": "display_data",
          "data": {
            "image/png": "[encoded data removed]",
            "text/plain": [
              "<Figure size 432x288 with 1 Axes>"
            ]
          },
          "metadata": {
            "tags": [],
            "needs_background": "light"
          }
        },
        {
          "output_type": "stream",
          "text": [
            "Loss: 0.00029471173183992505\n"
          ],
          "name": "stdout"
        },
        {
          "output_type": "display_data",
          "data": {
            "image/png": "[encoded data removed]",
            "text/plain": [
              "<Figure size 432x288 with 1 Axes>"
            ]
          },
          "metadata": {
            "tags": [],
            "needs_background": "light"
          }
        },
        {
          "output_type": "stream",
          "text": [
            "Loss: 0.0002832954633049667\n"
          ],
          "name": "stdout"
        },
        {
          "output_type": "display_data",
          "data": {
            "image/png": "[encoded data removed]",
            "text/plain": [
              "<Figure size 432x288 with 1 Axes>"
            ]
          },
          "metadata": {
            "tags": [],
            "needs_background": "light"
          }
        },
        {
          "output_type": "stream",
          "text": [
            "Loss: 0.0002778132038656622\n"
          ],
          "name": "stdout"
        },
        {
          "output_type": "display_data",
          "data": {
            "image/png": "[encoded data removed]",
            "text/plain": [
              "<Figure size 432x288 with 1 Axes>"
            ]
          },
          "metadata": {
            "tags": [],
            "needs_background": "light"
          }
        },
        {
          "output_type": "stream",
          "text": [
            "Loss: 9.370709449285641e-05\n"
          ],
          "name": "stdout"
        },
        {
          "output_type": "display_data",
          "data": {
            "image/png": "[encoded data removed]",
            "text/plain": [
              "<Figure size 432x288 with 1 Axes>"
            ]
          },
          "metadata": {
            "tags": [],
            "needs_background": "light"
          }
        },
        {
          "output_type": "stream",
          "text": [
            "Loss: 1.175389661511872e-05\n"
          ],
          "name": "stdout"
        },
        {
          "output_type": "display_data",
          "data": {
            "image/png": "[encoded data removed]",
            "text/plain": [
              "<Figure size 432x288 with 1 Axes>"
            ]
          },
          "metadata": {
            "tags": [],
            "needs_background": "light"
          }
        },
        {
          "output_type": "stream",
          "text": [
            "Loss: 1.1073783753090538e-05\n"
          ],
          "name": "stdout"
        },
        {
          "output_type": "display_data",
          "data": {
            "image/png": "[encoded data removed]",
            "text/plain": [
              "<Figure size 432x288 with 1 Axes>"
            ]
          },
          "metadata": {
            "tags": [],
            "needs_background": "light"
          }
        }
      ]
    },
    {
      "cell_type": "code",
      "metadata": {
        "id": "pR9cUhh8TUtE"
      },
      "source": [
        ""
      ],
      "execution_count": 8,
      "outputs": []
    }
  ]
}