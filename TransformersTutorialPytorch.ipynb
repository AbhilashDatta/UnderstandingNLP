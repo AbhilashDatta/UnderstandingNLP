{
  "nbformat": 4,
  "nbformat_minor": 0,
  "metadata": {
    "colab": {
      "name": "TransformersTutorialPytorch",
      "provenance": [],
      "collapsed_sections": [],
      "authorship_tag": "ABX9TyNdvIgnIBTtPjVV84VIxoGk",
      "include_colab_link": true
    },
    "kernelspec": {
      "name": "python3",
      "display_name": "Python 3"
    }
  },
  "cells": [
    {
      "cell_type": "markdown",
      "metadata": {
        "id": "view-in-github",
        "colab_type": "text"
      },
      "source": [
        "<a href=\"https://colab.research.google.com/github/bhadreshpsavani/NLP-Notes/blob/master/TransformersTutorialPytorch.ipynb\" target=\"_parent\"><img src=\"https://colab.research.google.com/assets/colab-badge.svg\" alt=\"Open In Colab\"/></a>"
      ]
    },
    {
      "cell_type": "code",
      "metadata": {
        "id": "AHztALmyPVzm",
        "colab_type": "code",
        "colab": {}
      },
      "source": [
        "import torch\n",
        "import torch.nn as nn\n",
        "import torch.optim as optim\n",
        "\n",
        "import torchtext\n",
        "from torchtext.datasets import Multi30k\n",
        "from torchtext.data import Field, BucketIterator\n",
        "\n",
        "import matplotlib.pyplot as plt\n",
        "import matplotlib.ticker as ticker\n",
        "\n",
        "import spacy\n",
        "import numpy as np\n",
        "\n",
        "import random\n",
        "import math\n",
        "import time\n",
        "import sys"
      ],
      "execution_count": 5,
      "outputs": []
    },
    {
      "cell_type": "code",
      "metadata": {
        "id": "97efdxSmQR0m",
        "colab_type": "code",
        "colab": {}
      },
      "source": [
        "SEED=1234\n",
        "random.seed(SEED)\n",
        "np.random.seed(SEED)\n",
        "torch.manual_seed(SEED)\n",
        "torch.cuda.manual_seed(SEED)\n",
        "torch.backends.cudnn.deterministic=True"
      ],
      "execution_count": 6,
      "outputs": []
    },
    {
      "cell_type": "code",
      "metadata": {
        "id": "HE6vuRn0QYrn",
        "colab_type": "code",
        "colab": {
          "base_uri": "https://localhost:8080/",
          "height": 1000
        },
        "outputId": "e56b9abe-87a0-4419-a752-5d5d3b81795e"
      },
      "source": [
        "!{sys.executable} -m spacy download en\n",
        "!{sys.executable} -m spacy download de"
      ],
      "execution_count": 7,
      "outputs": [
        {
          "output_type": "stream",
          "text": [
            "Requirement already satisfied: en_core_web_sm==2.2.5 from https://github.com/explosion/spacy-models/releases/download/en_core_web_sm-2.2.5/en_core_web_sm-2.2.5.tar.gz#egg=en_core_web_sm==2.2.5 in /usr/local/lib/python3.6/dist-packages (2.2.5)\n",
            "Requirement already satisfied: spacy>=2.2.2 in /usr/local/lib/python3.6/dist-packages (from en_core_web_sm==2.2.5) (2.2.4)\n",
            "Requirement already satisfied: thinc==7.4.0 in /usr/local/lib/python3.6/dist-packages (from spacy>=2.2.2->en_core_web_sm==2.2.5) (7.4.0)\n",
            "Requirement already satisfied: cymem<2.1.0,>=2.0.2 in /usr/local/lib/python3.6/dist-packages (from spacy>=2.2.2->en_core_web_sm==2.2.5) (2.0.3)\n",
            "Requirement already satisfied: wasabi<1.1.0,>=0.4.0 in /usr/local/lib/python3.6/dist-packages (from spacy>=2.2.2->en_core_web_sm==2.2.5) (0.7.0)\n",
            "Requirement already satisfied: tqdm<5.0.0,>=4.38.0 in /usr/local/lib/python3.6/dist-packages (from spacy>=2.2.2->en_core_web_sm==2.2.5) (4.41.1)\n",
            "Requirement already satisfied: catalogue<1.1.0,>=0.0.7 in /usr/local/lib/python3.6/dist-packages (from spacy>=2.2.2->en_core_web_sm==2.2.5) (1.0.0)\n",
            "Requirement already satisfied: srsly<1.1.0,>=1.0.2 in /usr/local/lib/python3.6/dist-packages (from spacy>=2.2.2->en_core_web_sm==2.2.5) (1.0.2)\n",
            "Requirement already satisfied: numpy>=1.15.0 in /usr/local/lib/python3.6/dist-packages (from spacy>=2.2.2->en_core_web_sm==2.2.5) (1.18.5)\n",
            "Requirement already satisfied: requests<3.0.0,>=2.13.0 in /usr/local/lib/python3.6/dist-packages (from spacy>=2.2.2->en_core_web_sm==2.2.5) (2.23.0)\n",
            "Requirement already satisfied: setuptools in /usr/local/lib/python3.6/dist-packages (from spacy>=2.2.2->en_core_web_sm==2.2.5) (47.3.1)\n",
            "Requirement already satisfied: plac<1.2.0,>=0.9.6 in /usr/local/lib/python3.6/dist-packages (from spacy>=2.2.2->en_core_web_sm==2.2.5) (1.1.3)\n",
            "Requirement already satisfied: murmurhash<1.1.0,>=0.28.0 in /usr/local/lib/python3.6/dist-packages (from spacy>=2.2.2->en_core_web_sm==2.2.5) (1.0.2)\n",
            "Requirement already satisfied: blis<0.5.0,>=0.4.0 in /usr/local/lib/python3.6/dist-packages (from spacy>=2.2.2->en_core_web_sm==2.2.5) (0.4.1)\n",
            "Requirement already satisfied: preshed<3.1.0,>=3.0.2 in /usr/local/lib/python3.6/dist-packages (from spacy>=2.2.2->en_core_web_sm==2.2.5) (3.0.2)\n",
            "Requirement already satisfied: importlib-metadata>=0.20; python_version < \"3.8\" in /usr/local/lib/python3.6/dist-packages (from catalogue<1.1.0,>=0.0.7->spacy>=2.2.2->en_core_web_sm==2.2.5) (1.6.1)\n",
            "Requirement already satisfied: idna<3,>=2.5 in /usr/local/lib/python3.6/dist-packages (from requests<3.0.0,>=2.13.0->spacy>=2.2.2->en_core_web_sm==2.2.5) (2.9)\n",
            "Requirement already satisfied: urllib3!=1.25.0,!=1.25.1,<1.26,>=1.21.1 in /usr/local/lib/python3.6/dist-packages (from requests<3.0.0,>=2.13.0->spacy>=2.2.2->en_core_web_sm==2.2.5) (1.24.3)\n",
            "Requirement already satisfied: certifi>=2017.4.17 in /usr/local/lib/python3.6/dist-packages (from requests<3.0.0,>=2.13.0->spacy>=2.2.2->en_core_web_sm==2.2.5) (2020.6.20)\n",
            "Requirement already satisfied: chardet<4,>=3.0.2 in /usr/local/lib/python3.6/dist-packages (from requests<3.0.0,>=2.13.0->spacy>=2.2.2->en_core_web_sm==2.2.5) (3.0.4)\n",
            "Requirement already satisfied: zipp>=0.5 in /usr/local/lib/python3.6/dist-packages (from importlib-metadata>=0.20; python_version < \"3.8\"->catalogue<1.1.0,>=0.0.7->spacy>=2.2.2->en_core_web_sm==2.2.5) (3.1.0)\n",
            "\u001b[38;5;2m✔ Download and installation successful\u001b[0m\n",
            "You can now load the model via spacy.load('en_core_web_sm')\n",
            "\u001b[38;5;2m✔ Linking successful\u001b[0m\n",
            "/usr/local/lib/python3.6/dist-packages/en_core_web_sm -->\n",
            "/usr/local/lib/python3.6/dist-packages/spacy/data/en\n",
            "You can now load the model via spacy.load('en')\n",
            "Collecting de_core_news_sm==2.2.5\n",
            "\u001b[?25l  Downloading https://github.com/explosion/spacy-models/releases/download/de_core_news_sm-2.2.5/de_core_news_sm-2.2.5.tar.gz (14.9MB)\n",
            "\u001b[K     |████████████████████████████████| 14.9MB 3.6MB/s \n",
            "\u001b[?25hRequirement already satisfied: spacy>=2.2.2 in /usr/local/lib/python3.6/dist-packages (from de_core_news_sm==2.2.5) (2.2.4)\n",
            "Requirement already satisfied: cymem<2.1.0,>=2.0.2 in /usr/local/lib/python3.6/dist-packages (from spacy>=2.2.2->de_core_news_sm==2.2.5) (2.0.3)\n",
            "Requirement already satisfied: blis<0.5.0,>=0.4.0 in /usr/local/lib/python3.6/dist-packages (from spacy>=2.2.2->de_core_news_sm==2.2.5) (0.4.1)\n",
            "Requirement already satisfied: wasabi<1.1.0,>=0.4.0 in /usr/local/lib/python3.6/dist-packages (from spacy>=2.2.2->de_core_news_sm==2.2.5) (0.7.0)\n",
            "Requirement already satisfied: requests<3.0.0,>=2.13.0 in /usr/local/lib/python3.6/dist-packages (from spacy>=2.2.2->de_core_news_sm==2.2.5) (2.23.0)\n",
            "Requirement already satisfied: murmurhash<1.1.0,>=0.28.0 in /usr/local/lib/python3.6/dist-packages (from spacy>=2.2.2->de_core_news_sm==2.2.5) (1.0.2)\n",
            "Requirement already satisfied: catalogue<1.1.0,>=0.0.7 in /usr/local/lib/python3.6/dist-packages (from spacy>=2.2.2->de_core_news_sm==2.2.5) (1.0.0)\n",
            "Requirement already satisfied: srsly<1.1.0,>=1.0.2 in /usr/local/lib/python3.6/dist-packages (from spacy>=2.2.2->de_core_news_sm==2.2.5) (1.0.2)\n",
            "Requirement already satisfied: tqdm<5.0.0,>=4.38.0 in /usr/local/lib/python3.6/dist-packages (from spacy>=2.2.2->de_core_news_sm==2.2.5) (4.41.1)\n",
            "Requirement already satisfied: setuptools in /usr/local/lib/python3.6/dist-packages (from spacy>=2.2.2->de_core_news_sm==2.2.5) (47.3.1)\n",
            "Requirement already satisfied: numpy>=1.15.0 in /usr/local/lib/python3.6/dist-packages (from spacy>=2.2.2->de_core_news_sm==2.2.5) (1.18.5)\n",
            "Requirement already satisfied: plac<1.2.0,>=0.9.6 in /usr/local/lib/python3.6/dist-packages (from spacy>=2.2.2->de_core_news_sm==2.2.5) (1.1.3)\n",
            "Requirement already satisfied: thinc==7.4.0 in /usr/local/lib/python3.6/dist-packages (from spacy>=2.2.2->de_core_news_sm==2.2.5) (7.4.0)\n",
            "Requirement already satisfied: preshed<3.1.0,>=3.0.2 in /usr/local/lib/python3.6/dist-packages (from spacy>=2.2.2->de_core_news_sm==2.2.5) (3.0.2)\n",
            "Requirement already satisfied: certifi>=2017.4.17 in /usr/local/lib/python3.6/dist-packages (from requests<3.0.0,>=2.13.0->spacy>=2.2.2->de_core_news_sm==2.2.5) (2020.6.20)\n",
            "Requirement already satisfied: urllib3!=1.25.0,!=1.25.1,<1.26,>=1.21.1 in /usr/local/lib/python3.6/dist-packages (from requests<3.0.0,>=2.13.0->spacy>=2.2.2->de_core_news_sm==2.2.5) (1.24.3)\n",
            "Requirement already satisfied: idna<3,>=2.5 in /usr/local/lib/python3.6/dist-packages (from requests<3.0.0,>=2.13.0->spacy>=2.2.2->de_core_news_sm==2.2.5) (2.9)\n",
            "Requirement already satisfied: chardet<4,>=3.0.2 in /usr/local/lib/python3.6/dist-packages (from requests<3.0.0,>=2.13.0->spacy>=2.2.2->de_core_news_sm==2.2.5) (3.0.4)\n",
            "Requirement already satisfied: importlib-metadata>=0.20; python_version < \"3.8\" in /usr/local/lib/python3.6/dist-packages (from catalogue<1.1.0,>=0.0.7->spacy>=2.2.2->de_core_news_sm==2.2.5) (1.6.1)\n",
            "Requirement already satisfied: zipp>=0.5 in /usr/local/lib/python3.6/dist-packages (from importlib-metadata>=0.20; python_version < \"3.8\"->catalogue<1.1.0,>=0.0.7->spacy>=2.2.2->de_core_news_sm==2.2.5) (3.1.0)\n",
            "Building wheels for collected packages: de-core-news-sm\n",
            "  Building wheel for de-core-news-sm (setup.py) ... \u001b[?25l\u001b[?25hdone\n",
            "  Created wheel for de-core-news-sm: filename=de_core_news_sm-2.2.5-cp36-none-any.whl size=14907056 sha256=b2a73304954c4e0dd2450849c823aa2a099a26d8ed0bfb1d040256f223c2dce6\n",
            "  Stored in directory: /tmp/pip-ephem-wheel-cache-1byapm6q/wheels/ba/3f/ed/d4aa8e45e7191b7f32db4bfad565e7da1edbf05c916ca7a1ca\n",
            "Successfully built de-core-news-sm\n",
            "Installing collected packages: de-core-news-sm\n",
            "Successfully installed de-core-news-sm-2.2.5\n",
            "\u001b[38;5;2m✔ Download and installation successful\u001b[0m\n",
            "You can now load the model via spacy.load('de_core_news_sm')\n",
            "\u001b[38;5;2m✔ Linking successful\u001b[0m\n",
            "/usr/local/lib/python3.6/dist-packages/de_core_news_sm -->\n",
            "/usr/local/lib/python3.6/dist-packages/spacy/data/de\n",
            "You can now load the model via spacy.load('de')\n"
          ],
          "name": "stdout"
        }
      ]
    },
    {
      "cell_type": "code",
      "metadata": {
        "id": "iyJUtBChR0Xf",
        "colab_type": "code",
        "colab": {}
      },
      "source": [
        "spacy_de = spacy.load('de')\n",
        "spacy_en = spacy.load('en')"
      ],
      "execution_count": 8,
      "outputs": []
    },
    {
      "cell_type": "code",
      "metadata": {
        "id": "p9iJRsLER-hH",
        "colab_type": "code",
        "colab": {}
      },
      "source": [
        "def tokenize_de(text):\n",
        "  \"\"\"Tokenizes German text from string into list of strings\"\"\"\n",
        "  return [tok.text for tok in spacy_de.tokenizer(text)] \n",
        "\n",
        "def tokenize_en(text):\n",
        "  \"\"\"Tokenizes English text from string into list of strings\"\"\"\n",
        "  return [tok.text for tok in spacy_en.tokenizer(text)] "
      ],
      "execution_count": 13,
      "outputs": []
    },
    {
      "cell_type": "code",
      "metadata": {
        "id": "aPrm0GDKSmz8",
        "colab_type": "code",
        "colab": {}
      },
      "source": [
        "SRC = Field(tokenize=tokenize_de,\n",
        "            init_token='<sos>',\n",
        "            eos_token='<eos>',\n",
        "            lower=True,\n",
        "            batch_first=True)\n",
        "\n",
        "TRG = Field(tokenize=tokenize_en,\n",
        "            init_token='<sos>',\n",
        "            eos_token='<eos>',\n",
        "            lower=True,\n",
        "            batch_first=True)"
      ],
      "execution_count": 15,
      "outputs": []
    },
    {
      "cell_type": "code",
      "metadata": {
        "id": "cgkh5lsaTYsV",
        "colab_type": "code",
        "colab": {
          "base_uri": "https://localhost:8080/",
          "height": 118
        },
        "outputId": "cbe57ca9-aa8d-425a-f88e-7935f2cbabfd"
      },
      "source": [
        "train_data, valid_data, test_data = Multi30k.splits(exts=('.de', '.en'),\n",
        "                                                    fields=(SRC, TRG))"
      ],
      "execution_count": 16,
      "outputs": [
        {
          "output_type": "stream",
          "text": [
            "downloading training.tar.gz\n"
          ],
          "name": "stdout"
        },
        {
          "output_type": "stream",
          "text": [
            "training.tar.gz: 100%|██████████| 1.21M/1.21M [00:01<00:00, 858kB/s]\n"
          ],
          "name": "stderr"
        },
        {
          "output_type": "stream",
          "text": [
            "downloading validation.tar.gz\n"
          ],
          "name": "stdout"
        },
        {
          "output_type": "stream",
          "text": [
            "validation.tar.gz: 100%|██████████| 46.3k/46.3k [00:00<00:00, 242kB/s]\n"
          ],
          "name": "stderr"
        },
        {
          "output_type": "stream",
          "text": [
            "downloading mmt_task1_test2016.tar.gz\n"
          ],
          "name": "stdout"
        },
        {
          "output_type": "stream",
          "text": [
            "mmt_task1_test2016.tar.gz: 100%|██████████| 66.2k/66.2k [00:00<00:00, 236kB/s]\n"
          ],
          "name": "stderr"
        }
      ]
    },
    {
      "cell_type": "code",
      "metadata": {
        "id": "wDjKL-BdUHa5",
        "colab_type": "code",
        "colab": {}
      },
      "source": [
        "SRC.build_vocab(train_data, min_freq = 2)\n",
        "TRG.build_vocab(train_data, min_freq = 2)"
      ],
      "execution_count": 17,
      "outputs": []
    },
    {
      "cell_type": "code",
      "metadata": {
        "id": "CR5KO7x4UZRs",
        "colab_type": "code",
        "colab": {}
      },
      "source": [
        "device = torch.device('cuda' if torch.cuda.is_available() else 'cpu')"
      ],
      "execution_count": 18,
      "outputs": []
    },
    {
      "cell_type": "code",
      "metadata": {
        "id": "WZyL-2O2Uug0",
        "colab_type": "code",
        "colab": {}
      },
      "source": [
        "BATCH_SIZE = 128\n",
        "\n",
        "train_iterator, valid_iterator, test_iterator = BucketIterator.splits(\n",
        "    (train_data, valid_data, test_data),\n",
        "    batch_size=BATCH_SIZE,\n",
        "    device=device\n",
        ")"
      ],
      "execution_count": 19,
      "outputs": []
    },
    {
      "cell_type": "code",
      "metadata": {
        "id": "eFFcceO4VNzg",
        "colab_type": "code",
        "colab": {}
      },
      "source": [
        "class Encoder(nn.Module):\n",
        "  def __init__(self, input_dim, hid_dim, n_layers, n_heads, pf_dim, dropout, device, max_length=100):\n",
        "    super().__init__()\n",
        "    self.device = device\n",
        "    self.tok_embedding = nn.Embedding(input_dim, hid_dim)\n",
        "    self.pos_embedding = nn.Embedding(max_length, hid_dim)\n",
        "    self.layers = nn.ModuleList([EncoderLayer(hid_dim,\n",
        "                                              n_heads,\n",
        "                                              pf_dim,\n",
        "                                              dropout,\n",
        "                                              device)\n",
        "                                for _ in range(n_layers)\n",
        "                                              ])\n",
        "    self.dropout = nn.Dropout(dropout)\n",
        "    self.sqrt = torch.sqrt(torch.FloatTensor([hid_dim])).to(device)\n",
        "\n",
        "  def forward(self, src, src_mask):\n",
        "\n",
        "    # src = [batch_size, src_len]\n",
        "    # src_mask = [batch_size, src_len]\n",
        "\n",
        "    batch_size = src.shape[0]\n",
        "    src_len = src.shape[1]\n",
        "\n",
        "    pos = torch.arange(0, src_len).unsqueeze(0).repeat(batch_size, 1).to(device)\n",
        "    # pos = [batch_size, src_len]\n",
        "\n",
        "    # ex torch.arange(0, 8).unsqueeze(0).repeat(8, 1)\n",
        "    # tensor([[0, 1, 2, 3, 4, 5, 6, 7],\n",
        "    #    [0, 1, 2, 3, 4, 5, 6, 7],\n",
        "    #   [0, 1, 2, 3, 4, 5, 6, 7],\n",
        "    #   [0, 1, 2, 3, 4, 5, 6, 7],\n",
        "    #    [0, 1, 2, 3, 4, 5, 6, 7],\n",
        "    #    [0, 1, 2, 3, 4, 5, 6, 7],\n",
        "    #    [0, 1, 2, 3, 4, 5, 6, 7],\n",
        "    #    [0, 1, 2, 3, 4, 5, 6, 7]])\n",
        "\n",
        "    src = self.dropout((self.token_embedding(src) * self.scale) + self.pos_embedding(pos))\n",
        "    # src = [batch_size, src_len, hid_dim]\n",
        "\n",
        "    for layer in self.layers:\n",
        "      src = layer(src, src_mask)\n",
        "\n",
        "    # src = [batch_size, src_len, hid_dim]\n",
        "    \n",
        "    return src"
      ],
      "execution_count": 40,
      "outputs": []
    },
    {
      "cell_type": "code",
      "metadata": {
        "id": "xG2EXBG6XxI7",
        "colab_type": "code",
        "colab": {}
      },
      "source": [
        "class EncoderLayer(nn.Module):\n",
        "  def __init__(self, hid_dim, n_heads, pf_dim, dropout, device):\n",
        "    super().__init__()\n",
        "\n",
        "    self.self_attn_layer_norm = nn.LayerNorm(hid_dim)\n",
        "    self.ff_layer_norm = nn.LayerNorm(hid_dim)\n",
        "    self.self_attention = MultiHeadAttentionLayer(hid_dim, n_heads, dropout, device)\n",
        "    self.pointwise_feedforward = PointWiseFeedForward(hid_dim, pf_dim, dropout)\n",
        "\n",
        "    self.dropout = nn.Dropout()\n",
        "\n",
        "  def forward(self, src, src_mask):\n",
        "    # src = [batch_size, src_len, hid_dim]\n",
        "    # src_mask = [batch_size, src_len]\n",
        "\n",
        "    _src, _ = self.self_attention(src, src, src, src_mask)\n",
        "\n",
        "    src = self.self_attn_layer_norm(src + self.dropout(_src))\n",
        "    # src = [batch_size, src_len, hid_dim]\n",
        "    _src = self.pointwise_feedforward(src)\n",
        "\n",
        "    src = self.ff_layer_norm(src + self.dropout(_src))\n",
        "    #src = [batch_size, src_len, hid_dim]\n",
        "\n",
        "    return src"
      ],
      "execution_count": 41,
      "outputs": []
    },
    {
      "cell_type": "code",
      "metadata": {
        "id": "O6l93F6CX6U_",
        "colab_type": "code",
        "colab": {}
      },
      "source": [
        "class MultiHeadAttentionLayer(nn.Module):\n",
        "  def __init__(self, hid_dim, n_heads, dropout, device):\n",
        "    super().__init__()\n",
        "\n",
        "    assert hid_dim % n_heads == 0\n",
        "\n",
        "    self.hid_dim = hid_dim\n",
        "    self.n_heads = n_heads\n",
        "    self.head_dim = hid_dim // n_heads\n",
        "\n",
        "    self.fc_q = nn.Linear(hid_dim, hid_dim) \n",
        "    self.fc_k = nn.Linear(hid_dim, hid_dim)\n",
        "    self.fc_v = nn.Linear(hid_dim, hid_dim)\n",
        "\n",
        "    self.fc_o = nn.Linear(hid_dim, hid_dim)\n",
        "    self.dropout = nn.Dropout(dropout)\n",
        "\n",
        "    self.scale = torch.sqrt(torch.FloatTensor([self.head_dim])).to(device)\n",
        "\n",
        "  def forward(self, query, key, value, mask=None):\n",
        "    batch_size = query.shape[0]\n",
        "    # query = [batch_size, query_len, hid_dim]\n",
        "    # key = [batch_size, key_len, hid_dim]\n",
        "    # value = [batch_size, value_len, dim]\n",
        "\n",
        "    Q = self.fc_q(query)\n",
        "    K = self.fc_k(key)\n",
        "    V = self.fc_v(value)\n",
        "    # Q = [batch_size, query_len, hid_dim]\n",
        "    # K = [batch_size, key_len, hid_dim]\n",
        "    # V = [batch_size, value_len, dim]\n",
        "\n",
        "    Q = Q.view(batch_size, -1, self.n_heads, self.head_dim).permute(0, 2, 1, 3)\n",
        "    K = K.view(batch_size, -1, self.n_heads, self.head_dim).permute(0, 2, 1, 3)\n",
        "    V = V.view(batch_size, -1, self.n_heads, self.head_dim).permute(0, 2, 1, 3)\n",
        "    # Q = [batch_size, n_heads, query_len, hid_dim]\n",
        "    # K = [batch_size, n_heads, key_len, hid_dim]\n",
        "    # V = [batch_size, n_heads, value_len, dim]\n",
        "\n",
        "    energy = torch.matmul(Q , K.permute(0, 1, 3, 2))/self.scale\n",
        "    # enegry = [batch_size, n_heads, query_len, dim]\n",
        "\n",
        "    if mask is not None:\n",
        "      energy = energy.mask_fill(mask==0, -1e10)\n",
        "\n",
        "    attention = torch.softmax(energy, dim=-1)\n",
        "    # attention = [batch_size, n_heads, query_len, dim]\n",
        "\n",
        "    x = torch.matmul(self.dropout(attention), V)\n",
        "    # x = [batch_size, n_heads, query_len, dim]\n",
        "\n",
        "    x = x.permute(0, 2, 1, 3).contiguous()\n",
        "    # x = [batch_size, query_len, n_heads, dim]\n",
        "\n",
        "    x = x.view(batch_size, -1, hid_dim)\n",
        "    # x = [batch_size, query_len, dim]\n",
        "\n",
        "    x = self.fc_o(x)\n",
        "    # x = [batch_size, query_len, dim]\n",
        "\n",
        "    return x, attention"
      ],
      "execution_count": 42,
      "outputs": []
    },
    {
      "cell_type": "code",
      "metadata": {
        "id": "5rnH-t7ul1Qd",
        "colab_type": "code",
        "colab": {
          "base_uri": "https://localhost:8080/",
          "height": 151
        },
        "outputId": "0bb87f9f-a04c-4eea-ab98-6506153c45fb"
      },
      "source": [
        "torch.arange(8).unsqueeze(0).repeat(4, 1).permute(1, 0)"
      ],
      "execution_count": 43,
      "outputs": [
        {
          "output_type": "execute_result",
          "data": {
            "text/plain": [
              "tensor([[0, 0, 0, 0],\n",
              "        [1, 1, 1, 1],\n",
              "        [2, 2, 2, 2],\n",
              "        [3, 3, 3, 3],\n",
              "        [4, 4, 4, 4],\n",
              "        [5, 5, 5, 5],\n",
              "        [6, 6, 6, 6],\n",
              "        [7, 7, 7, 7]])"
            ]
          },
          "metadata": {
            "tags": []
          },
          "execution_count": 43
        }
      ]
    },
    {
      "cell_type": "code",
      "metadata": {
        "id": "UMmRP986l5LP",
        "colab_type": "code",
        "colab": {}
      },
      "source": [
        "class PositionWiseFeedforwardLayer(nn.Module):\n",
        "  def __init__(self, hid_dim, pf_dim, dropout):\n",
        "    super().__init__()\n",
        "\n",
        "    self.fc1 = nn.Linear(hid_dim, pf_dim)\n",
        "    self.fc2 = nn.Linear(pf_dim, hid_dim)\n",
        "\n",
        "    self.dropout = nn.Dropout(dropout)\n",
        "\n",
        "  def forward(self, x):\n",
        "\n",
        "    # x = [bacth_size, seq_len, hid_dim]\n",
        "\n",
        "    x = self.dropout(torch.relu(self.fc1(x)))\n",
        "    # x = [bacth_size, seq_len, pf_dim]\n",
        "\n",
        "    x = self.fc2(x)\n",
        "    # x = [bacth_size, seq_len, hid_dim]\n",
        "    \n",
        "    return x"
      ],
      "execution_count": 44,
      "outputs": []
    },
    {
      "cell_type": "code",
      "metadata": {
        "id": "ESFvQwX4p_aZ",
        "colab_type": "code",
        "colab": {}
      },
      "source": [
        "class Decoder(nn.Module):\n",
        "  def __init__(self, output_dim, hid_dim, n_layers, n_heads, pf_dim, dropout, device, max_length=100):\n",
        "    super().__init__()\n",
        "\n",
        "    self.device = device\n",
        "\n",
        "    self.tok_embedding = nn.Embedding(output_dim, hid_dim)\n",
        "    self.pos_embedding = nn.Embedding(max_length, hid_dim)\n",
        "\n",
        "    self.layers = nn.ModuleList([DecoderLayer(hid_dim,\n",
        "                                              n_heads,\n",
        "                                              pf_dim,\n",
        "                                              dropout,\n",
        "                                              device)\n",
        "                                for _ in range(n_layers)\n",
        "                                 ])\n",
        "    \n",
        "    self.fc_out = nn.Linear(hid_dim, output_dim)\n",
        "    self.dropout = nn.Dropout(dropout)\n",
        "\n",
        "    self.scale = torch.sqrt(torch.FloatTensor([hid_dim])).to(device)\n",
        "\n",
        "  def forward(self, trg, enc_src, trg_mask, src_mask):\n",
        "    # trg = [batch_size, trg_len]\n",
        "    # enc_src = [batch_size, src_len, hid_dim]\n",
        "    # trg_mask = [batch_size, trg_len]\n",
        "    # src_mask = [batch_size, src_len]\n",
        "\n",
        "    batch_size = trg.shape[0]\n",
        "    trg_len = trg.shape[1]\n",
        "\n",
        "    pos = torch.arange(0, trg_len).unsqueeze(0).repeat(batch_size, 1).to(device)\n",
        "    # pos = [batch_size, trg_len]\n",
        "    trg = self.dropout((self.tok_embedding(trg) * self.scale) + self.pos_embedding(trg))\n",
        "    # trg = [batch_size, trg_len, hid_dim]\n",
        "\n",
        "    for layer in self.layers:\n",
        "      trg, attention = layer(trg, enc_src, trg_mask, src_mask)\n",
        "    # trg = [batch_size, trg_len, hid_dim]\n",
        "    # attention = [batch_size, n_heads, trg_len, hid_dim]\n",
        "\n",
        "    outputs = self.fc_out(trg)\n",
        "    # trg = [batch_size, trg_len, hid_dim]"
      ],
      "execution_count": 45,
      "outputs": []
    },
    {
      "cell_type": "code",
      "metadata": {
        "colab_type": "code",
        "id": "qktgRki1vUWb",
        "colab": {}
      },
      "source": [
        "class Decoder(nn.Module):\n",
        "  def __init__(self, output_dim, hid_dim, n_layers, n_heads, pf_dim, dropout, device, max_length=100):\n",
        "    super().__init__()\n",
        "\n",
        "    self.device = device\n",
        "\n",
        "    self.tok_embedding = nn.Embedding(output_dim, hid_dim)\n",
        "    self.pos_embedding = nn.Embedding(max_length, hid_dim)\n",
        "\n",
        "    self.layers = nn.ModuleList([DecoderLayer(hid_dim,\n",
        "                                              n_heads,\n",
        "                                              pf_dim,\n",
        "                                              dropout,\n",
        "                                              device)\n",
        "                                for _ in range(n_layers)\n",
        "                                 ])\n",
        "    \n",
        "    self.fc_out = nn.Linear(hid_dim, output_dim)\n",
        "    self.dropout = nn.Dropout(dropout)\n",
        "\n",
        "    self.scale = torch.sqrt(torch.FloatTensor([hid_dim])).to(device)\n",
        "\n",
        "  def forward(self, trg, enc_src, trg_mask, src_mask):\n",
        "    # trg = [batch_size, trg_len]\n",
        "    # enc_src = [batch_size, src_len, hid_dim]\n",
        "    # trg_mask = [batch_size, trg_len]\n",
        "    # src_mask = [batch_size, src_len]\n",
        "\n",
        "    batch_size = trg.shape[0]\n",
        "    trg_len = trg.shape[1]\n",
        "\n",
        "    pos = torch.arange(0, trg_len).unsqueeze(0).repeat(batch_size, 1).to(device)\n",
        "    # pos = [batch_size, trg_len]\n",
        "    trg = self.dropout((self.tok_embedding(trg) * self.scale) + self.pos_embedding(trg))\n",
        "    # trg = [batch_size, trg_len, hid_dim]\n",
        "\n",
        "    for layer in self.layers:\n",
        "      trg, attention = layer(trg, enc_src, trg_mask, src_mask)\n",
        "    # trg = [batch_size, trg_len, hid_dim]\n",
        "    # attention = [batch_size, n_heads, trg_len, hid_dim]\n",
        "\n",
        "    outputs = self.fc_out(trg)\n",
        "    # outputs = [batch_size, trg_len, hid_dim]\n",
        "\n",
        "    return outputs, attention"
      ],
      "execution_count": 46,
      "outputs": []
    },
    {
      "cell_type": "code",
      "metadata": {
        "id": "4C_7Q0OJtb3B",
        "colab_type": "code",
        "colab": {}
      },
      "source": [
        "class DecoderLayer(nn.Module):\n",
        "  def __init__(self, hid_dim, n_heads, pf_dim, dropout, device):\n",
        "    super().__init__()\n",
        "\n",
        "    self.self_attn_layer_norm = nn.LayerNorm(hid_dim)\n",
        "    self.enc_attn_layer_norm = nn.LayerNorm(hid_dim)\n",
        "    self.ff_layer_norm = nn.LayerNorm(hid_dim)\n",
        "    self.self_attention = MultiHeadAttentionLayer(hid_dim, n_heads, dropout, device)\n",
        "    self.encoder_attention = MultiHeadAttentionLayer(hid_dim, n_heads, dropout, device)\n",
        "    self.positionwise_feedforward = PositionWiseFeedforwardLayer(hid_dim,\n",
        "                                                                 pf_dim,\n",
        "                                                                 dropout)\n",
        "    self.dropout = nn.Dropout(dropout)\n",
        "  \n",
        "  def forward(self, trg, enc_src, trg_mask, src_mask):\n",
        "    # trg = [batch_size, trg_len]\n",
        "    # enc_src = [batch_size, src_len, hid_dim]\n",
        "    # trg_mask = [batch_size, trg_len]\n",
        "    # src_mask = [batch_size, src_len]\n",
        "\n",
        "    _trg, _ = self.self_attention(trg, trg, trg, trg_mask)\n",
        "    trg = self.self_attn_layer_norm(trg+self.dropout(_trg))\n",
        "    # trg = [batch_size, trg_len, hid_dim]\n",
        "\n",
        "    _trg, attention = self.encoder_attention(trg, enc_src, enc_src, src_mask)\n",
        "    trg = self.enc_attn_layer_norm(trg, self.dropout(_trg))\n",
        "    # trg = [batch_size, trg_len, hid_dim]\n",
        "    # attention = [batch_size, n_heads, trg_len, hid_dim]\n",
        "\n",
        "    _trg = self.positionwise_feedforward(trg)\n",
        "    trg = self.ff_layer_norm(trg + self.dropout(_trg))\n",
        "    # trg = [batch_size, trg_len, hid_dim]\n",
        "\n",
        "    return trg, attention\n"
      ],
      "execution_count": 48,
      "outputs": []
    },
    {
      "cell_type": "code",
      "metadata": {
        "id": "RC8mpV0V0Rcm",
        "colab_type": "code",
        "colab": {}
      },
      "source": [
        "class Seq2Seq(nn.Module):\n",
        "  def __init__(self, encoder, decoder, src_pad_inx, trg_pad_inx, device):\n",
        "    super().__init__()\n",
        "\n",
        "    self.encoder = encoder\n",
        "    self.decoder = decoder\n",
        "    self.src_pad_inx = src_pad_inx\n",
        "    self.trg_pad_inx = trg_pad_inx\n",
        "    self.device =device\n",
        "  \n",
        "  def make_src_mask(self, src):\n",
        "    # src = [batch_size, src_len]\n",
        "\n",
        "    src_mask = (src != self.src_pad_inx).unsqueeze(1).unsqueeze(2)\n",
        "    # src mask= [batch_size, 1, 1, src_len]\n",
        "\n",
        "    return src_mask\n",
        "\n",
        "  def make_trg_mask(self, trg):\n",
        "    # trg =  [batch_size, src_len]\n",
        "\n",
        "    trg_pad_mask = (trg != self.trg_pad_inx).unsqueeze(1).unsqueeze(2)\n",
        "    # trg pad mask = [batch_size, 1, 1, trg_len]\n",
        "\n",
        "    trg_len = trg.shape[1]\n",
        "\n",
        "    trg_sub_mask = torch.tril(torch.ones((trg_len,trg_len), device = self.device)).bool()\n",
        "    # trg_sub_mask = [trg_len, trg_len] \n",
        "\n",
        "    trg_mask = trg_pad_mask&trg_sub_mask\n",
        "    # trg  mask = [batch_size, 1, trg_len, trg_len]\n",
        "\n",
        "    return trg_mask\n",
        "  \n",
        "  def forward(self, src, trg):\n",
        "    # src = [batch_size, src_len]\n",
        "    # trg = [batch_size, src_len]\n",
        "\n",
        "    src_mask = self.make_src_mask(src)\n",
        "    # src mask= [batch_size, 1, 1, src_len]\n",
        "    trg_mask = self.make_trg_mask(trg)\n",
        "    # trg  mask = [batch_size, 1, trg_len, trg_len]\n",
        "\n",
        "    enc_src = self.encoder(src, src_mask)\n",
        "    # enc_src = [batch_size, src_len, hid_dim]\n",
        "\n",
        "    output, attention = self.decoder(trg, enc_src, trg_mask, src_mask)\n",
        "    #output = [batch size, trg len, output dim]\n",
        "    #attention = [batch size, n heads, trg len, src len]\n",
        "\n",
        "    return output\n"
      ],
      "execution_count": null,
      "outputs": []
    }
  ]
}