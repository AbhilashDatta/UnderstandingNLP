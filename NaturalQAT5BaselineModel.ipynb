{
  "nbformat": 4,
  "nbformat_minor": 0,
  "metadata": {
    "kernelspec": {
      "name": "python3",
      "display_name": "Python 3",
      "language": "python"
    },
    "language_info": {
      "name": "python",
      "version": "3.7.6",
      "mimetype": "text/x-python",
      "codemirror_mode": {
        "name": "ipython",
        "version": 3
      },
      "pygments_lexer": "ipython3",
      "nbconvert_exporter": "python",
      "file_extension": ".py"
    },
    "colab": {
      "name": "NaturalQAT5BaselineModel (2).ipynb",
      "provenance": [],
      "toc_visible": true,
      "include_colab_link": true
    },
    "accelerator": "GPU",
    "widgets": {
      "application/vnd.jupyter.widget-state+json": {
        "e4f6f1acbf0f42cbacc9c4589aa70290": {
          "model_module": "@jupyter-widgets/controls",
          "model_name": "HBoxModel",
          "state": {
            "_view_name": "HBoxView",
            "_dom_classes": [],
            "_model_name": "HBoxModel",
            "_view_module": "@jupyter-widgets/controls",
            "_model_module_version": "1.5.0",
            "_view_count": null,
            "_view_module_version": "1.5.0",
            "box_style": "",
            "layout": "IPY_MODEL_e03f6a671b154b36bbf013922cf38f23",
            "_model_module": "@jupyter-widgets/controls",
            "children": [
              "IPY_MODEL_ab2a836e32f94075938a3a70470a7fe9",
              "IPY_MODEL_2e1d9152c12c453daec36ff62cf9c241"
            ]
          }
        },
        "e03f6a671b154b36bbf013922cf38f23": {
          "model_module": "@jupyter-widgets/base",
          "model_name": "LayoutModel",
          "state": {
            "_view_name": "LayoutView",
            "grid_template_rows": null,
            "right": null,
            "justify_content": null,
            "_view_module": "@jupyter-widgets/base",
            "overflow": null,
            "_model_module_version": "1.2.0",
            "_view_count": null,
            "flex_flow": null,
            "width": null,
            "min_width": null,
            "border": null,
            "align_items": null,
            "bottom": null,
            "_model_module": "@jupyter-widgets/base",
            "top": null,
            "grid_column": null,
            "overflow_y": null,
            "overflow_x": null,
            "grid_auto_flow": null,
            "grid_area": null,
            "grid_template_columns": null,
            "flex": null,
            "_model_name": "LayoutModel",
            "justify_items": null,
            "grid_row": null,
            "max_height": null,
            "align_content": null,
            "visibility": null,
            "align_self": null,
            "height": null,
            "min_height": null,
            "padding": null,
            "grid_auto_rows": null,
            "grid_gap": null,
            "max_width": null,
            "order": null,
            "_view_module_version": "1.2.0",
            "grid_template_areas": null,
            "object_position": null,
            "object_fit": null,
            "grid_auto_columns": null,
            "margin": null,
            "display": null,
            "left": null
          }
        },
        "ab2a836e32f94075938a3a70470a7fe9": {
          "model_module": "@jupyter-widgets/controls",
          "model_name": "FloatProgressModel",
          "state": {
            "_view_name": "ProgressView",
            "style": "IPY_MODEL_75dc2c460f30468fb69dab1bafa56a55",
            "_dom_classes": [],
            "description": "Downloading: 100%",
            "_model_name": "FloatProgressModel",
            "bar_style": "success",
            "max": 791656,
            "_view_module": "@jupyter-widgets/controls",
            "_model_module_version": "1.5.0",
            "value": 791656,
            "_view_count": null,
            "_view_module_version": "1.5.0",
            "orientation": "horizontal",
            "min": 0,
            "description_tooltip": null,
            "_model_module": "@jupyter-widgets/controls",
            "layout": "IPY_MODEL_963dcf46033741338ed8113343cb73cc"
          }
        },
        "2e1d9152c12c453daec36ff62cf9c241": {
          "model_module": "@jupyter-widgets/controls",
          "model_name": "HTMLModel",
          "state": {
            "_view_name": "HTMLView",
            "style": "IPY_MODEL_b72f0501ae274dcd9101841beead668e",
            "_dom_classes": [],
            "description": "",
            "_model_name": "HTMLModel",
            "placeholder": "​",
            "_view_module": "@jupyter-widgets/controls",
            "_model_module_version": "1.5.0",
            "value": " 792k/792k [00:00&lt;00:00, 2.89MB/s]",
            "_view_count": null,
            "_view_module_version": "1.5.0",
            "description_tooltip": null,
            "_model_module": "@jupyter-widgets/controls",
            "layout": "IPY_MODEL_a0b232fa6a334715b469144545707001"
          }
        },
        "75dc2c460f30468fb69dab1bafa56a55": {
          "model_module": "@jupyter-widgets/controls",
          "model_name": "ProgressStyleModel",
          "state": {
            "_view_name": "StyleView",
            "_model_name": "ProgressStyleModel",
            "description_width": "initial",
            "_view_module": "@jupyter-widgets/base",
            "_model_module_version": "1.5.0",
            "_view_count": null,
            "_view_module_version": "1.2.0",
            "bar_color": null,
            "_model_module": "@jupyter-widgets/controls"
          }
        },
        "963dcf46033741338ed8113343cb73cc": {
          "model_module": "@jupyter-widgets/base",
          "model_name": "LayoutModel",
          "state": {
            "_view_name": "LayoutView",
            "grid_template_rows": null,
            "right": null,
            "justify_content": null,
            "_view_module": "@jupyter-widgets/base",
            "overflow": null,
            "_model_module_version": "1.2.0",
            "_view_count": null,
            "flex_flow": null,
            "width": null,
            "min_width": null,
            "border": null,
            "align_items": null,
            "bottom": null,
            "_model_module": "@jupyter-widgets/base",
            "top": null,
            "grid_column": null,
            "overflow_y": null,
            "overflow_x": null,
            "grid_auto_flow": null,
            "grid_area": null,
            "grid_template_columns": null,
            "flex": null,
            "_model_name": "LayoutModel",
            "justify_items": null,
            "grid_row": null,
            "max_height": null,
            "align_content": null,
            "visibility": null,
            "align_self": null,
            "height": null,
            "min_height": null,
            "padding": null,
            "grid_auto_rows": null,
            "grid_gap": null,
            "max_width": null,
            "order": null,
            "_view_module_version": "1.2.0",
            "grid_template_areas": null,
            "object_position": null,
            "object_fit": null,
            "grid_auto_columns": null,
            "margin": null,
            "display": null,
            "left": null
          }
        },
        "b72f0501ae274dcd9101841beead668e": {
          "model_module": "@jupyter-widgets/controls",
          "model_name": "DescriptionStyleModel",
          "state": {
            "_view_name": "StyleView",
            "_model_name": "DescriptionStyleModel",
            "description_width": "",
            "_view_module": "@jupyter-widgets/base",
            "_model_module_version": "1.5.0",
            "_view_count": null,
            "_view_module_version": "1.2.0",
            "_model_module": "@jupyter-widgets/controls"
          }
        },
        "a0b232fa6a334715b469144545707001": {
          "model_module": "@jupyter-widgets/base",
          "model_name": "LayoutModel",
          "state": {
            "_view_name": "LayoutView",
            "grid_template_rows": null,
            "right": null,
            "justify_content": null,
            "_view_module": "@jupyter-widgets/base",
            "overflow": null,
            "_model_module_version": "1.2.0",
            "_view_count": null,
            "flex_flow": null,
            "width": null,
            "min_width": null,
            "border": null,
            "align_items": null,
            "bottom": null,
            "_model_module": "@jupyter-widgets/base",
            "top": null,
            "grid_column": null,
            "overflow_y": null,
            "overflow_x": null,
            "grid_auto_flow": null,
            "grid_area": null,
            "grid_template_columns": null,
            "flex": null,
            "_model_name": "LayoutModel",
            "justify_items": null,
            "grid_row": null,
            "max_height": null,
            "align_content": null,
            "visibility": null,
            "align_self": null,
            "height": null,
            "min_height": null,
            "padding": null,
            "grid_auto_rows": null,
            "grid_gap": null,
            "max_width": null,
            "order": null,
            "_view_module_version": "1.2.0",
            "grid_template_areas": null,
            "object_position": null,
            "object_fit": null,
            "grid_auto_columns": null,
            "margin": null,
            "display": null,
            "left": null
          }
        }
      }
    }
  },
  "cells": [
    {
      "cell_type": "markdown",
      "metadata": {
        "id": "view-in-github",
        "colab_type": "text"
      },
      "source": [
        "<a href=\"https://colab.research.google.com/github/bhadreshpsavani/NLP-Notes/blob/master/NaturalQAT5BaselineModel.ipynb\" target=\"_parent\"><img src=\"https://colab.research.google.com/assets/colab-badge.svg\" alt=\"Open In Colab\"/></a>"
      ]
    },
    {
      "cell_type": "markdown",
      "metadata": {
        "id": "MLswNjypWxnl",
        "colab_type": "text"
      },
      "source": [
        "## Imports"
      ]
    },
    {
      "cell_type": "code",
      "metadata": {
        "id": "x7RfIkXPXMY6",
        "colab_type": "code",
        "colab": {
          "base_uri": "https://localhost:8080/",
          "height": 118
        },
        "outputId": "11fe4ce2-51c3-4562-916a-f444a588484c"
      },
      "source": [
        "!git clone https://github.com/efficientqa/nq-open.git"
      ],
      "execution_count": 1,
      "outputs": [
        {
          "output_type": "stream",
          "text": [
            "Cloning into 'nq-open'...\n",
            "remote: Enumerating objects: 7, done.\u001b[K\n",
            "remote: Counting objects: 100% (7/7), done.\u001b[K\n",
            "remote: Compressing objects: 100% (6/6), done.\u001b[K\n",
            "remote: Total 7 (delta 0), reused 7 (delta 0), pack-reused 0\u001b[K\n",
            "Unpacking objects: 100% (7/7), done.\n"
          ],
          "name": "stdout"
        }
      ]
    },
    {
      "cell_type": "code",
      "metadata": {
        "trusted": true,
        "id": "uQUiBk8eWxnn",
        "colab_type": "code",
        "colab": {
          "base_uri": "https://localhost:8080/",
          "height": 302
        },
        "outputId": "cfd7792a-6529-43f7-f58f-5e092cfd1134"
      },
      "source": [
        "!pip install transformers -q\n",
        "!pip install wandb -q"
      ],
      "execution_count": 2,
      "outputs": [
        {
          "output_type": "stream",
          "text": [
            "\u001b[K     |████████████████████████████████| 778kB 3.5MB/s \n",
            "\u001b[K     |████████████████████████████████| 890kB 10.9MB/s \n",
            "\u001b[K     |████████████████████████████████| 1.1MB 23.7MB/s \n",
            "\u001b[K     |████████████████████████████████| 3.0MB 32.5MB/s \n",
            "\u001b[?25h  Building wheel for sacremoses (setup.py) ... \u001b[?25l\u001b[?25hdone\n",
            "\u001b[K     |████████████████████████████████| 1.4MB 3.5MB/s \n",
            "\u001b[K     |████████████████████████████████| 163kB 20.9MB/s \n",
            "\u001b[K     |████████████████████████████████| 102kB 7.5MB/s \n",
            "\u001b[K     |████████████████████████████████| 102kB 8.1MB/s \n",
            "\u001b[K     |████████████████████████████████| 112kB 18.3MB/s \n",
            "\u001b[K     |████████████████████████████████| 71kB 7.0MB/s \n",
            "\u001b[K     |████████████████████████████████| 71kB 6.7MB/s \n",
            "\u001b[?25h  Building wheel for subprocess32 (setup.py) ... \u001b[?25l\u001b[?25hdone\n",
            "  Building wheel for watchdog (setup.py) ... \u001b[?25l\u001b[?25hdone\n",
            "  Building wheel for gql (setup.py) ... \u001b[?25l\u001b[?25hdone\n",
            "  Building wheel for pathtools (setup.py) ... \u001b[?25l\u001b[?25hdone\n",
            "  Building wheel for graphql-core (setup.py) ... \u001b[?25l\u001b[?25hdone\n"
          ],
          "name": "stdout"
        }
      ]
    },
    {
      "cell_type": "code",
      "metadata": {
        "trusted": true,
        "id": "8DnTpb0eWxnt",
        "colab_type": "code",
        "colab": {
          "base_uri": "https://localhost:8080/",
          "height": 34
        },
        "outputId": "04f801ff-febd-4c1b-bc0f-a79df3795eef"
      },
      "source": [
        "# This Python 3 environment comes with many helpful analytics libraries installed\n",
        "# It is defined by the kaggle/python Docker image: https://github.com/kaggle/docker-python\n",
        "# For example, here's several helpful packages to load\n",
        "\n",
        "import numpy as np # linear algebra\n",
        "import pandas as pd # data processing, CSV file I/O (e.g. pd.read_csv)\n",
        "import json\n",
        "# Input data files are available in the read-only \"../input/\" directory\n",
        "# For example, running this (by clicking run or pressing Shift+Enter) will list all files under the input directory\n",
        "\n",
        "import os\n",
        "# You can write up to 5GB to the current directory (/kaggle/working/) that gets preserved as output when you create a version using \"Save & Run All\" \n",
        "# You can also write temporary files to /kaggle/temp/, but they won't be saved outside of the current session\n",
        "\n",
        "import torch\n",
        "import torch.nn.functional as F\n",
        "from torch.utils.data import Dataset, DataLoader, RandomSampler, SequentialSampler\n",
        "\n",
        "# Importing the T5 modules from huggingface/transformers\n",
        "from transformers import T5Tokenizer, T5ForConditionalGeneration"
      ],
      "execution_count": 3,
      "outputs": [
        {
          "output_type": "stream",
          "text": [
            "\u001b[34m\u001b[1mwandb\u001b[0m: \u001b[33mWARNING\u001b[0m W&B installed but not logged in.  Run `wandb login` or set the WANDB_API_KEY env variable.\n"
          ],
          "name": "stderr"
        }
      ]
    },
    {
      "cell_type": "code",
      "metadata": {
        "trusted": true,
        "id": "cqedbExoWxnw",
        "colab_type": "code",
        "colab": {
          "base_uri": "https://localhost:8080/",
          "height": 353
        },
        "outputId": "7a32d5ed-2980-413d-93bf-91462ffaa6f5"
      },
      "source": [
        "# Checking out the GPU we have access to. This is output is from the google colab version. \n",
        "!nvidia-smi"
      ],
      "execution_count": 4,
      "outputs": [
        {
          "output_type": "stream",
          "text": [
            "Thu Aug  6 06:05:06 2020       \n",
            "+-----------------------------------------------------------------------------+\n",
            "| NVIDIA-SMI 450.57       Driver Version: 418.67       CUDA Version: 10.1     |\n",
            "|-------------------------------+----------------------+----------------------+\n",
            "| GPU  Name        Persistence-M| Bus-Id        Disp.A | Volatile Uncorr. ECC |\n",
            "| Fan  Temp  Perf  Pwr:Usage/Cap|         Memory-Usage | GPU-Util  Compute M. |\n",
            "|                               |                      |               MIG M. |\n",
            "|===============================+======================+======================|\n",
            "|   0  Tesla K80           Off  | 00000000:00:04.0 Off |                    0 |\n",
            "| N/A   38C    P8    26W / 149W |      0MiB / 11441MiB |      0%      Default |\n",
            "|                               |                      |                 ERR! |\n",
            "+-------------------------------+----------------------+----------------------+\n",
            "                                                                               \n",
            "+-----------------------------------------------------------------------------+\n",
            "| Processes:                                                                  |\n",
            "|  GPU   GI   CI        PID   Type   Process name                  GPU Memory |\n",
            "|        ID   ID                                                   Usage      |\n",
            "|=============================================================================|\n",
            "|  No running processes found                                                 |\n",
            "+-----------------------------------------------------------------------------+\n"
          ],
          "name": "stdout"
        }
      ]
    },
    {
      "cell_type": "code",
      "metadata": {
        "trusted": true,
        "id": "JOVKYkMCWxny",
        "colab_type": "code",
        "colab": {
          "base_uri": "https://localhost:8080/",
          "height": 34
        },
        "outputId": "97360263-0293-47ee-97bd-dd086af0c322"
      },
      "source": [
        "# # Setting up the device for GPU usage\n",
        "from torch import cuda\n",
        "device = 'cuda' if cuda.is_available() else 'cpu'\n",
        "\n",
        "# Preparing for TPU usage\n",
        "# import torch_xla\n",
        "# import torch_xla.core.xla_model as xm\n",
        "# device = xm.xla_device()\n",
        "\n",
        "print(device)"
      ],
      "execution_count": 5,
      "outputs": [
        {
          "output_type": "stream",
          "text": [
            "cuda\n"
          ],
          "name": "stdout"
        }
      ]
    },
    {
      "cell_type": "markdown",
      "metadata": {
        "id": "KaXGr0fQWxn1",
        "colab_type": "text"
      },
      "source": [
        "## Data Exploration"
      ]
    },
    {
      "cell_type": "code",
      "metadata": {
        "trusted": true,
        "id": "1_2jTl5OWxn2",
        "colab_type": "code",
        "colab": {
          "base_uri": "https://localhost:8080/",
          "height": 195
        },
        "outputId": "0913dd33-db51-4c76-fd69-803c51283c2a"
      },
      "source": [
        "train_df = pd.read_json(\"nq-open/NQ-open.train.jsonl\", orient='columns', lines=True)\n",
        "train_df.head()"
      ],
      "execution_count": 6,
      "outputs": [
        {
          "output_type": "execute_result",
          "data": {
            "text/html": [
              "<div>\n",
              "<style scoped>\n",
              "    .dataframe tbody tr th:only-of-type {\n",
              "        vertical-align: middle;\n",
              "    }\n",
              "\n",
              "    .dataframe tbody tr th {\n",
              "        vertical-align: top;\n",
              "    }\n",
              "\n",
              "    .dataframe thead th {\n",
              "        text-align: right;\n",
              "    }\n",
              "</style>\n",
              "<table border=\"1\" class=\"dataframe\">\n",
              "  <thead>\n",
              "    <tr style=\"text-align: right;\">\n",
              "      <th></th>\n",
              "      <th>answer</th>\n",
              "      <th>question</th>\n",
              "    </tr>\n",
              "  </thead>\n",
              "  <tbody>\n",
              "    <tr>\n",
              "      <th>0</th>\n",
              "      <td>[Fernie Alpine Resort]</td>\n",
              "      <td>where did they film hot tub time machine</td>\n",
              "    </tr>\n",
              "    <tr>\n",
              "      <th>1</th>\n",
              "      <td>[Neither vessel]</td>\n",
              "      <td>who has the right of way in international waters</td>\n",
              "    </tr>\n",
              "    <tr>\n",
              "      <th>2</th>\n",
              "      <td>[Marley]</td>\n",
              "      <td>who does annie work for attack on titan</td>\n",
              "    </tr>\n",
              "    <tr>\n",
              "      <th>3</th>\n",
              "      <td>[November 6, 1986]</td>\n",
              "      <td>when was the immigration reform and control ac...</td>\n",
              "    </tr>\n",
              "    <tr>\n",
              "      <th>4</th>\n",
              "      <td>[1950]</td>\n",
              "      <td>when was puerto rico added to the usa</td>\n",
              "    </tr>\n",
              "  </tbody>\n",
              "</table>\n",
              "</div>"
            ],
            "text/plain": [
              "                   answer                                           question\n",
              "0  [Fernie Alpine Resort]           where did they film hot tub time machine\n",
              "1        [Neither vessel]   who has the right of way in international waters\n",
              "2                [Marley]            who does annie work for attack on titan\n",
              "3      [November 6, 1986]  when was the immigration reform and control ac...\n",
              "4                  [1950]              when was puerto rico added to the usa"
            ]
          },
          "metadata": {
            "tags": []
          },
          "execution_count": 6
        }
      ]
    },
    {
      "cell_type": "code",
      "metadata": {
        "trusted": true,
        "id": "Fx99LTNRWxn5",
        "colab_type": "code",
        "colab": {
          "base_uri": "https://localhost:8080/",
          "height": 195
        },
        "outputId": "ccb75835-3f08-4b11-d32f-a719d3aa5ef9"
      },
      "source": [
        "dev_df = pd.read_json(\"nq-open/NQ-open.dev.jsonl\", orient='columns', lines=True)\n",
        "dev_df.head()"
      ],
      "execution_count": 7,
      "outputs": [
        {
          "output_type": "execute_result",
          "data": {
            "text/html": [
              "<div>\n",
              "<style scoped>\n",
              "    .dataframe tbody tr th:only-of-type {\n",
              "        vertical-align: middle;\n",
              "    }\n",
              "\n",
              "    .dataframe tbody tr th {\n",
              "        vertical-align: top;\n",
              "    }\n",
              "\n",
              "    .dataframe thead th {\n",
              "        text-align: right;\n",
              "    }\n",
              "</style>\n",
              "<table border=\"1\" class=\"dataframe\">\n",
              "  <thead>\n",
              "    <tr style=\"text-align: right;\">\n",
              "      <th></th>\n",
              "      <th>question</th>\n",
              "      <th>answer</th>\n",
              "    </tr>\n",
              "  </thead>\n",
              "  <tbody>\n",
              "    <tr>\n",
              "      <th>0</th>\n",
              "      <td>when was the last time anyone was on the moon</td>\n",
              "      <td>[14 December 1972 UTC, December 1972]</td>\n",
              "    </tr>\n",
              "    <tr>\n",
              "      <th>1</th>\n",
              "      <td>who wrote he ain't heavy he's my brother lyrics</td>\n",
              "      <td>[Bobby Scott, Bob Russell]</td>\n",
              "    </tr>\n",
              "    <tr>\n",
              "      <th>2</th>\n",
              "      <td>how many seasons of the bastard executioner ar...</td>\n",
              "      <td>[one, one season]</td>\n",
              "    </tr>\n",
              "    <tr>\n",
              "      <th>3</th>\n",
              "      <td>when did the eagles win last super bowl</td>\n",
              "      <td>[2017]</td>\n",
              "    </tr>\n",
              "    <tr>\n",
              "      <th>4</th>\n",
              "      <td>who won last year's ncaa women's basketball</td>\n",
              "      <td>[South Carolina]</td>\n",
              "    </tr>\n",
              "  </tbody>\n",
              "</table>\n",
              "</div>"
            ],
            "text/plain": [
              "                                            question                                 answer\n",
              "0      when was the last time anyone was on the moon  [14 December 1972 UTC, December 1972]\n",
              "1    who wrote he ain't heavy he's my brother lyrics             [Bobby Scott, Bob Russell]\n",
              "2  how many seasons of the bastard executioner ar...                      [one, one season]\n",
              "3            when did the eagles win last super bowl                                 [2017]\n",
              "4        who won last year's ncaa women's basketball                       [South Carolina]"
            ]
          },
          "metadata": {
            "tags": []
          },
          "execution_count": 7
        }
      ]
    },
    {
      "cell_type": "code",
      "metadata": {
        "trusted": true,
        "id": "nrWsBkgLWxn8",
        "colab_type": "code",
        "colab": {
          "base_uri": "https://localhost:8080/",
          "height": 319
        },
        "outputId": "73140f33-3dad-4cd2-9ade-0f7fb1d1d793"
      },
      "source": [
        "number_of_answers = pd.Series([len(train_df['answer'][i]) for i in range(len(train_df['answer']))])\n",
        "number_of_answers.value_counts()"
      ],
      "execution_count": 8,
      "outputs": [
        {
          "output_type": "execute_result",
          "data": {
            "text/plain": [
              "1     79300\n",
              "2      4488\n",
              "3      1710\n",
              "4       895\n",
              "5       512\n",
              "6       310\n",
              "7       245\n",
              "8       175\n",
              "10      137\n",
              "9       132\n",
              "12       12\n",
              "11        3\n",
              "21        2\n",
              "13        1\n",
              "15        1\n",
              "18        1\n",
              "25        1\n",
              "dtype: int64"
            ]
          },
          "metadata": {
            "tags": []
          },
          "execution_count": 8
        }
      ]
    },
    {
      "cell_type": "code",
      "metadata": {
        "trusted": true,
        "id": "xNMtAPUjWxn-",
        "colab_type": "code",
        "colab": {
          "base_uri": "https://localhost:8080/",
          "height": 195
        },
        "outputId": "ec0773af-97eb-4b82-e638-386b3ff2e0cd"
      },
      "source": [
        "train_df['number_of_answers']=number_of_answers\n",
        "train_df.head()"
      ],
      "execution_count": 9,
      "outputs": [
        {
          "output_type": "execute_result",
          "data": {
            "text/html": [
              "<div>\n",
              "<style scoped>\n",
              "    .dataframe tbody tr th:only-of-type {\n",
              "        vertical-align: middle;\n",
              "    }\n",
              "\n",
              "    .dataframe tbody tr th {\n",
              "        vertical-align: top;\n",
              "    }\n",
              "\n",
              "    .dataframe thead th {\n",
              "        text-align: right;\n",
              "    }\n",
              "</style>\n",
              "<table border=\"1\" class=\"dataframe\">\n",
              "  <thead>\n",
              "    <tr style=\"text-align: right;\">\n",
              "      <th></th>\n",
              "      <th>answer</th>\n",
              "      <th>question</th>\n",
              "      <th>number_of_answers</th>\n",
              "    </tr>\n",
              "  </thead>\n",
              "  <tbody>\n",
              "    <tr>\n",
              "      <th>0</th>\n",
              "      <td>[Fernie Alpine Resort]</td>\n",
              "      <td>where did they film hot tub time machine</td>\n",
              "      <td>1</td>\n",
              "    </tr>\n",
              "    <tr>\n",
              "      <th>1</th>\n",
              "      <td>[Neither vessel]</td>\n",
              "      <td>who has the right of way in international waters</td>\n",
              "      <td>1</td>\n",
              "    </tr>\n",
              "    <tr>\n",
              "      <th>2</th>\n",
              "      <td>[Marley]</td>\n",
              "      <td>who does annie work for attack on titan</td>\n",
              "      <td>1</td>\n",
              "    </tr>\n",
              "    <tr>\n",
              "      <th>3</th>\n",
              "      <td>[November 6, 1986]</td>\n",
              "      <td>when was the immigration reform and control ac...</td>\n",
              "      <td>1</td>\n",
              "    </tr>\n",
              "    <tr>\n",
              "      <th>4</th>\n",
              "      <td>[1950]</td>\n",
              "      <td>when was puerto rico added to the usa</td>\n",
              "      <td>1</td>\n",
              "    </tr>\n",
              "  </tbody>\n",
              "</table>\n",
              "</div>"
            ],
            "text/plain": [
              "                   answer  ... number_of_answers\n",
              "0  [Fernie Alpine Resort]  ...                 1\n",
              "1        [Neither vessel]  ...                 1\n",
              "2                [Marley]  ...                 1\n",
              "3      [November 6, 1986]  ...                 1\n",
              "4                  [1950]  ...                 1\n",
              "\n",
              "[5 rows x 3 columns]"
            ]
          },
          "metadata": {
            "tags": []
          },
          "execution_count": 9
        }
      ]
    },
    {
      "cell_type": "markdown",
      "metadata": {
        "id": "R1rFHs2UWxoB",
        "colab_type": "text"
      },
      "source": [
        "## Data Preprocessing"
      ]
    },
    {
      "cell_type": "code",
      "metadata": {
        "trusted": true,
        "id": "LBlw5AosWxoB",
        "colab_type": "code",
        "colab": {
          "base_uri": "https://localhost:8080/",
          "height": 118
        },
        "outputId": "4a384a48-345d-4970-8410-6eb6b4d56d05"
      },
      "source": [
        "sample_questions = train_df['question'].head()\n",
        "sample_answers = train_df['answer'].head()\n",
        "sample_answers"
      ],
      "execution_count": 10,
      "outputs": [
        {
          "output_type": "execute_result",
          "data": {
            "text/plain": [
              "0    [Fernie Alpine Resort]\n",
              "1          [Neither vessel]\n",
              "2                  [Marley]\n",
              "3        [November 6, 1986]\n",
              "4                    [1950]\n",
              "Name: answer, dtype: object"
            ]
          },
          "metadata": {
            "tags": []
          },
          "execution_count": 10
        }
      ]
    },
    {
      "cell_type": "code",
      "metadata": {
        "trusted": true,
        "id": "gJ1kYkDQWxoE",
        "colab_type": "code",
        "colab": {
          "base_uri": "https://localhost:8080/",
          "height": 66,
          "referenced_widgets": [
            "e4f6f1acbf0f42cbacc9c4589aa70290",
            "e03f6a671b154b36bbf013922cf38f23",
            "ab2a836e32f94075938a3a70470a7fe9",
            "2e1d9152c12c453daec36ff62cf9c241",
            "75dc2c460f30468fb69dab1bafa56a55",
            "963dcf46033741338ed8113343cb73cc",
            "b72f0501ae274dcd9101841beead668e",
            "a0b232fa6a334715b469144545707001"
          ]
        },
        "outputId": "131ff328-07a6-4e75-f345-0cbaa162ebb8"
      },
      "source": [
        "tokenizer = T5Tokenizer.from_pretrained(\"t5-small\")"
      ],
      "execution_count": 11,
      "outputs": [
        {
          "output_type": "display_data",
          "data": {
            "application/vnd.jupyter.widget-view+json": {
              "model_id": "e4f6f1acbf0f42cbacc9c4589aa70290",
              "version_minor": 0,
              "version_major": 2
            },
            "text/plain": [
              "HBox(children=(FloatProgress(value=0.0, description='Downloading', max=791656.0, style=ProgressStyle(descripti…"
            ]
          },
          "metadata": {
            "tags": []
          }
        },
        {
          "output_type": "stream",
          "text": [
            "\n"
          ],
          "name": "stdout"
        }
      ]
    },
    {
      "cell_type": "code",
      "metadata": {
        "trusted": true,
        "id": "UQfpQdLhWxoM",
        "colab_type": "code",
        "colab": {
          "base_uri": "https://localhost:8080/",
          "height": 50
        },
        "outputId": "fb89a5c6-19c4-4b92-f0c7-fecd7f68cb7f"
      },
      "source": [
        "print(sample_questions[0])\n",
        "tokenizer.encode(sample_questions[0])"
      ],
      "execution_count": 12,
      "outputs": [
        {
          "output_type": "stream",
          "text": [
            "where did they film hot tub time machine\n"
          ],
          "name": "stdout"
        },
        {
          "output_type": "execute_result",
          "data": {
            "text/plain": [
              "[213, 410, 79, 814, 1312, 6244, 97, 1437]"
            ]
          },
          "metadata": {
            "tags": []
          },
          "execution_count": 12
        }
      ]
    },
    {
      "cell_type": "code",
      "metadata": {
        "trusted": true,
        "id": "jDu94HDQWxoS",
        "colab_type": "code",
        "colab": {
          "base_uri": "https://localhost:8080/",
          "height": 35
        },
        "outputId": "f07835b4-1f18-4027-d916-043ad65a7d60"
      },
      "source": [
        "tokenizer.sep_token=\"<sep>\"\n",
        "tokenizer.sep_token"
      ],
      "execution_count": 13,
      "outputs": [
        {
          "output_type": "execute_result",
          "data": {
            "application/vnd.google.colaboratory.intrinsic+json": {
              "type": "string"
            },
            "text/plain": [
              "'<sep>'"
            ]
          },
          "metadata": {
            "tags": []
          },
          "execution_count": 13
        }
      ]
    },
    {
      "cell_type": "code",
      "metadata": {
        "trusted": true,
        "id": "VFn7T2z5WxoY",
        "colab_type": "code",
        "colab": {
          "base_uri": "https://localhost:8080/",
          "height": 34
        },
        "outputId": "6cdf6185-8378-4ea6-e4e5-6d8d25c39653"
      },
      "source": [
        "sample_answers[4]"
      ],
      "execution_count": 14,
      "outputs": [
        {
          "output_type": "execute_result",
          "data": {
            "text/plain": [
              "['1950']"
            ]
          },
          "metadata": {
            "tags": []
          },
          "execution_count": 14
        }
      ]
    },
    {
      "cell_type": "code",
      "metadata": {
        "trusted": true,
        "id": "ZY-lJg3RWxog",
        "colab_type": "code",
        "colab": {
          "base_uri": "https://localhost:8080/",
          "height": 118
        },
        "outputId": "d6a4e95f-5d30-48d1-ddd4-de35a4cd6171"
      },
      "source": [
        "multi_answers = train_df.query('number_of_answers>1')['answer']\n",
        "multi_answers.head()"
      ],
      "execution_count": 15,
      "outputs": [
        {
          "output_type": "execute_result",
          "data": {
            "text/plain": [
              "7     [Mangaung Metropolitan Municipality, Nelson Ma...\n",
              "13                           [\"Buzz\" Brainard, Cameron]\n",
              "16                        [Sadie Sandler, Selena Gomez]\n",
              "17                                  [768 (HD), 68 (SD)]\n",
              "20            [Martin Peters, Geoff Hurst, Bobby Moore]\n",
              "Name: answer, dtype: object"
            ]
          },
          "metadata": {
            "tags": []
          },
          "execution_count": 15
        }
      ]
    },
    {
      "cell_type": "markdown",
      "metadata": {
        "id": "9B0oy0buWxom",
        "colab_type": "text"
      },
      "source": [
        "## DataProcessing"
      ]
    },
    {
      "cell_type": "code",
      "metadata": {
        "trusted": true,
        "id": "z_micDerWxon",
        "colab_type": "code",
        "colab": {
          "base_uri": "https://localhost:8080/",
          "height": 35
        },
        "outputId": "c9af0999-4104-4ac7-b082-76892f8f45f6"
      },
      "source": [
        "tokenizer.sep_token=\"<sep>\"\n",
        "tokenizer.sep_token"
      ],
      "execution_count": 16,
      "outputs": [
        {
          "output_type": "execute_result",
          "data": {
            "application/vnd.google.colaboratory.intrinsic+json": {
              "type": "string"
            },
            "text/plain": [
              "'<sep>'"
            ]
          },
          "metadata": {
            "tags": []
          },
          "execution_count": 16
        }
      ]
    },
    {
      "cell_type": "code",
      "metadata": {
        "trusted": true,
        "id": "S4hP-jtcWxoq",
        "colab_type": "code",
        "colab": {}
      },
      "source": [
        "# Creating a custom dataset for reading the dataframe and loading it into the dataloader to pass it to the neural network at a later stage for finetuning the model and to prepare it for predictions\n",
        "\n",
        "class CustomDataset(Dataset):\n",
        "\n",
        "    def __init__(self, dataframe, tokenizer, source_len):\n",
        "        self.tokenizer = tokenizer\n",
        "        self.data = dataframe\n",
        "        self.source_len = source_len\n",
        "        self.question = self.data.question\n",
        "        self.answer = self.data.answer\n",
        "\n",
        "    def __len__(self):\n",
        "        return len(self.question)\n",
        "\n",
        "    def __getitem__(self, index):\n",
        "        question = str(self.question[index])\n",
        "        question = 'trivia question: '+' '.join(question.split())+'? </s>'\n",
        "        answer = ' '.join(self.answer[index]) + \" </s>\"\n",
        "        answer = ' '.join(answer.split())\n",
        "        \n",
        "        print(question, \" : \", answer)\n",
        "        # print(question,\":\",answer)\n",
        "        \n",
        "        source = self.tokenizer.batch_encode_plus(\n",
        "            [question], \n",
        "            max_length= self.source_len,\n",
        "            add_special_tokens=True,\n",
        "            return_special_tokens_mask=True,\n",
        "            truncation=True, \n",
        "            pad_to_max_length=True,\n",
        "            return_tensors='pt')\n",
        "        \n",
        "        target = self.tokenizer.batch_encode_plus(\n",
        "            [answer], \n",
        "            max_length= self.source_len, \n",
        "            add_special_tokens=True,\n",
        "            return_special_tokens_mask=True,\n",
        "            truncation=True,\n",
        "            pad_to_max_length=True,\n",
        "            return_tensors='pt')\n",
        "        \n",
        "        source_ids = source['input_ids'].squeeze()\n",
        "        source_mask = source['attention_mask'].squeeze()\n",
        "        target_ids = target['input_ids'].squeeze()\n",
        "        target_mask = target['attention_mask'].squeeze()\n",
        "\n",
        "        return {\n",
        "            'source_ids': source_ids.to(dtype=torch.long), \n",
        "            'source_mask': source_mask.to(dtype=torch.long), \n",
        "            'target_ids': target_ids.to(dtype=torch.long),\n",
        "            'target_ids_y': target_ids.to(dtype=torch.long)\n",
        "        }"
      ],
      "execution_count": 107,
      "outputs": []
    },
    {
      "cell_type": "markdown",
      "metadata": {
        "id": "0bcpOFzNWxos",
        "colab_type": "text"
      },
      "source": [
        "## Training and Validation"
      ]
    },
    {
      "cell_type": "code",
      "metadata": {
        "trusted": true,
        "id": "rNP5k-6eWxot",
        "colab_type": "code",
        "colab": {}
      },
      "source": [
        "# Creating the training function. This will be called in the main function. It is run depending on the epoch value.\n",
        "# The model is put into train mode and then we wnumerate over the training loader and passed to the defined network \n",
        "\n",
        "def train(epoch, tokenizer, model, device, loader, optimizer):\n",
        "    model.train()\n",
        "    for _,data in enumerate(loader, 0):\n",
        "        y = data['target_ids'].to(device, dtype = torch.long)\n",
        "        y_ids = y[:, :-1].contiguous()\n",
        "        lm_labels = y[:, 1:].clone().detach()\n",
        "        lm_labels[y[:, 1:] == tokenizer.pad_token_id] = -100\n",
        "        ids = data['source_ids'].to(device, dtype = torch.long)\n",
        "        mask = data['source_mask'].to(device, dtype = torch.long)\n",
        "        outputs = model(input_ids = ids, attention_mask = mask, decoder_input_ids=y_ids, lm_labels=lm_labels)\n",
        "        loss = outputs[0]\n",
        "\n",
        "        if _%500==0:\n",
        "            print(f'Epoch: {epoch}, Loss:  {loss.item()}')\n",
        "        \n",
        "        optimizer.zero_grad()\n",
        "        loss.backward()\n",
        "        optimizer.step()\n",
        "        # xm.optimizer_step(optimizer)\n",
        "        # xm.mark_step()"
      ],
      "execution_count": 108,
      "outputs": []
    },
    {
      "cell_type": "code",
      "metadata": {
        "trusted": true,
        "id": "W4sU3adkWxov",
        "colab_type": "code",
        "colab": {}
      },
      "source": [
        "def validate(epoch, tokenizer, model, device, loader):\n",
        "    model.eval()\n",
        "    predictions = []\n",
        "    actuals = []\n",
        "    with torch.no_grad():\n",
        "        for _, data in enumerate(loader, 0):\n",
        "            y = data['target_ids'].to(device, dtype = torch.long)\n",
        "            ids = data['source_ids'].to(device, dtype = torch.long)\n",
        "            mask = data['source_mask'].to(device, dtype = torch.long)\n",
        "                \n",
        "            generated_ids = model.generate(\n",
        "                input_ids = ids,\n",
        "                attention_mask = mask, \n",
        "                max_length=150, \n",
        "                repetition_penalty=5.0, \n",
        "                length_penalty=2.0, \n",
        "                early_stopping=True\n",
        "                )\n",
        "            \n",
        "            preds = [tokenizer.decode(g) for g in generated_ids]\n",
        "            target = [tokenizer.decode(t) for t in y]\n",
        "            \n",
        "            if _%100==0:\n",
        "                print(f'Completed {_}')\n",
        "\n",
        "            predictions.extend(preds)\n",
        "            actuals.extend(target)\n",
        "    return predictions, actuals"
      ],
      "execution_count": 109,
      "outputs": []
    },
    {
      "cell_type": "code",
      "metadata": {
        "trusted": true,
        "id": "GNrmIDHbWxox",
        "colab_type": "code",
        "colab": {}
      },
      "source": [
        "TRAIN_BATCH_SIZE = 2    # input batch size for training (default: 64)\n",
        "VALID_BATCH_SIZE = 2    # input batch size for testing (default: 1000)\n",
        "TRAIN_EPOCHS = 2\n",
        "# number of epochs to train (default: 10)\n",
        "VAL_EPOCHS = 1 \n",
        "LEARNING_RATE = 1e-4    # learning rate (default: 0.01)\n",
        "SEED = 42               # random seed (default: 42)\n",
        "MAX_LEN = 512\n",
        "\n",
        "# Set random seeds and deterministic pytorch for reproducibility\n",
        "torch.manual_seed(SEED) # pytorch random seed\n",
        "np.random.seed(SEED) # numpy random seed\n",
        "torch.backends.cudnn.deterministic = True\n",
        "\n",
        "# tokenzier for encoding the text\n",
        "tokenizer = T5Tokenizer.from_pretrained(\"t5-small\")"
      ],
      "execution_count": 110,
      "outputs": []
    },
    {
      "cell_type": "code",
      "metadata": {
        "trusted": true,
        "id": "bFf1lP56Wxoz",
        "colab_type": "code",
        "colab": {
          "base_uri": "https://localhost:8080/",
          "height": 67
        },
        "outputId": "52c32dcf-0ab5-4c88-f780-92009f8c034f"
      },
      "source": [
        "# Creation of Dataset and Dataloader\n",
        "# Defining the train size. So 80% of the data will be used for training and the rest will be used for validation. \n",
        "train_size = 0.95\n",
        "train_df = pd.read_json(\"nq-open/NQ-open.train.jsonl\", orient='columns', lines=True)\n",
        "train_df = train_df[:5000]\n",
        "train_dataset=train_df.sample(frac=train_size, random_state = SEED).reset_index(drop=True)\n",
        "val_dataset=train_df.drop(train_dataset.index).reset_index(drop=True)\n",
        "val_dataset = val_dataset\n",
        "print(\"FULL Dataset: {}\".format(train_df.shape))\n",
        "print(\"TRAIN Dataset: {}\".format(train_dataset.shape))\n",
        "print(\"TEST Dataset: {}\".format(val_dataset.shape))"
      ],
      "execution_count": 111,
      "outputs": [
        {
          "output_type": "stream",
          "text": [
            "FULL Dataset: (5000, 2)\n",
            "TRAIN Dataset: (4750, 2)\n",
            "TEST Dataset: (250, 2)\n"
          ],
          "name": "stdout"
        }
      ]
    },
    {
      "cell_type": "code",
      "metadata": {
        "trusted": true,
        "id": "hu32EDRtWxo1",
        "colab_type": "code",
        "colab": {}
      },
      "source": [
        "# Creating the Training and Validation dataset for further creation of Dataloader\n",
        "training_set = CustomDataset(train_dataset, tokenizer, MAX_LEN)\n",
        "val_set = CustomDataset(val_dataset, tokenizer, MAX_LEN)\n",
        "\n",
        "# Defining the parameters for creation of dataloaders\n",
        "train_params = {\n",
        "    'batch_size': TRAIN_BATCH_SIZE,\n",
        "    'shuffle': True,\n",
        "    'num_workers': 0\n",
        "    }\n",
        "\n",
        "val_params = {\n",
        "    'batch_size': VALID_BATCH_SIZE,\n",
        "    'shuffle': False,\n",
        "    'num_workers': 0\n",
        "    }\n",
        "\n",
        "# Creation of Dataloaders for testing and validation. This will be used down for training and validation stage for the model.\n",
        "training_loader = DataLoader(training_set, **train_params)\n",
        "val_loader = DataLoader(val_set, **val_params)"
      ],
      "execution_count": 112,
      "outputs": []
    },
    {
      "cell_type": "code",
      "metadata": {
        "trusted": true,
        "id": "DfVqiNcpWxo3",
        "colab_type": "code",
        "colab": {}
      },
      "source": [
        "# for itm in training_loader:\n",
        "#     print()"
      ],
      "execution_count": 113,
      "outputs": []
    },
    {
      "cell_type": "code",
      "metadata": {
        "trusted": true,
        "id": "goA7koCjWxo5",
        "colab_type": "code",
        "colab": {
          "base_uri": "https://localhost:8080/",
          "height": 134
        },
        "outputId": "e8d80bbc-b94d-4e30-bdf6-5194e9fea31d"
      },
      "source": [
        "for itm in val_loader:\n",
        "    print(itm)\n",
        "    break"
      ],
      "execution_count": 116,
      "outputs": [
        {
          "output_type": "stream",
          "text": [
            "trivia question: where is this year's world cup being held? </s>  :  Russia </s>\n",
            "trivia question: where was the first motte and bailey castle built? </s>  :  northern Europe </s>\n",
            "{'source_ids': tensor([[22377,   822,    10,  ...,     0,     0,     0],\n",
            "        [22377,   822,    10,  ...,     0,     0,     0]]), 'source_mask': tensor([[1, 1, 1,  ..., 0, 0, 0],\n",
            "        [1, 1, 1,  ..., 0, 0, 0]]), 'target_ids': tensor([[4623,    1,    0,  ...,    0,    0,    0],\n",
            "        [8390, 1740,    1,  ...,    0,    0,    0]]), 'target_ids_y': tensor([[4623,    1,    0,  ...,    0,    0,    0],\n",
            "        [8390, 1740,    1,  ...,    0,    0,    0]])}\n"
          ],
          "name": "stdout"
        }
      ]
    },
    {
      "cell_type": "code",
      "metadata": {
        "trusted": true,
        "id": "1cvFhbkOWxo8",
        "colab_type": "code",
        "colab": {
          "base_uri": "https://localhost:8080/",
          "height": 70
        },
        "outputId": "95a93590-531d-4b49-c9b7-f9182c12a08a"
      },
      "source": [
        "# Defining the model. We are using t5-base model and added a Language model layer on top for generation of Summary. \n",
        "# Further this model is sent to device (GPU/TPU) for using the hardware.\n",
        "model = T5ForConditionalGeneration.from_pretrained(\"t5-small\")\n",
        "model = model.to(device)\n",
        "\n",
        "# Defining the optimizer that will be used to tune the weights of the network in the training session. \n",
        "optimizer = torch.optim.Adam(params =  model.parameters(), lr=LEARNING_RATE)"
      ],
      "execution_count": 105,
      "outputs": [
        {
          "output_type": "stream",
          "text": [
            "Some weights of T5ForConditionalGeneration were not initialized from the model checkpoint at t5-small and are newly initialized: ['encoder.embed_tokens.weight', 'decoder.embed_tokens.weight', 'lm_head.weight']\n",
            "You should probably TRAIN this model on a down-stream task to be able to use it for predictions and inference.\n"
          ],
          "name": "stderr"
        }
      ]
    },
    {
      "cell_type": "code",
      "metadata": {
        "trusted": true,
        "id": "jScqOclTWxo-",
        "colab_type": "code",
        "colab": {
          "base_uri": "https://localhost:8080/",
          "height": 202
        },
        "outputId": "f25e8dba-f8d5-4e1c-d7ff-06424e0dbe28"
      },
      "source": [
        "#Training loop\n",
        "print('Initiating Fine-Tuning for the model on our dataset')\n",
        "\n",
        "for epoch in range(TRAIN_EPOCHS):\n",
        "    train(epoch, tokenizer, model, device, training_loader, optimizer)"
      ],
      "execution_count": 106,
      "outputs": [
        {
          "output_type": "stream",
          "text": [
            "Initiating Fine-Tuning for the model on our dataset\n",
            "Epoch: 0, Loss:  7.596241474151611\n",
            "Epoch: 0, Loss:  2.5164263248443604\n",
            "Epoch: 0, Loss:  3.5921876430511475\n",
            "Epoch: 0, Loss:  1.9035779237747192\n",
            "Epoch: 0, Loss:  3.5881741046905518\n",
            "Epoch: 1, Loss:  2.7576749324798584\n",
            "Epoch: 1, Loss:  3.7929913997650146\n",
            "Epoch: 1, Loss:  3.9594757556915283\n",
            "Epoch: 1, Loss:  4.681192398071289\n",
            "Epoch: 1, Loss:  3.077524423599243\n"
          ],
          "name": "stdout"
        }
      ]
    },
    {
      "cell_type": "code",
      "metadata": {
        "trusted": true,
        "id": "Som6JGIQWxpB",
        "colab_type": "code",
        "colab": {
          "base_uri": "https://localhost:8080/",
          "height": 1000
        },
        "outputId": "2ce92726-469e-46b1-bebd-018066b3f344"
      },
      "source": [
        "# Validation loop and saving the resulting file with predictions and acutals in a dataframe.\n",
        "# Saving the dataframe as predictions.csv\n",
        "print('Now generating summaries on our fine tuned model for the validation dataset and saving it in a dataframe')\n",
        "predictions, actuals = validate(epoch, tokenizer, model, device, val_loader)\n",
        "final_df = pd.DataFrame({'Generated Text':predictions,'Actual Text':actuals})"
      ],
      "execution_count": 117,
      "outputs": [
        {
          "output_type": "stream",
          "text": [
            "Now generating summaries on our fine tuned model for the validation dataset and saving it in a dataframe\n",
            "trivia question: where is this year's world cup being held? </s>  :  Russia </s>\n",
            "trivia question: where was the first motte and bailey castle built? </s>  :  northern Europe </s>\n",
            "Completed 0\n",
            "trivia question: who won the intercontinental championship on monday night raw? </s>  :  The Miz </s>\n",
            "trivia question: the great and small cardiac veins deliver their blood to what vessel? </s>  :  coronary sinus </s>\n",
            "trivia question: who are the architects the athenian acropolis and who was in charge of the sculptural program? </s>  :  Phidias Pericles </s>\n",
            "trivia question: what was julie's job on the love boat? </s>  :  Cruise Director </s>\n",
            "trivia question: who won the womens world cup in 2015? </s>  :  the United States </s>\n",
            "trivia question: what language do they speak in the country of georgia? </s>  :  Georgian </s>\n",
            "trivia question: which place in india receives highest rainfall in the world? </s>  :  Cherrapunji </s>\n",
            "trivia question: who sang the theme song to all that? </s>  :  TLC </s>\n",
            "trivia question: who sings this lullaby queens of the stone age? </s>  :  Mark Lanegan </s>\n",
            "trivia question: when did the tv show swat come out? </s>  :  1975 </s>\n",
            "trivia question: how many seats are there in parliament nz? </s>  :  120 </s>\n",
            "trivia question: who are the republican candidates running for governor of illinois? </s>  :  Evelyn Sanguinetti Bruce Rauner </s>\n",
            "trivia question: when was the first horse drawn carriage invented? </s>  :  First century BC </s>\n",
            "trivia question: what allies suffered the greatest military and civilian loss of life during world war ii? </s>  :  Soviet Union </s>\n",
            "trivia question: who sang i've got a brand new pair of roller skates? </s>  :  folk music singer Melanie </s>\n",
            "trivia question: who helped bring about the breakup of the standard oil monopoly? </s>  :  the United States Supreme Court </s>\n",
            "trivia question: who played private ryan in the action film saving private ryan? </s>  :  Matt Damon </s>\n",
            "trivia question: what is used in measuring the direction of the wind? </s>  :  Windsock Wind profiler Weather vane </s>\n",
            "trivia question: who played mario in super mario brothers movie? </s>  :  Bob Hoskins </s>\n",
            "trivia question: when did the us take possession of hawaii? </s>  :  1898 </s>\n",
            "trivia question: where does the bread and butter roast come from? </s>  :  chuck </s>\n",
            "trivia question: what were two american documents created based on enlightenment? </s>  :  the Declaration of Independence the United States Constitution </s>\n",
            "trivia question: how many seat are there in rajya sabha? </s>  :  250 </s>\n",
            "trivia question: when was the last time la dodgers won the world series? </s>  :  1988 </s>\n",
            "trivia question: who is the president of the united nations 2017? </s>  :  Miroslav Lajčák of Slovakia </s>\n",
            "trivia question: which team has the most championships in the nfl? </s>  :  The Green Bay Packers </s>\n",
            "trivia question: when was michael jackson off the wall released? </s>  :  August 10, 1979 </s>\n",
            "trivia question: when is the last time the celtics won a championship? </s>  :  2008 </s>\n",
            "trivia question: preamble of india is amended how many times? </s>  :  once </s>\n",
            "trivia question: who is chief of defence staff in india? </s>  :  Lieutenant General Satish Dua </s>\n",
            "trivia question: who wrote the book of hebrew in bible? </s>  :  Paul the Apostle </s>\n",
            "trivia question: who made the song i wish i was a baller? </s>  :  Skee-Lo </s>\n",
            "trivia question: who is narrating the vietnam documentary on pbs? </s>  :  Peter Coyote </s>\n",
            "trivia question: when is the last time the federal minimum wage was raised? </s>  :  October 2016 </s>\n",
            "trivia question: who plays anakin skywalker in the phantom menace? </s>  :  Jake Matthew Lloyd </s>\n",
            "trivia question: former world number one tennis player who coached roger federer in 2014? </s>  :  Stefan Bengt Edberg </s>\n",
            "trivia question: who plays faith on buffy the vampire slayer? </s>  :  Eliza Patricia Dushku </s>\n",
            "trivia question: when did look what u made me do come out? </s>  :  August 24, 2017 </s>\n",
            "trivia question: who is the writer of it's always sunny in philadelphia? </s>  :  Glenn Howerton Charlie Day Rob McElhenney </s>\n",
            "trivia question: blind spot is located in the area of the retina? </s>  :  12–15° temporally 1.5° below the horizontal </s>\n",
            "trivia question: when did the dji phantom 3 come out? </s>  :  April 2015 </s>\n",
            "trivia question: who played the opera singer in the fifth element? </s>  :  Maïwenn Le Besco </s>\n",
            "trivia question: which book of prophecy was the ethiopian eunuch reading from? </s>  :  Book of Isaiah </s>\n",
            "trivia question: who was involved in the 1938 day of mourning? </s>  :  Aboriginal people non-Indigenous supporters </s>\n",
            "trivia question: who made the song i can't make you love me? </s>  :  Allen Shamblin Mike Reid </s>\n",
            "trivia question: what is the population of stone mountain georgia? </s>  :  5,802 </s>\n",
            "trivia question: when was the last time the chicago white sox won a world series? </s>  :  2005 </s>\n",
            "trivia question: who wrote ain't no sunshine when you're gone? </s>  :  Bill Withers </s>\n",
            "trivia question: what is the meaning of ips in police? </s>  :  Indian Police Service </s>\n",
            "trivia question: who sings its to late to turn back now? </s>  :  Cornelius Brothers & Sister Rose </s>\n",
            "trivia question: when was the last time the olympics were held in korea? </s>  :  1988 </s>\n",
            "trivia question: who sings moana songs how far i'll go? </s>  :  Auliʻi Cravalho </s>\n",
            "trivia question: who proposed the first comprehensive theory of continental drift? </s>  :  Alfred Wegener </s>\n",
            "trivia question: who sang the theme song for the heat of the night? </s>  :  Ray Charles </s>\n",
            "trivia question: who acted as harley quinn in suicide squad? </s>  :  Margot Robbie </s>\n",
            "trivia question: the bengal tiger is the national animal of which country? </s>  :  Bangladesh </s>\n",
            "trivia question: who has the power to remove a senator from the senate? </s>  :  The House of Representatives </s>\n",
            "trivia question: when does stranger things season 1 take place? </s>  :  early 1980s </s>\n",
            "trivia question: when does the new jonny english come out? </s>  :  12 October 2018 </s>\n",
            "trivia question: the only depolarizing muscle relaxant in clinical use is? </s>  :  succinylcholine </s>\n",
            "trivia question: who played eddie the eagle in the film? </s>  :  Taron Egerton </s>\n",
            "trivia question: when did we start saying the pledge of allegiance in schools? </s>  :  October 12, 1892 </s>\n",
            "trivia question: who does the voice of finn the human? </s>  :  Jeremy Jaden Shada </s>\n",
            "trivia question: how long does it take to film a season of planet earth? </s>  :  Five years </s>\n",
            "trivia question: who is the girl from brenda's got a baby? </s>  :  Ethel \"Edy\" Proctor </s>\n",
            "trivia question: how.many episodes are in the 100 season 5? </s>  :  13 </s>\n",
            "trivia question: how many years were arsenal in the champions league? </s>  :  nineteen </s>\n",
            "trivia question: who wrote the songs on as you were? </s>  :  Michael Tighe Liam Gallagher Greg Kurstin Andrew Wyatt Andrew Sidney Fox Simon Jons Iain Archer </s>\n",
            "trivia question: what is the name called out in the neverending story? </s>  :  Moonchild </s>\n",
            "trivia question: when did dell curry retire from the nba? </s>  :  2002 </s>\n",
            "trivia question: matter that is not the same throughout is called? </s>  :  heterogeneous mixture </s>\n",
            "trivia question: what was the original price of the wii? </s>  :  $249.99 </s>\n",
            "trivia question: who laid the foundation of british rule in india? </s>  :  East India Company </s>\n",
            "trivia question: where is the nile river located in the world? </s>  :  northeastern Africa </s>\n",
            "trivia question: when did social security begin in the us? </s>  :  August 14, 1935 </s>\n",
            "trivia question: how many nhl goalies have scored a goal? </s>  :  Eleven </s>\n",
            "trivia question: who are the democrats running for governor in tennessee? </s>  :  Mezianne Vale Payne, retiree </s>\n",
            "trivia question: who played the doctor on star trek voyager? </s>  :  Robert Picardo </s>\n",
            "trivia question: when did drinking age go from 18 to 21? </s>  :  mid-1988 </s>\n",
            "trivia question: who threw themselves in front of a horse? </s>  :  Emily Wilding Davison </s>\n",
            "trivia question: who sang i want to walk you home? </s>  :  Fats Domino </s>\n",
            "trivia question: what was the journey of the cherokee to indian territory called? </s>  :  the Trail of Tears </s>\n",
            "trivia question: when was the last time adelaide crows won a premiership? </s>  :  1998 </s>\n",
            "trivia question: what's carly's last name in icarly? </s>  :  Shay </s>\n",
            "trivia question: where did the rolling stones lips come from? </s>  :  John Pasche </s>\n",
            "trivia question: who did the first voice of meg on family guy? </s>  :  Lacey Chabert </s>\n",
            "trivia question: who is the original artist of sound of silence? </s>  :  Simon & Garfunkel </s>\n",
            "trivia question: who scored the most goals in premier league? </s>  :  Alan Shearer </s>\n",
            "trivia question: when did the uk smoking ban came into force? </s>  :  1 July 2007 </s>\n",
            "trivia question: who sings no bad news in the wiz? </s>  :  Mabel King and Chorus </s>\n",
            "trivia question: what is the term for the regions of the plant where leaves are attached to the stem? </s>  :  Node </s>\n",
            "trivia question: who wrote help me make it through the night lyrics? </s>  :  Kris Kristofferson </s>\n",
            "trivia question: who plays dr reid's mother on criminal minds? </s>  :  Jane Lynch </s>\n",
            "trivia question: who won the champions league final last year? </s>  :  Real Madrid </s>\n",
            "trivia question: what ballad was featured in the last episode of the sopranos? </s>  :  Don't Stop Believin </s>\n",
            "trivia question: who is alex on law and order svu? </s>  :  permanent ADA </s>\n",
            "trivia question: when was the st louis cardinals stadium built? </s>  :  April 4, 2006 </s>\n",
            "trivia question: who plays mr wickham in pride and prejudice? </s>  :  Rupert William Anthony Friend </s>\n",
            "trivia question: who plays the voice of the dad in moana? </s>  :  Temuera Morrison </s>\n",
            "trivia question: first cotton mill in india was setup in? </s>  :  1820s </s>\n",
            "trivia question: where was a place to call home filmed? </s>  :  Southern Highlands Camden </s>\n",
            "trivia question: who plays spencer's mother on pretty little liars? </s>  :  Lesley Fera </s>\n",
            "trivia question: who plays denny duquette on grey's anatomy? </s>  :  Jeffrey Dean Morgan </s>\n",
            "trivia question: how many episodes in sense 8 season 1? </s>  :  12 </s>\n",
            "trivia question: where does the saying calling the kettle black come from? </s>  :  Spanish </s>\n",
            "trivia question: who has won the most eurovision song contests? </s>  :  Ireland's Johnny Logan </s>\n",
            "trivia question: what type of money has value based on intrinsic worth? </s>  :  Commodity money </s>\n",
            "trivia question: who was the lead singer of human league? </s>  :  Philip Oakey </s>\n",
            "trivia question: who holds the record for the most formula 1 drivers champion titles? </s>  :  Michael Schumacher </s>\n",
            "trivia question: how many times has duke won the final four? </s>  :  5 </s>\n",
            "trivia question: who won the popular vote 2016 presidential election? </s>  :  Clinton </s>\n",
            "trivia question: when was the last time the jets won a superbowl? </s>  :  1968 </s>\n",
            "trivia question: where do i get a postal order from? </s>  :  a post office </s>\n",
            "trivia question: what do you call a fish with four eyes? </s>  :  Anableps </s>\n",
            "trivia question: which english comedian became the first moomba king in 1967? </s>  :  Robert Morley </s>\n",
            "trivia question: who is the all time highest paid actor? </s>  :  Keanu Reeves </s>\n",
            "trivia question: who was the original singer of gentle on my mind? </s>  :  John Hartford </s>\n",
            "trivia question: what do first 3 numbers of ssn mean? </s>  :  Area Number </s>\n",
            "trivia question: when did one piece air on cartoon network? </s>  :  April 2005 </s>\n",
            "trivia question: where is the champions league cup final being held? </s>  :  NSC Olimpiyskiy Stadium, Kiev </s>\n",
            "trivia question: who holds the track record for belmont stakes? </s>  :  Secretariat </s>\n",
            "trivia question: where does the tv show reba take place? </s>  :  Houston, Texas </s>\n",
            "trivia question: when did the postal service started in india? </s>  :  1 April 1854 </s>\n",
            "trivia question: who played atticus in to kill a mockingbird? </s>  :  Gregory Peck </s>\n",
            "trivia question: when is season 3 of some assembly required coming to netflix? </s>  :  March 14, 2016 </s>\n",
            "trivia question: what was the last year honda element was made? </s>  :  2011 </s>\n",
            "trivia question: when is the last time yankees won world series? </s>  :  2009 </s>\n",
            "trivia question: when does ralph break the internet come out? </s>  :  November 21, 2018 </s>\n",
            "trivia question: when did the i pad mini come out? </s>  :  November 2, 2012 </s>\n",
            "trivia question: when was the first internal combustion engine created? </s>  :  1794 </s>\n",
            "trivia question: how does california economy rank in the world? </s>  :  fifth largest </s>\n",
            "trivia question: where do the blue jays live in toronto? </s>  :  at the Rogers Centre </s>\n",
            "trivia question: who is known as the first and last female rules of the delhi sultanate? </s>  :  Razia Sultana </s>\n",
            "trivia question: the prime minister of great britain during the late 1930s was? </s>  :  Neville Chamberlain Stanley Baldwin </s>\n",
            "trivia question: where did the cherokee indian tribe come from? </s>  :  Southeastern Woodlands </s>\n",
            "trivia question: what is the talkest building in the world? </s>  :  Burj Khalifa in Dubai </s>\n",
            "trivia question: who is the punter for the dallas cowboys? </s>  :  Chris Jones </s>\n",
            "trivia question: what award is given to the top goal scorer at the world cup? </s>  :  the Golden Boot </s>\n",
            "trivia question: nba record for most threes in a season? </s>  :  402 </s>\n",
            "trivia question: who is the current secretary of state in the united states? </s>  :  former ExxonMobil CEO Rex Tillerson </s>\n",
            "trivia question: which president had the highest number of supreme court justices confirmed? </s>  :  George Washington </s>\n",
            "trivia question: who played the pinhead in american horror story? </s>  :  Grossman </s>\n",
            "trivia question: who wrote the music for a goofy movie? </s>  :  Carter Burwell Don Davis </s>\n",
            "trivia question: where does the h pylori bacteria come from? </s>  :  the stomach </s>\n",
            "trivia question: how much did it cost to land a man on the moon? </s>  :  $25 billion </s>\n",
            "trivia question: when did the first settlers come to america? </s>  :  the 10th or 11th century </s>\n",
            "trivia question: who is the girl that plays haley in modern family? </s>  :  Sarah Jane Hyland </s>\n",
            "trivia question: in the song yankee doodle what does macaroni mean? </s>  :  foppishness </s>\n",
            "trivia question: who is the oldest person living in the united states today? </s>  :  Delphine Gibson </s>\n",
            "trivia question: when is the new season of the crown being released? </s>  :  December 8, 2017 </s>\n",
            "trivia question: when was free health care introduced in the uk? </s>  :  1946 </s>\n",
            "trivia question: who was the first cricket world cup winner? </s>  :  West Indies </s>\n",
            "trivia question: who sings the theme song from good times? </s>  :  Jim Gilstrap Blinky Williams </s>\n",
            "trivia question: who plays sax on waiting for a friend? </s>  :  Sonny Rollins </s>\n",
            "trivia question: when was capital gains tax introduced in the uk? </s>  :  1965 </s>\n",
            "trivia question: who sings the song you are always on my mind? </s>  :  Gwen McCrae </s>\n",
            "trivia question: who sings the song i'm leaving on a jet plane? </s>  :  Peter, Paul and Mary </s>\n",
            "trivia question: where is the christmas prince on netflix filmed? </s>  :  Peleş Castle in Romania </s>\n",
            "trivia question: what is the mascot for north carolina state? </s>  :  Mr. Wuf & Mrs. Wuf </s>\n",
            "trivia question: when was the last time essendon won a grand final? </s>  :  2000 </s>\n",
            "trivia question: who is the super hero at the end of black panther? </s>  :  Bucky Barnes </s>\n",
            "trivia question: when was the white house moved to d.c? </s>  :  November 1, 1800 </s>\n",
            "trivia question: what is the speed in miles per second of a beam of light traveling at? </s>  :  186000 </s>\n",
            "trivia question: when does phantom of the opera take place? </s>  :  1911 </s>\n",
            "trivia question: where does the mississippi river start in minnesota? </s>  :  Lake Itasca </s>\n",
            "trivia question: who's opening for the weekend in vancouver? </s>  :  Tove Lo </s>\n",
            "trivia question: where would the smallest particles on a beach be found (site 3)? </s>  :  behind the beach </s>\n",
            "trivia question: who acted as the constitutional advisor to the constituent assembly? </s>  :  B. N. Rau </s>\n",
            "trivia question: who played gale sayers in brian's song? </s>  :  Billy Dee Williams </s>\n",
            "trivia question: who is the first woman climbed mount everest? </s>  :  Junko Tabei </s>\n",
            "trivia question: when was the last time germany went out in group stages? </s>  :  2018 </s>\n",
            "trivia question: who received the jnanpeeth award in the year 2017? </s>  :  Krishna Sobti </s>\n",
            "trivia question: bad guy in lord of the rings name? </s>  :  Sauron </s>\n",
            "trivia question: when did the black death occur in europe? </s>  :  from 1346 to 1353 </s>\n",
            "trivia question: when was the last time the cincinnati bengals were in the playoffs? </s>  :  2015 </s>\n",
            "trivia question: who fought with an angel in the bible? </s>  :  Jacob </s>\n",
            "trivia question: where does the story anne of green gables take place? </s>  :  Prince Edward Island </s>\n",
            "trivia question: who is our current president of the senate? </s>  :  Orrin Hatch </s>\n",
            "trivia question: who is playing abigail on days of our lives? </s>  :  Marci Miller </s>\n",
            "trivia question: what is the name of the wall in jerusalem? </s>  :  the Buraq Wall Western Wall Kotel The Western Wall </s>\n",
            "trivia question: where did the song the prayer come from? </s>  :  Bocelli's album Sogno </s>\n",
            "trivia question: where is the soccer world cup taking place this year? </s>  :  Russia </s>\n",
            "trivia question: malware that essentially is a form of social engineering? </s>  :  Trojan horses </s>\n",
            "trivia question: the general term for all of the bones in the head is? </s>  :  skull </s>\n",
            "trivia question: who sings danke schoen in fools rush in? </s>  :  Wayne Newton </s>\n",
            "trivia question: who commentated on the 1966 world cup final? </s>  :  Kenneth Wolstenholme </s>\n",
            "trivia question: who played mother nature in santa claus 2? </s>  :  Aisha Tyler </s>\n",
            "trivia question: how many puppies did the mom have in 101 dalmatians? </s>  :  fifteen </s>\n",
            "trivia question: who declared the english monarch supreme head of the church? </s>  :  Parliament </s>\n",
            "trivia question: who was the first english mathematician who used the modern symbol of equality in 1557? </s>  :  Robert Recorde </s>\n",
            "trivia question: who plays kelly from saved by the bell? </s>  :  Tiffani Amber Thiessen </s>\n",
            "trivia question: what caused the american oil crisis of 1974? </s>  :  an oil embargo </s>\n",
            "trivia question: how much territory did the ottoman empire cover? </s>  :  2,000,000 sq mi </s>\n",
            "trivia question: when is season 6 of counting on coming out? </s>  :  September 11, 2017 </s>\n",
            "trivia question: tailed bacteriophages fall within which of baltimore groups? </s>  :  group I </s>\n",
            "trivia question: where are the olfactory receptor neurons are located? </s>  :  olfactory system </s>\n",
            "trivia question: who won australia's next top model season 7? </s>  :  Montana Cox </s>\n",
            "trivia question: who established the first public school for deaf in america? </s>  :  Laurent Clerc Dr. Mason Cogswell Thomas Hopkins Gallaudet </s>\n",
            "trivia question: who plays the voice of johnny in the movie sing? </s>  :  Taron Egerton </s>\n",
            "trivia question: ottoman reforms launched a series of radical reforms in the nineteenth century known as the? </s>  :  The Tanzimât </s>\n",
            "Completed 100\n",
            "trivia question: who won the nathan hot dog eating contest? </s>  :  Joey Chestnut Miki Sudo </s>\n",
            "trivia question: when did the 16th amendment to the constitution legalize the levying of income tax by congress? </s>  :  February 3, 1913 </s>\n",
            "trivia question: who was the book of james written for? </s>  :  twelve tribes scattered abroad </s>\n",
            "trivia question: who stars in the movie the quiet place? </s>  :  Noah Jupe John Krasinski Emily Blunt Millicent Simmonds </s>\n",
            "trivia question: why are the reactions of the calvin cycle called light-independent reactions? </s>  :  fixation reduction reactions </s>\n",
            "trivia question: who sings i wanna be like you jungle book 2016? </s>  :  Christopher Walken </s>\n",
            "trivia question: how many episodes are in season 1 of spartacus? </s>  :  13 </s>\n",
            "trivia question: who did luka modric play for in england? </s>  :  Croatia </s>\n",
            "trivia question: in which plate of the earth is india located? </s>  :  The Indian Plate </s>\n",
            "trivia question: when did the herald of free enterprise sink? </s>  :  6 March 1987 </s>\n",
            "trivia question: who plays sarah on dc legends of tomorrow? </s>  :  Caity Lotz </s>\n",
            "trivia question: when did the use of iron began in the subcontinent? </s>  :  during the 2nd millennium BC </s>\n",
            "trivia question: who plays nicky on make it or break it? </s>  :  Cody Longo </s>\n",
            "trivia question: who does the voiceover on how i met your mother? </s>  :  Bob Saget </s>\n",
            "trivia question: who sings the song all it does is rain? </s>  :  The Script </s>\n",
            "trivia question: when is shadowhunters season 2 episode 17 coming out? </s>  :  July 24, 2017 </s>\n",
            "trivia question: when was the song smoke gets in your eyes written? </s>  :  1933 </s>\n",
            "trivia question: who is aire to the throne of england? </s>  :  Charles, Prince of Wales </s>\n",
            "trivia question: who was sailing the titanic when it crashed? </s>  :  Edward Smith </s>\n",
            "trivia question: when did jack in the box buy qdoba? </s>  :  2003 </s>\n",
            "trivia question: what is the most important meal in italy? </s>  :  Lunch </s>\n",
            "trivia question: who wrote the song the dance by garth brooks? </s>  :  Tony Arata </s>\n",
            "trivia question: when did south carolina and north carolina split? </s>  :  1729 </s>\n",
            "trivia question: who wrote make you feel my love sung by adele? </s>  :  Bob Dylan </s>\n",
            "trivia question: who sings i can love you like that? </s>  :  John Michael Montgomery </s>\n",
            "trivia question: who plays travis on if loving you is wrong? </s>  :  Denzel Wells </s>\n",
            "trivia question: when is the next halley's comet coming? </s>  :  mid-2061 </s>\n",
            "trivia question: who wrote the speed of the sound of loneliness? </s>  :  John Prine </s>\n",
            "trivia question: camila cabello never be the same release date? </s>  :  December 7, 2017 </s>\n",
            "trivia question: what is the militia in the 2nd amendment? </s>  :  well regulated </s>\n",
            "trivia question: when did 10 rupees coin launched in india? </s>  :  2005 </s>\n",
            "trivia question: what type of an animal is an ibex? </s>  :  a species of wild goat </s>\n",
            "trivia question: who is the attorney general of new hampshire? </s>  :  Gordon MacDonald </s>\n",
            "trivia question: what is the songkran festival and what does it mean? </s>  :  \"astrological passage\" </s>\n",
            "trivia question: when did the transcontinental railroad started being built? </s>  :  1863 </s>\n",
            "trivia question: how many episodes are in star wars the clone wars season 1? </s>  :  22 </s>\n",
            "trivia question: who plays doris in a place to call home? </s>  :  Deborah Kennedy </s>\n",
            "trivia question: who played michael myers in the new movie? </s>  :  Michael (Tyler Mane) </s>\n",
            "trivia question: when did worl war 2 start and end? </s>  :  1939 1945 </s>\n",
            "trivia question: who wrote the book clear and present danger? </s>  :  Tom Clancy </s>\n",
            "trivia question: when did i'm a celebrity first start? </s>  :  25 August 2002 </s>\n",
            "trivia question: who paid for the q line in detroit? </s>  :  M-1 Rail </s>\n",
            "trivia question: who won the mens curling in 2018 olympics? </s>  :  United States </s>\n",
            "trivia question: who plays the cat in the hat in the movie? </s>  :  Mike Myers </s>\n",
            "trivia question: which mythological figures adopted and raised by a king of mithila? </s>  :  Sita </s>\n",
            "trivia question: in fracture mechanics the symbol k stands for? </s>  :  the stress intensity factor </s>\n",
            "trivia question: what percent of the world's population is america? </s>  :  4.4 percent </s>\n",
            "trivia question: when did the song slob on my knob come out? </s>  :  February 2, 1999 </s>\n"
          ],
          "name": "stdout"
        }
      ]
    },
    {
      "cell_type": "code",
      "metadata": {
        "trusted": true,
        "id": "KL5Ml8fPWxpD",
        "colab_type": "code",
        "colab": {}
      },
      "source": [
        " final_df.to_csv('predictions.csv')"
      ],
      "execution_count": 118,
      "outputs": []
    },
    {
      "cell_type": "code",
      "metadata": {
        "trusted": true,
        "id": "ytsbeaA2WxpF",
        "colab_type": "code",
        "colab": {
          "base_uri": "https://localhost:8080/",
          "height": 521
        },
        "outputId": "f6a2ea92-5926-4918-9d62-aa7d69c03f3b"
      },
      "source": [
        "for i in range(10):\n",
        "    print(\"Actual Answer: \", final_df['Actual Text'][i],\"\\nPredicted Answer: \", final_df['Generated Text'][i])\n",
        "    print()"
      ],
      "execution_count": 119,
      "outputs": [
        {
          "output_type": "stream",
          "text": [
            "Actual Answer:  Russia \n",
            "Predicted Answer:  New York\n",
            "\n",
            "Actual Answer:  northern Europe \n",
            "Predicted Answer:  the castle\n",
            "\n",
            "Actual Answer:  The Miz \n",
            "Predicted Answer:  John Williams\n",
            "\n",
            "Actual Answer:  coronary sinus \n",
            "Predicted Answer:  the heart\n",
            "\n",
            "Actual Answer:  Phidias Pericles \n",
            "Predicted Answer:  the architect\n",
            "\n",
            "Actual Answer:  Cruise Director \n",
            "Predicted Answer:  julie\n",
            "\n",
            "Actual Answer:  the United States \n",
            "Predicted Answer:  the womens\n",
            "\n",
            "Actual Answer:  Georgian \n",
            "Predicted Answer:  georgia\n",
            "\n",
            "Actual Answer:  Cherrapunji \n",
            "Predicted Answer:  India\n",
            "\n",
            "Actual Answer:  TLC \n",
            "Predicted Answer:  John\n",
            "\n"
          ],
          "name": "stdout"
        }
      ]
    },
    {
      "cell_type": "code",
      "metadata": {
        "trusted": true,
        "id": "fQ_Ro4ehWxpH",
        "colab_type": "code",
        "colab": {}
      },
      "source": [
        ""
      ],
      "execution_count": null,
      "outputs": []
    }
  ]
}