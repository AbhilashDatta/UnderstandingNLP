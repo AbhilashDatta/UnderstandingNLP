{
  "nbformat": 4,
  "nbformat_minor": 0,
  "metadata": {
    "colab": {
      "name": "ExperimentingWithBert.ipynb",
      "provenance": [],
      "collapsed_sections": [],
      "authorship_tag": "ABX9TyNoxXA/AJKvvxx4OE3Ei0Kz",
      "include_colab_link": true
    },
    "kernelspec": {
      "name": "python3",
      "display_name": "Python 3"
    },
    "accelerator": "GPU",
    "widgets": {
      "application/vnd.jupyter.widget-state+json": {
        "a4e1644329e54c2d99f98efde75512f7": {
          "model_module": "@jupyter-widgets/controls",
          "model_name": "HBoxModel",
          "state": {
            "_view_name": "HBoxView",
            "_dom_classes": [],
            "_model_name": "HBoxModel",
            "_view_module": "@jupyter-widgets/controls",
            "_model_module_version": "1.5.0",
            "_view_count": null,
            "_view_module_version": "1.5.0",
            "box_style": "",
            "layout": "IPY_MODEL_d3fe75db7fa047ebb9a5568df6afb387",
            "_model_module": "@jupyter-widgets/controls",
            "children": [
              "IPY_MODEL_13a33d596e8d415c82a9f6a3904c6561",
              "IPY_MODEL_dd79b419cd53499d83fce9c98e9e1872"
            ]
          }
        },
        "d3fe75db7fa047ebb9a5568df6afb387": {
          "model_module": "@jupyter-widgets/base",
          "model_name": "LayoutModel",
          "state": {
            "_view_name": "LayoutView",
            "grid_template_rows": null,
            "right": null,
            "justify_content": null,
            "_view_module": "@jupyter-widgets/base",
            "overflow": null,
            "_model_module_version": "1.2.0",
            "_view_count": null,
            "flex_flow": null,
            "width": null,
            "min_width": null,
            "border": null,
            "align_items": null,
            "bottom": null,
            "_model_module": "@jupyter-widgets/base",
            "top": null,
            "grid_column": null,
            "overflow_y": null,
            "overflow_x": null,
            "grid_auto_flow": null,
            "grid_area": null,
            "grid_template_columns": null,
            "flex": null,
            "_model_name": "LayoutModel",
            "justify_items": null,
            "grid_row": null,
            "max_height": null,
            "align_content": null,
            "visibility": null,
            "align_self": null,
            "height": null,
            "min_height": null,
            "padding": null,
            "grid_auto_rows": null,
            "grid_gap": null,
            "max_width": null,
            "order": null,
            "_view_module_version": "1.2.0",
            "grid_template_areas": null,
            "object_position": null,
            "object_fit": null,
            "grid_auto_columns": null,
            "margin": null,
            "display": null,
            "left": null
          }
        },
        "13a33d596e8d415c82a9f6a3904c6561": {
          "model_module": "@jupyter-widgets/controls",
          "model_name": "FloatProgressModel",
          "state": {
            "_view_name": "ProgressView",
            "style": "IPY_MODEL_112699f2ccb74fc7bbfb8550d225fab3",
            "_dom_classes": [],
            "description": "Downloading: 100%",
            "_model_name": "FloatProgressModel",
            "bar_style": "success",
            "max": 231508,
            "_view_module": "@jupyter-widgets/controls",
            "_model_module_version": "1.5.0",
            "value": 231508,
            "_view_count": null,
            "_view_module_version": "1.5.0",
            "orientation": "horizontal",
            "min": 0,
            "description_tooltip": null,
            "_model_module": "@jupyter-widgets/controls",
            "layout": "IPY_MODEL_598c1341127d412d816dca68c41c3463"
          }
        },
        "dd79b419cd53499d83fce9c98e9e1872": {
          "model_module": "@jupyter-widgets/controls",
          "model_name": "HTMLModel",
          "state": {
            "_view_name": "HTMLView",
            "style": "IPY_MODEL_6b0bcf284d4a484585cc53f0a674c95b",
            "_dom_classes": [],
            "description": "",
            "_model_name": "HTMLModel",
            "placeholder": "​",
            "_view_module": "@jupyter-widgets/controls",
            "_model_module_version": "1.5.0",
            "value": " 232k/232k [00:00&lt;00:00, 760kB/s]",
            "_view_count": null,
            "_view_module_version": "1.5.0",
            "description_tooltip": null,
            "_model_module": "@jupyter-widgets/controls",
            "layout": "IPY_MODEL_50827a8249e148b1a34a2d4e23fe2582"
          }
        },
        "112699f2ccb74fc7bbfb8550d225fab3": {
          "model_module": "@jupyter-widgets/controls",
          "model_name": "ProgressStyleModel",
          "state": {
            "_view_name": "StyleView",
            "_model_name": "ProgressStyleModel",
            "description_width": "initial",
            "_view_module": "@jupyter-widgets/base",
            "_model_module_version": "1.5.0",
            "_view_count": null,
            "_view_module_version": "1.2.0",
            "bar_color": null,
            "_model_module": "@jupyter-widgets/controls"
          }
        },
        "598c1341127d412d816dca68c41c3463": {
          "model_module": "@jupyter-widgets/base",
          "model_name": "LayoutModel",
          "state": {
            "_view_name": "LayoutView",
            "grid_template_rows": null,
            "right": null,
            "justify_content": null,
            "_view_module": "@jupyter-widgets/base",
            "overflow": null,
            "_model_module_version": "1.2.0",
            "_view_count": null,
            "flex_flow": null,
            "width": null,
            "min_width": null,
            "border": null,
            "align_items": null,
            "bottom": null,
            "_model_module": "@jupyter-widgets/base",
            "top": null,
            "grid_column": null,
            "overflow_y": null,
            "overflow_x": null,
            "grid_auto_flow": null,
            "grid_area": null,
            "grid_template_columns": null,
            "flex": null,
            "_model_name": "LayoutModel",
            "justify_items": null,
            "grid_row": null,
            "max_height": null,
            "align_content": null,
            "visibility": null,
            "align_self": null,
            "height": null,
            "min_height": null,
            "padding": null,
            "grid_auto_rows": null,
            "grid_gap": null,
            "max_width": null,
            "order": null,
            "_view_module_version": "1.2.0",
            "grid_template_areas": null,
            "object_position": null,
            "object_fit": null,
            "grid_auto_columns": null,
            "margin": null,
            "display": null,
            "left": null
          }
        },
        "6b0bcf284d4a484585cc53f0a674c95b": {
          "model_module": "@jupyter-widgets/controls",
          "model_name": "DescriptionStyleModel",
          "state": {
            "_view_name": "StyleView",
            "_model_name": "DescriptionStyleModel",
            "description_width": "",
            "_view_module": "@jupyter-widgets/base",
            "_model_module_version": "1.5.0",
            "_view_count": null,
            "_view_module_version": "1.2.0",
            "_model_module": "@jupyter-widgets/controls"
          }
        },
        "50827a8249e148b1a34a2d4e23fe2582": {
          "model_module": "@jupyter-widgets/base",
          "model_name": "LayoutModel",
          "state": {
            "_view_name": "LayoutView",
            "grid_template_rows": null,
            "right": null,
            "justify_content": null,
            "_view_module": "@jupyter-widgets/base",
            "overflow": null,
            "_model_module_version": "1.2.0",
            "_view_count": null,
            "flex_flow": null,
            "width": null,
            "min_width": null,
            "border": null,
            "align_items": null,
            "bottom": null,
            "_model_module": "@jupyter-widgets/base",
            "top": null,
            "grid_column": null,
            "overflow_y": null,
            "overflow_x": null,
            "grid_auto_flow": null,
            "grid_area": null,
            "grid_template_columns": null,
            "flex": null,
            "_model_name": "LayoutModel",
            "justify_items": null,
            "grid_row": null,
            "max_height": null,
            "align_content": null,
            "visibility": null,
            "align_self": null,
            "height": null,
            "min_height": null,
            "padding": null,
            "grid_auto_rows": null,
            "grid_gap": null,
            "max_width": null,
            "order": null,
            "_view_module_version": "1.2.0",
            "grid_template_areas": null,
            "object_position": null,
            "object_fit": null,
            "grid_auto_columns": null,
            "margin": null,
            "display": null,
            "left": null
          }
        },
        "daabeef2560442928233eef9034639a4": {
          "model_module": "@jupyter-widgets/controls",
          "model_name": "HBoxModel",
          "state": {
            "_view_name": "HBoxView",
            "_dom_classes": [],
            "_model_name": "HBoxModel",
            "_view_module": "@jupyter-widgets/controls",
            "_model_module_version": "1.5.0",
            "_view_count": null,
            "_view_module_version": "1.5.0",
            "box_style": "",
            "layout": "IPY_MODEL_a8ca497815f74ac4be9fc250c1e3d9d3",
            "_model_module": "@jupyter-widgets/controls",
            "children": [
              "IPY_MODEL_c59cefa767c64254ad38415485c0dc09",
              "IPY_MODEL_e286017f779a480c8800a978787e7f31"
            ]
          }
        },
        "a8ca497815f74ac4be9fc250c1e3d9d3": {
          "model_module": "@jupyter-widgets/base",
          "model_name": "LayoutModel",
          "state": {
            "_view_name": "LayoutView",
            "grid_template_rows": null,
            "right": null,
            "justify_content": null,
            "_view_module": "@jupyter-widgets/base",
            "overflow": null,
            "_model_module_version": "1.2.0",
            "_view_count": null,
            "flex_flow": null,
            "width": null,
            "min_width": null,
            "border": null,
            "align_items": null,
            "bottom": null,
            "_model_module": "@jupyter-widgets/base",
            "top": null,
            "grid_column": null,
            "overflow_y": null,
            "overflow_x": null,
            "grid_auto_flow": null,
            "grid_area": null,
            "grid_template_columns": null,
            "flex": null,
            "_model_name": "LayoutModel",
            "justify_items": null,
            "grid_row": null,
            "max_height": null,
            "align_content": null,
            "visibility": null,
            "align_self": null,
            "height": null,
            "min_height": null,
            "padding": null,
            "grid_auto_rows": null,
            "grid_gap": null,
            "max_width": null,
            "order": null,
            "_view_module_version": "1.2.0",
            "grid_template_areas": null,
            "object_position": null,
            "object_fit": null,
            "grid_auto_columns": null,
            "margin": null,
            "display": null,
            "left": null
          }
        },
        "c59cefa767c64254ad38415485c0dc09": {
          "model_module": "@jupyter-widgets/controls",
          "model_name": "FloatProgressModel",
          "state": {
            "_view_name": "ProgressView",
            "style": "IPY_MODEL_b492d689abfa42e79df22ca1f7e16240",
            "_dom_classes": [],
            "description": "Downloading: 100%",
            "_model_name": "FloatProgressModel",
            "bar_style": "success",
            "max": 442,
            "_view_module": "@jupyter-widgets/controls",
            "_model_module_version": "1.5.0",
            "value": 442,
            "_view_count": null,
            "_view_module_version": "1.5.0",
            "orientation": "horizontal",
            "min": 0,
            "description_tooltip": null,
            "_model_module": "@jupyter-widgets/controls",
            "layout": "IPY_MODEL_5c80ed8f8ca84ddc91096295e6ab2ab1"
          }
        },
        "e286017f779a480c8800a978787e7f31": {
          "model_module": "@jupyter-widgets/controls",
          "model_name": "HTMLModel",
          "state": {
            "_view_name": "HTMLView",
            "style": "IPY_MODEL_47e01bab0ed14b3683efd5744ba52626",
            "_dom_classes": [],
            "description": "",
            "_model_name": "HTMLModel",
            "placeholder": "​",
            "_view_module": "@jupyter-widgets/controls",
            "_model_module_version": "1.5.0",
            "value": " 442/442 [00:06&lt;00:00, 69.5B/s]",
            "_view_count": null,
            "_view_module_version": "1.5.0",
            "description_tooltip": null,
            "_model_module": "@jupyter-widgets/controls",
            "layout": "IPY_MODEL_9fb28f89440349d6903c375ed49f6e85"
          }
        },
        "b492d689abfa42e79df22ca1f7e16240": {
          "model_module": "@jupyter-widgets/controls",
          "model_name": "ProgressStyleModel",
          "state": {
            "_view_name": "StyleView",
            "_model_name": "ProgressStyleModel",
            "description_width": "initial",
            "_view_module": "@jupyter-widgets/base",
            "_model_module_version": "1.5.0",
            "_view_count": null,
            "_view_module_version": "1.2.0",
            "bar_color": null,
            "_model_module": "@jupyter-widgets/controls"
          }
        },
        "5c80ed8f8ca84ddc91096295e6ab2ab1": {
          "model_module": "@jupyter-widgets/base",
          "model_name": "LayoutModel",
          "state": {
            "_view_name": "LayoutView",
            "grid_template_rows": null,
            "right": null,
            "justify_content": null,
            "_view_module": "@jupyter-widgets/base",
            "overflow": null,
            "_model_module_version": "1.2.0",
            "_view_count": null,
            "flex_flow": null,
            "width": null,
            "min_width": null,
            "border": null,
            "align_items": null,
            "bottom": null,
            "_model_module": "@jupyter-widgets/base",
            "top": null,
            "grid_column": null,
            "overflow_y": null,
            "overflow_x": null,
            "grid_auto_flow": null,
            "grid_area": null,
            "grid_template_columns": null,
            "flex": null,
            "_model_name": "LayoutModel",
            "justify_items": null,
            "grid_row": null,
            "max_height": null,
            "align_content": null,
            "visibility": null,
            "align_self": null,
            "height": null,
            "min_height": null,
            "padding": null,
            "grid_auto_rows": null,
            "grid_gap": null,
            "max_width": null,
            "order": null,
            "_view_module_version": "1.2.0",
            "grid_template_areas": null,
            "object_position": null,
            "object_fit": null,
            "grid_auto_columns": null,
            "margin": null,
            "display": null,
            "left": null
          }
        },
        "47e01bab0ed14b3683efd5744ba52626": {
          "model_module": "@jupyter-widgets/controls",
          "model_name": "DescriptionStyleModel",
          "state": {
            "_view_name": "StyleView",
            "_model_name": "DescriptionStyleModel",
            "description_width": "",
            "_view_module": "@jupyter-widgets/base",
            "_model_module_version": "1.5.0",
            "_view_count": null,
            "_view_module_version": "1.2.0",
            "_model_module": "@jupyter-widgets/controls"
          }
        },
        "9fb28f89440349d6903c375ed49f6e85": {
          "model_module": "@jupyter-widgets/base",
          "model_name": "LayoutModel",
          "state": {
            "_view_name": "LayoutView",
            "grid_template_rows": null,
            "right": null,
            "justify_content": null,
            "_view_module": "@jupyter-widgets/base",
            "overflow": null,
            "_model_module_version": "1.2.0",
            "_view_count": null,
            "flex_flow": null,
            "width": null,
            "min_width": null,
            "border": null,
            "align_items": null,
            "bottom": null,
            "_model_module": "@jupyter-widgets/base",
            "top": null,
            "grid_column": null,
            "overflow_y": null,
            "overflow_x": null,
            "grid_auto_flow": null,
            "grid_area": null,
            "grid_template_columns": null,
            "flex": null,
            "_model_name": "LayoutModel",
            "justify_items": null,
            "grid_row": null,
            "max_height": null,
            "align_content": null,
            "visibility": null,
            "align_self": null,
            "height": null,
            "min_height": null,
            "padding": null,
            "grid_auto_rows": null,
            "grid_gap": null,
            "max_width": null,
            "order": null,
            "_view_module_version": "1.2.0",
            "grid_template_areas": null,
            "object_position": null,
            "object_fit": null,
            "grid_auto_columns": null,
            "margin": null,
            "display": null,
            "left": null
          }
        },
        "81ddce1aa20d42e59807289077afe290": {
          "model_module": "@jupyter-widgets/controls",
          "model_name": "HBoxModel",
          "state": {
            "_view_name": "HBoxView",
            "_dom_classes": [],
            "_model_name": "HBoxModel",
            "_view_module": "@jupyter-widgets/controls",
            "_model_module_version": "1.5.0",
            "_view_count": null,
            "_view_module_version": "1.5.0",
            "box_style": "",
            "layout": "IPY_MODEL_cb45ef7397174db4bbe2f74040bf31af",
            "_model_module": "@jupyter-widgets/controls",
            "children": [
              "IPY_MODEL_ce4a65707141483d94d7748f1a26c9fb",
              "IPY_MODEL_231fe36312f34ef4a48d5dd3decd585a"
            ]
          }
        },
        "cb45ef7397174db4bbe2f74040bf31af": {
          "model_module": "@jupyter-widgets/base",
          "model_name": "LayoutModel",
          "state": {
            "_view_name": "LayoutView",
            "grid_template_rows": null,
            "right": null,
            "justify_content": null,
            "_view_module": "@jupyter-widgets/base",
            "overflow": null,
            "_model_module_version": "1.2.0",
            "_view_count": null,
            "flex_flow": null,
            "width": null,
            "min_width": null,
            "border": null,
            "align_items": null,
            "bottom": null,
            "_model_module": "@jupyter-widgets/base",
            "top": null,
            "grid_column": null,
            "overflow_y": null,
            "overflow_x": null,
            "grid_auto_flow": null,
            "grid_area": null,
            "grid_template_columns": null,
            "flex": null,
            "_model_name": "LayoutModel",
            "justify_items": null,
            "grid_row": null,
            "max_height": null,
            "align_content": null,
            "visibility": null,
            "align_self": null,
            "height": null,
            "min_height": null,
            "padding": null,
            "grid_auto_rows": null,
            "grid_gap": null,
            "max_width": null,
            "order": null,
            "_view_module_version": "1.2.0",
            "grid_template_areas": null,
            "object_position": null,
            "object_fit": null,
            "grid_auto_columns": null,
            "margin": null,
            "display": null,
            "left": null
          }
        },
        "ce4a65707141483d94d7748f1a26c9fb": {
          "model_module": "@jupyter-widgets/controls",
          "model_name": "FloatProgressModel",
          "state": {
            "_view_name": "ProgressView",
            "style": "IPY_MODEL_091d4fbb7b874c138025a5f500000bba",
            "_dom_classes": [],
            "description": "Downloading: 100%",
            "_model_name": "FloatProgressModel",
            "bar_style": "success",
            "max": 267967963,
            "_view_module": "@jupyter-widgets/controls",
            "_model_module_version": "1.5.0",
            "value": 267967963,
            "_view_count": null,
            "_view_module_version": "1.5.0",
            "orientation": "horizontal",
            "min": 0,
            "description_tooltip": null,
            "_model_module": "@jupyter-widgets/controls",
            "layout": "IPY_MODEL_d7555da05c4e4f00aff56376b0d043d4"
          }
        },
        "231fe36312f34ef4a48d5dd3decd585a": {
          "model_module": "@jupyter-widgets/controls",
          "model_name": "HTMLModel",
          "state": {
            "_view_name": "HTMLView",
            "style": "IPY_MODEL_09a5df005efa46b2855a1cfbe2ebfb7b",
            "_dom_classes": [],
            "description": "",
            "_model_name": "HTMLModel",
            "placeholder": "​",
            "_view_module": "@jupyter-widgets/controls",
            "_model_module_version": "1.5.0",
            "value": " 268M/268M [00:06&lt;00:00, 43.3MB/s]",
            "_view_count": null,
            "_view_module_version": "1.5.0",
            "description_tooltip": null,
            "_model_module": "@jupyter-widgets/controls",
            "layout": "IPY_MODEL_d1ae0cee79b743d69b2803cff6e9c1c9"
          }
        },
        "091d4fbb7b874c138025a5f500000bba": {
          "model_module": "@jupyter-widgets/controls",
          "model_name": "ProgressStyleModel",
          "state": {
            "_view_name": "StyleView",
            "_model_name": "ProgressStyleModel",
            "description_width": "initial",
            "_view_module": "@jupyter-widgets/base",
            "_model_module_version": "1.5.0",
            "_view_count": null,
            "_view_module_version": "1.2.0",
            "bar_color": null,
            "_model_module": "@jupyter-widgets/controls"
          }
        },
        "d7555da05c4e4f00aff56376b0d043d4": {
          "model_module": "@jupyter-widgets/base",
          "model_name": "LayoutModel",
          "state": {
            "_view_name": "LayoutView",
            "grid_template_rows": null,
            "right": null,
            "justify_content": null,
            "_view_module": "@jupyter-widgets/base",
            "overflow": null,
            "_model_module_version": "1.2.0",
            "_view_count": null,
            "flex_flow": null,
            "width": null,
            "min_width": null,
            "border": null,
            "align_items": null,
            "bottom": null,
            "_model_module": "@jupyter-widgets/base",
            "top": null,
            "grid_column": null,
            "overflow_y": null,
            "overflow_x": null,
            "grid_auto_flow": null,
            "grid_area": null,
            "grid_template_columns": null,
            "flex": null,
            "_model_name": "LayoutModel",
            "justify_items": null,
            "grid_row": null,
            "max_height": null,
            "align_content": null,
            "visibility": null,
            "align_self": null,
            "height": null,
            "min_height": null,
            "padding": null,
            "grid_auto_rows": null,
            "grid_gap": null,
            "max_width": null,
            "order": null,
            "_view_module_version": "1.2.0",
            "grid_template_areas": null,
            "object_position": null,
            "object_fit": null,
            "grid_auto_columns": null,
            "margin": null,
            "display": null,
            "left": null
          }
        },
        "09a5df005efa46b2855a1cfbe2ebfb7b": {
          "model_module": "@jupyter-widgets/controls",
          "model_name": "DescriptionStyleModel",
          "state": {
            "_view_name": "StyleView",
            "_model_name": "DescriptionStyleModel",
            "description_width": "",
            "_view_module": "@jupyter-widgets/base",
            "_model_module_version": "1.5.0",
            "_view_count": null,
            "_view_module_version": "1.2.0",
            "_model_module": "@jupyter-widgets/controls"
          }
        },
        "d1ae0cee79b743d69b2803cff6e9c1c9": {
          "model_module": "@jupyter-widgets/base",
          "model_name": "LayoutModel",
          "state": {
            "_view_name": "LayoutView",
            "grid_template_rows": null,
            "right": null,
            "justify_content": null,
            "_view_module": "@jupyter-widgets/base",
            "overflow": null,
            "_model_module_version": "1.2.0",
            "_view_count": null,
            "flex_flow": null,
            "width": null,
            "min_width": null,
            "border": null,
            "align_items": null,
            "bottom": null,
            "_model_module": "@jupyter-widgets/base",
            "top": null,
            "grid_column": null,
            "overflow_y": null,
            "overflow_x": null,
            "grid_auto_flow": null,
            "grid_area": null,
            "grid_template_columns": null,
            "flex": null,
            "_model_name": "LayoutModel",
            "justify_items": null,
            "grid_row": null,
            "max_height": null,
            "align_content": null,
            "visibility": null,
            "align_self": null,
            "height": null,
            "min_height": null,
            "padding": null,
            "grid_auto_rows": null,
            "grid_gap": null,
            "max_width": null,
            "order": null,
            "_view_module_version": "1.2.0",
            "grid_template_areas": null,
            "object_position": null,
            "object_fit": null,
            "grid_auto_columns": null,
            "margin": null,
            "display": null,
            "left": null
          }
        }
      }
    }
  },
  "cells": [
    {
      "cell_type": "markdown",
      "metadata": {
        "id": "view-in-github",
        "colab_type": "text"
      },
      "source": [
        "<a href=\"https://colab.research.google.com/github/bhadreshpsavani/NLP-Notes/blob/master/ExperimentingWithBert.ipynb\" target=\"_parent\"><img src=\"https://colab.research.google.com/assets/colab-badge.svg\" alt=\"Open In Colab\"/></a>"
      ]
    },
    {
      "cell_type": "markdown",
      "metadata": {
        "id": "Z5f38V_93zN2",
        "colab_type": "text"
      },
      "source": [
        "### Import Dependencies"
      ]
    },
    {
      "cell_type": "code",
      "metadata": {
        "id": "cfuNixjc3kUh",
        "colab_type": "code",
        "colab": {
          "base_uri": "https://localhost:8080/",
          "height": 588
        },
        "outputId": "b89b5a11-d395-4a4b-b228-c3ad3292f474"
      },
      "source": [
        "!pip install transformers"
      ],
      "execution_count": 1,
      "outputs": [
        {
          "output_type": "stream",
          "text": [
            "Collecting transformers\n",
            "\u001b[?25l  Downloading https://files.pythonhosted.org/packages/27/3c/91ed8f5c4e7ef3227b4119200fc0ed4b4fd965b1f0172021c25701087825/transformers-3.0.2-py3-none-any.whl (769kB)\n",
            "\r\u001b[K     |▍                               | 10kB 15.6MB/s eta 0:00:01\r\u001b[K     |▉                               | 20kB 4.4MB/s eta 0:00:01\r\u001b[K     |█▎                              | 30kB 5.5MB/s eta 0:00:01\r\u001b[K     |█▊                              | 40kB 5.7MB/s eta 0:00:01\r\u001b[K     |██▏                             | 51kB 4.9MB/s eta 0:00:01\r\u001b[K     |██▋                             | 61kB 5.4MB/s eta 0:00:01\r\u001b[K     |███                             | 71kB 5.7MB/s eta 0:00:01\r\u001b[K     |███▍                            | 81kB 6.1MB/s eta 0:00:01\r\u001b[K     |███▉                            | 92kB 6.2MB/s eta 0:00:01\r\u001b[K     |████▎                           | 102kB 6.0MB/s eta 0:00:01\r\u001b[K     |████▊                           | 112kB 6.0MB/s eta 0:00:01\r\u001b[K     |█████▏                          | 122kB 6.0MB/s eta 0:00:01\r\u001b[K     |█████▌                          | 133kB 6.0MB/s eta 0:00:01\r\u001b[K     |██████                          | 143kB 6.0MB/s eta 0:00:01\r\u001b[K     |██████▍                         | 153kB 6.0MB/s eta 0:00:01\r\u001b[K     |██████▉                         | 163kB 6.0MB/s eta 0:00:01\r\u001b[K     |███████▎                        | 174kB 6.0MB/s eta 0:00:01\r\u001b[K     |███████▊                        | 184kB 6.0MB/s eta 0:00:01\r\u001b[K     |████████                        | 194kB 6.0MB/s eta 0:00:01\r\u001b[K     |████████▌                       | 204kB 6.0MB/s eta 0:00:01\r\u001b[K     |█████████                       | 215kB 6.0MB/s eta 0:00:01\r\u001b[K     |█████████▍                      | 225kB 6.0MB/s eta 0:00:01\r\u001b[K     |█████████▉                      | 235kB 6.0MB/s eta 0:00:01\r\u001b[K     |██████████▎                     | 245kB 6.0MB/s eta 0:00:01\r\u001b[K     |██████████▋                     | 256kB 6.0MB/s eta 0:00:01\r\u001b[K     |███████████                     | 266kB 6.0MB/s eta 0:00:01\r\u001b[K     |███████████▌                    | 276kB 6.0MB/s eta 0:00:01\r\u001b[K     |████████████                    | 286kB 6.0MB/s eta 0:00:01\r\u001b[K     |████████████▍                   | 296kB 6.0MB/s eta 0:00:01\r\u001b[K     |████████████▉                   | 307kB 6.0MB/s eta 0:00:01\r\u001b[K     |█████████████▏                  | 317kB 6.0MB/s eta 0:00:01\r\u001b[K     |█████████████▋                  | 327kB 6.0MB/s eta 0:00:01\r\u001b[K     |██████████████                  | 337kB 6.0MB/s eta 0:00:01\r\u001b[K     |██████████████▌                 | 348kB 6.0MB/s eta 0:00:01\r\u001b[K     |███████████████                 | 358kB 6.0MB/s eta 0:00:01\r\u001b[K     |███████████████▍                | 368kB 6.0MB/s eta 0:00:01\r\u001b[K     |███████████████▊                | 378kB 6.0MB/s eta 0:00:01\r\u001b[K     |████████████████▏               | 389kB 6.0MB/s eta 0:00:01\r\u001b[K     |████████████████▋               | 399kB 6.0MB/s eta 0:00:01\r\u001b[K     |█████████████████               | 409kB 6.0MB/s eta 0:00:01\r\u001b[K     |█████████████████▌              | 419kB 6.0MB/s eta 0:00:01\r\u001b[K     |██████████████████              | 430kB 6.0MB/s eta 0:00:01\r\u001b[K     |██████████████████▎             | 440kB 6.0MB/s eta 0:00:01\r\u001b[K     |██████████████████▊             | 450kB 6.0MB/s eta 0:00:01\r\u001b[K     |███████████████████▏            | 460kB 6.0MB/s eta 0:00:01\r\u001b[K     |███████████████████▋            | 471kB 6.0MB/s eta 0:00:01\r\u001b[K     |████████████████████            | 481kB 6.0MB/s eta 0:00:01\r\u001b[K     |████████████████████▌           | 491kB 6.0MB/s eta 0:00:01\r\u001b[K     |████████████████████▉           | 501kB 6.0MB/s eta 0:00:01\r\u001b[K     |█████████████████████▎          | 512kB 6.0MB/s eta 0:00:01\r\u001b[K     |█████████████████████▊          | 522kB 6.0MB/s eta 0:00:01\r\u001b[K     |██████████████████████▏         | 532kB 6.0MB/s eta 0:00:01\r\u001b[K     |██████████████████████▋         | 542kB 6.0MB/s eta 0:00:01\r\u001b[K     |███████████████████████         | 552kB 6.0MB/s eta 0:00:01\r\u001b[K     |███████████████████████▍        | 563kB 6.0MB/s eta 0:00:01\r\u001b[K     |███████████████████████▉        | 573kB 6.0MB/s eta 0:00:01\r\u001b[K     |████████████████████████▎       | 583kB 6.0MB/s eta 0:00:01\r\u001b[K     |████████████████████████▊       | 593kB 6.0MB/s eta 0:00:01\r\u001b[K     |█████████████████████████▏      | 604kB 6.0MB/s eta 0:00:01\r\u001b[K     |█████████████████████████▋      | 614kB 6.0MB/s eta 0:00:01\r\u001b[K     |██████████████████████████      | 624kB 6.0MB/s eta 0:00:01\r\u001b[K     |██████████████████████████▍     | 634kB 6.0MB/s eta 0:00:01\r\u001b[K     |██████████████████████████▉     | 645kB 6.0MB/s eta 0:00:01\r\u001b[K     |███████████████████████████▎    | 655kB 6.0MB/s eta 0:00:01\r\u001b[K     |███████████████████████████▊    | 665kB 6.0MB/s eta 0:00:01\r\u001b[K     |████████████████████████████▏   | 675kB 6.0MB/s eta 0:00:01\r\u001b[K     |████████████████████████████▌   | 686kB 6.0MB/s eta 0:00:01\r\u001b[K     |█████████████████████████████   | 696kB 6.0MB/s eta 0:00:01\r\u001b[K     |█████████████████████████████▍  | 706kB 6.0MB/s eta 0:00:01\r\u001b[K     |█████████████████████████████▉  | 716kB 6.0MB/s eta 0:00:01\r\u001b[K     |██████████████████████████████▎ | 727kB 6.0MB/s eta 0:00:01\r\u001b[K     |██████████████████████████████▊ | 737kB 6.0MB/s eta 0:00:01\r\u001b[K     |███████████████████████████████ | 747kB 6.0MB/s eta 0:00:01\r\u001b[K     |███████████████████████████████▌| 757kB 6.0MB/s eta 0:00:01\r\u001b[K     |████████████████████████████████| 768kB 6.0MB/s eta 0:00:01\r\u001b[K     |████████████████████████████████| 778kB 6.0MB/s \n",
            "\u001b[?25hRequirement already satisfied: regex!=2019.12.17 in /usr/local/lib/python3.6/dist-packages (from transformers) (2019.12.20)\n",
            "Collecting tokenizers==0.8.1.rc1\n",
            "\u001b[?25l  Downloading https://files.pythonhosted.org/packages/40/d0/30d5f8d221a0ed981a186c8eb986ce1c94e3a6e87f994eae9f4aa5250217/tokenizers-0.8.1rc1-cp36-cp36m-manylinux1_x86_64.whl (3.0MB)\n",
            "\u001b[K     |████████████████████████████████| 3.0MB 17.5MB/s \n",
            "\u001b[?25hRequirement already satisfied: numpy in /usr/local/lib/python3.6/dist-packages (from transformers) (1.18.5)\n",
            "Requirement already satisfied: packaging in /usr/local/lib/python3.6/dist-packages (from transformers) (20.4)\n",
            "Requirement already satisfied: dataclasses; python_version < \"3.7\" in /usr/local/lib/python3.6/dist-packages (from transformers) (0.7)\n",
            "Requirement already satisfied: tqdm>=4.27 in /usr/local/lib/python3.6/dist-packages (from transformers) (4.41.1)\n",
            "Requirement already satisfied: filelock in /usr/local/lib/python3.6/dist-packages (from transformers) (3.0.12)\n",
            "Collecting sacremoses\n",
            "\u001b[?25l  Downloading https://files.pythonhosted.org/packages/7d/34/09d19aff26edcc8eb2a01bed8e98f13a1537005d31e95233fd48216eed10/sacremoses-0.0.43.tar.gz (883kB)\n",
            "\u001b[K     |████████████████████████████████| 890kB 43.0MB/s \n",
            "\u001b[?25hCollecting sentencepiece!=0.1.92\n",
            "\u001b[?25l  Downloading https://files.pythonhosted.org/packages/d4/a4/d0a884c4300004a78cca907a6ff9a5e9fe4f090f5d95ab341c53d28cbc58/sentencepiece-0.1.91-cp36-cp36m-manylinux1_x86_64.whl (1.1MB)\n",
            "\u001b[K     |████████████████████████████████| 1.1MB 41.0MB/s \n",
            "\u001b[?25hRequirement already satisfied: requests in /usr/local/lib/python3.6/dist-packages (from transformers) (2.23.0)\n",
            "Requirement already satisfied: six in /usr/local/lib/python3.6/dist-packages (from packaging->transformers) (1.12.0)\n",
            "Requirement already satisfied: pyparsing>=2.0.2 in /usr/local/lib/python3.6/dist-packages (from packaging->transformers) (2.4.7)\n",
            "Requirement already satisfied: click in /usr/local/lib/python3.6/dist-packages (from sacremoses->transformers) (7.1.2)\n",
            "Requirement already satisfied: joblib in /usr/local/lib/python3.6/dist-packages (from sacremoses->transformers) (0.16.0)\n",
            "Requirement already satisfied: chardet<4,>=3.0.2 in /usr/local/lib/python3.6/dist-packages (from requests->transformers) (3.0.4)\n",
            "Requirement already satisfied: idna<3,>=2.5 in /usr/local/lib/python3.6/dist-packages (from requests->transformers) (2.10)\n",
            "Requirement already satisfied: certifi>=2017.4.17 in /usr/local/lib/python3.6/dist-packages (from requests->transformers) (2020.6.20)\n",
            "Requirement already satisfied: urllib3!=1.25.0,!=1.25.1,<1.26,>=1.21.1 in /usr/local/lib/python3.6/dist-packages (from requests->transformers) (1.24.3)\n",
            "Building wheels for collected packages: sacremoses\n",
            "  Building wheel for sacremoses (setup.py) ... \u001b[?25l\u001b[?25hdone\n",
            "  Created wheel for sacremoses: filename=sacremoses-0.0.43-cp36-none-any.whl size=893260 sha256=cd43eb95cd7ba444e9d27c3444ece451808c4c1683a74cdecaeb9f0fc10bb7c2\n",
            "  Stored in directory: /root/.cache/pip/wheels/29/3c/fd/7ce5c3f0666dab31a50123635e6fb5e19ceb42ce38d4e58f45\n",
            "Successfully built sacremoses\n",
            "Installing collected packages: tokenizers, sacremoses, sentencepiece, transformers\n",
            "Successfully installed sacremoses-0.0.43 sentencepiece-0.1.91 tokenizers-0.8.1rc1 transformers-3.0.2\n"
          ],
          "name": "stdout"
        }
      ]
    },
    {
      "cell_type": "code",
      "metadata": {
        "id": "yBU977em35Ug",
        "colab_type": "code",
        "colab": {}
      },
      "source": [
        "import torch\n",
        "import torch.nn as nn\n",
        "import numpy as np\n",
        "import pandas as pd\n",
        "from sklearn.model_selection import train_test_split, GridSearchCV, cross_val_score\n",
        "from sklearn.linear_model import LogisticRegression\n",
        "import transformers as ppb\n",
        "import warnings\n",
        "warnings.filterwarnings('ignore')"
      ],
      "execution_count": 2,
      "outputs": []
    },
    {
      "cell_type": "code",
      "metadata": {
        "id": "RrfDYiXK-XGn",
        "colab_type": "code",
        "colab": {}
      },
      "source": [
        "device = 'cuda' if torch.cuda.is_available() else 'cpu'"
      ],
      "execution_count": 3,
      "outputs": []
    },
    {
      "cell_type": "markdown",
      "metadata": {
        "id": "iVkAjJLR5DwF",
        "colab_type": "text"
      },
      "source": [
        "### Import the Training Dataset"
      ]
    },
    {
      "cell_type": "code",
      "metadata": {
        "id": "7wce9DFT4z5R",
        "colab_type": "code",
        "colab": {}
      },
      "source": [
        "df = pd.read_csv('https://github.com/clairett/pytorch-sentiment-classification/raw/master/data/SST2/train.tsv', delimiter='\\t', header=None)"
      ],
      "execution_count": 4,
      "outputs": []
    },
    {
      "cell_type": "code",
      "metadata": {
        "id": "1AkaOnfEp9En",
        "colab_type": "code",
        "colab": {
          "base_uri": "https://localhost:8080/",
          "height": 195
        },
        "outputId": "5fee1330-e2ff-49fa-905d-181aeb6d87ee"
      },
      "source": [
        "df.columns = ['SENTENCE', 'TARGET']\n",
        "df.head()"
      ],
      "execution_count": 5,
      "outputs": [
        {
          "output_type": "execute_result",
          "data": {
            "text/html": [
              "<div>\n",
              "<style scoped>\n",
              "    .dataframe tbody tr th:only-of-type {\n",
              "        vertical-align: middle;\n",
              "    }\n",
              "\n",
              "    .dataframe tbody tr th {\n",
              "        vertical-align: top;\n",
              "    }\n",
              "\n",
              "    .dataframe thead th {\n",
              "        text-align: right;\n",
              "    }\n",
              "</style>\n",
              "<table border=\"1\" class=\"dataframe\">\n",
              "  <thead>\n",
              "    <tr style=\"text-align: right;\">\n",
              "      <th></th>\n",
              "      <th>SENTENCE</th>\n",
              "      <th>TARGET</th>\n",
              "    </tr>\n",
              "  </thead>\n",
              "  <tbody>\n",
              "    <tr>\n",
              "      <th>0</th>\n",
              "      <td>a stirring , funny and finally transporting re...</td>\n",
              "      <td>1</td>\n",
              "    </tr>\n",
              "    <tr>\n",
              "      <th>1</th>\n",
              "      <td>apparently reassembled from the cutting room f...</td>\n",
              "      <td>0</td>\n",
              "    </tr>\n",
              "    <tr>\n",
              "      <th>2</th>\n",
              "      <td>they presume their audience wo n't sit still f...</td>\n",
              "      <td>0</td>\n",
              "    </tr>\n",
              "    <tr>\n",
              "      <th>3</th>\n",
              "      <td>this is a visually stunning rumination on love...</td>\n",
              "      <td>1</td>\n",
              "    </tr>\n",
              "    <tr>\n",
              "      <th>4</th>\n",
              "      <td>jonathan parker 's bartleby should have been t...</td>\n",
              "      <td>1</td>\n",
              "    </tr>\n",
              "  </tbody>\n",
              "</table>\n",
              "</div>"
            ],
            "text/plain": [
              "                                            SENTENCE  TARGET\n",
              "0  a stirring , funny and finally transporting re...       1\n",
              "1  apparently reassembled from the cutting room f...       0\n",
              "2  they presume their audience wo n't sit still f...       0\n",
              "3  this is a visually stunning rumination on love...       1\n",
              "4  jonathan parker 's bartleby should have been t...       1"
            ]
          },
          "metadata": {
            "tags": []
          },
          "execution_count": 5
        }
      ]
    },
    {
      "cell_type": "markdown",
      "metadata": {
        "id": "GLWoXAB_5uqr",
        "colab_type": "text"
      },
      "source": [
        "### Loading Pretrained Bert Tokenizer\n",
        "\n"
      ]
    },
    {
      "cell_type": "code",
      "metadata": {
        "id": "irZiUcBM5uFe",
        "colab_type": "code",
        "colab": {
          "base_uri": "https://localhost:8080/",
          "height": 163,
          "referenced_widgets": [
            "a4e1644329e54c2d99f98efde75512f7",
            "d3fe75db7fa047ebb9a5568df6afb387",
            "13a33d596e8d415c82a9f6a3904c6561",
            "dd79b419cd53499d83fce9c98e9e1872",
            "112699f2ccb74fc7bbfb8550d225fab3",
            "598c1341127d412d816dca68c41c3463",
            "6b0bcf284d4a484585cc53f0a674c95b",
            "50827a8249e148b1a34a2d4e23fe2582",
            "daabeef2560442928233eef9034639a4",
            "a8ca497815f74ac4be9fc250c1e3d9d3",
            "c59cefa767c64254ad38415485c0dc09",
            "e286017f779a480c8800a978787e7f31",
            "b492d689abfa42e79df22ca1f7e16240",
            "5c80ed8f8ca84ddc91096295e6ab2ab1",
            "47e01bab0ed14b3683efd5744ba52626",
            "9fb28f89440349d6903c375ed49f6e85",
            "81ddce1aa20d42e59807289077afe290",
            "cb45ef7397174db4bbe2f74040bf31af",
            "ce4a65707141483d94d7748f1a26c9fb",
            "231fe36312f34ef4a48d5dd3decd585a",
            "091d4fbb7b874c138025a5f500000bba",
            "d7555da05c4e4f00aff56376b0d043d4",
            "09a5df005efa46b2855a1cfbe2ebfb7b",
            "d1ae0cee79b743d69b2803cff6e9c1c9"
          ]
        },
        "outputId": "0f180853-8785-4462-b4c1-ba347bcd3f64"
      },
      "source": [
        "model_class, tokenizer_class, pretrained_weights = (ppb.DistilBertModel, ppb.DistilBertTokenizer, 'distilbert-base-uncased')\n",
        "#model_class, tokenizer_class, pretrained_weights = (ppb.BertModel, ppb.BertTokenizer, 'bert-base-uncased')\n",
        "tokenizer = tokenizer_class.from_pretrained(pretrained_weights)"
      ],
      "execution_count": 7,
      "outputs": [
        {
          "output_type": "display_data",
          "data": {
            "application/vnd.jupyter.widget-view+json": {
              "model_id": "a4e1644329e54c2d99f98efde75512f7",
              "version_minor": 0,
              "version_major": 2
            },
            "text/plain": [
              "HBox(children=(FloatProgress(value=0.0, description='Downloading', max=231508.0, style=ProgressStyle(descripti…"
            ]
          },
          "metadata": {
            "tags": []
          }
        },
        {
          "output_type": "stream",
          "text": [
            "\n"
          ],
          "name": "stdout"
        },
        {
          "output_type": "display_data",
          "data": {
            "application/vnd.jupyter.widget-view+json": {
              "model_id": "daabeef2560442928233eef9034639a4",
              "version_minor": 0,
              "version_major": 2
            },
            "text/plain": [
              "HBox(children=(FloatProgress(value=0.0, description='Downloading', max=442.0, style=ProgressStyle(description_…"
            ]
          },
          "metadata": {
            "tags": []
          }
        },
        {
          "output_type": "stream",
          "text": [
            "\n"
          ],
          "name": "stdout"
        },
        {
          "output_type": "display_data",
          "data": {
            "application/vnd.jupyter.widget-view+json": {
              "model_id": "81ddce1aa20d42e59807289077afe290",
              "version_minor": 0,
              "version_major": 2
            },
            "text/plain": [
              "HBox(children=(FloatProgress(value=0.0, description='Downloading', max=267967963.0, style=ProgressStyle(descri…"
            ]
          },
          "metadata": {
            "tags": []
          }
        },
        {
          "output_type": "stream",
          "text": [
            "\n"
          ],
          "name": "stdout"
        }
      ]
    },
    {
      "cell_type": "markdown",
      "metadata": {
        "id": "jyaU4xOZeneP",
        "colab_type": "text"
      },
      "source": [
        "### Preprocess Input"
      ]
    },
    {
      "cell_type": "code",
      "metadata": {
        "id": "beSiWcQORC33",
        "colab_type": "code",
        "colab": {}
      },
      "source": [
        "TRAIN_BATCH_SIZE = 4\n",
        "TEST_BATCH_SIZE = 2\n",
        "EPOCHS = 5\n",
        "LEARNING_RATE = 1e-05\n",
        "MAX_LEN = 64"
      ],
      "execution_count": 6,
      "outputs": []
    },
    {
      "cell_type": "code",
      "metadata": {
        "id": "Bqp1jIoNQOiz",
        "colab_type": "code",
        "colab": {}
      },
      "source": [
        "class Triage(torch.utils.data.Dataset):\n",
        "    def __init__(self, dataframe, tokenizer, max_len):\n",
        "        self.len = len(dataframe)\n",
        "        self.data = dataframe\n",
        "        self.tokenizer = tokenizer\n",
        "        self.max_len = max_len\n",
        "        \n",
        "    def __getitem__(self, index):\n",
        "        title = str(self.data.SENTENCE[index])\n",
        "        title = \" \".join(title.split())\n",
        "        inputs = self.tokenizer.encode_plus(\n",
        "            title,\n",
        "            None,\n",
        "            add_special_tokens=True,\n",
        "            max_length=self.max_len,\n",
        "            truncation=True,\n",
        "            pad_to_max_length=True,\n",
        "            return_token_type_ids=True\n",
        "        )\n",
        "        ids = inputs['input_ids']\n",
        "        mask = inputs['attention_mask']\n",
        "\n",
        "        return {\n",
        "            'ids': torch.tensor(ids, dtype=torch.long),\n",
        "            'mask': torch.tensor(mask, dtype=torch.long),\n",
        "            'targets': torch.tensor(self.data.TARGET[index], dtype=torch.long)\n",
        "        } \n",
        "    \n",
        "    def __len__(self):\n",
        "        return self.len"
      ],
      "execution_count": 16,
      "outputs": []
    },
    {
      "cell_type": "code",
      "metadata": {
        "id": "4LIfIuTzQsR7",
        "colab_type": "code",
        "colab": {
          "base_uri": "https://localhost:8080/",
          "height": 67
        },
        "outputId": "7f581801-295e-4207-c416-47769e4e13c9"
      },
      "source": [
        "# Creating the dataset and dataloader for the neural network\n",
        "train_size = 0.8\n",
        "train_dataset=df.sample(frac=train_size,random_state=200)\n",
        "test_dataset=df.drop(train_dataset.index).reset_index(drop=True)\n",
        "train_dataset = train_dataset.reset_index(drop=True)\n",
        "\n",
        "print(\"FULL Dataset: {}\".format(df.shape))\n",
        "print(\"TRAIN Dataset: {}\".format(train_dataset.shape))\n",
        "print(\"TEST Dataset: {}\".format(test_dataset.shape))\n",
        "\n",
        "training_set = Triage(train_dataset, tokenizer, MAX_LEN)\n",
        "testing_set = Triage(test_dataset, tokenizer, MAX_LEN)"
      ],
      "execution_count": 17,
      "outputs": [
        {
          "output_type": "stream",
          "text": [
            "FULL Dataset: (6920, 2)\n",
            "TRAIN Dataset: (5536, 2)\n",
            "TEST Dataset: (1384, 2)\n"
          ],
          "name": "stdout"
        }
      ]
    },
    {
      "cell_type": "code",
      "metadata": {
        "id": "uESCs56SRWxh",
        "colab_type": "code",
        "colab": {}
      },
      "source": [
        "train_params = {'batch_size': TRAIN_BATCH_SIZE,\n",
        "                'shuffle': True,\n",
        "                'num_workers': 0\n",
        "                }\n",
        "\n",
        "test_params = {'batch_size': TEST_BATCH_SIZE,\n",
        "                'shuffle': True,\n",
        "                'num_workers': 0\n",
        "                }\n",
        "\n",
        "training_loader = torch.utils.data.DataLoader(training_set, **train_params)\n",
        "testing_loader = torch.utils.data.DataLoader(testing_set, **test_params)"
      ],
      "execution_count": 18,
      "outputs": []
    },
    {
      "cell_type": "markdown",
      "metadata": {
        "id": "EgZ1LkNt8SLp",
        "colab_type": "text"
      },
      "source": [
        "## Fine Tuning DistilBert"
      ]
    },
    {
      "cell_type": "code",
      "metadata": {
        "id": "ZZk2pHAkRqvn",
        "colab_type": "code",
        "colab": {}
      },
      "source": [
        "# Creating the customized model, by adding a drop out and a dense layer on top of distil bert to get the final output for the model. \n",
        "class DistilBERTClass(torch.nn.Module):\n",
        "    def __init__(self):\n",
        "        super(DistilBERTClass, self).__init__()\n",
        "        self.l1 = ppb.DistilBertModel.from_pretrained('distilbert-base-uncased')\n",
        "        self.l2 = torch.nn.Dropout(0.3)\n",
        "        self.l3 = torch.nn.Linear(768, 1)\n",
        "    \n",
        "    def forward(self, ids, mask):\n",
        "        output_1= self.l1(ids, mask)\n",
        "        output_2 = self.l2(output_1[0])\n",
        "        output = self.l3(output_2)\n",
        "        return output"
      ],
      "execution_count": 11,
      "outputs": []
    },
    {
      "cell_type": "code",
      "metadata": {
        "id": "Kr1uCq-K9kCl",
        "colab_type": "code",
        "colab": {
          "base_uri": "https://localhost:8080/",
          "height": 1000
        },
        "outputId": "de86cde5-1c6c-41cc-ef5a-dcac58b7ce9d"
      },
      "source": [
        "model = DistilBERTClass()\n",
        "model.to(device)"
      ],
      "execution_count": 12,
      "outputs": [
        {
          "output_type": "execute_result",
          "data": {
            "text/plain": [
              "DistilBERTClass(\n",
              "  (l1): DistilBertModel(\n",
              "    (embeddings): Embeddings(\n",
              "      (word_embeddings): Embedding(30522, 768, padding_idx=0)\n",
              "      (position_embeddings): Embedding(512, 768)\n",
              "      (LayerNorm): LayerNorm((768,), eps=1e-12, elementwise_affine=True)\n",
              "      (dropout): Dropout(p=0.1, inplace=False)\n",
              "    )\n",
              "    (transformer): Transformer(\n",
              "      (layer): ModuleList(\n",
              "        (0): TransformerBlock(\n",
              "          (attention): MultiHeadSelfAttention(\n",
              "            (dropout): Dropout(p=0.1, inplace=False)\n",
              "            (q_lin): Linear(in_features=768, out_features=768, bias=True)\n",
              "            (k_lin): Linear(in_features=768, out_features=768, bias=True)\n",
              "            (v_lin): Linear(in_features=768, out_features=768, bias=True)\n",
              "            (out_lin): Linear(in_features=768, out_features=768, bias=True)\n",
              "          )\n",
              "          (sa_layer_norm): LayerNorm((768,), eps=1e-12, elementwise_affine=True)\n",
              "          (ffn): FFN(\n",
              "            (dropout): Dropout(p=0.1, inplace=False)\n",
              "            (lin1): Linear(in_features=768, out_features=3072, bias=True)\n",
              "            (lin2): Linear(in_features=3072, out_features=768, bias=True)\n",
              "          )\n",
              "          (output_layer_norm): LayerNorm((768,), eps=1e-12, elementwise_affine=True)\n",
              "        )\n",
              "        (1): TransformerBlock(\n",
              "          (attention): MultiHeadSelfAttention(\n",
              "            (dropout): Dropout(p=0.1, inplace=False)\n",
              "            (q_lin): Linear(in_features=768, out_features=768, bias=True)\n",
              "            (k_lin): Linear(in_features=768, out_features=768, bias=True)\n",
              "            (v_lin): Linear(in_features=768, out_features=768, bias=True)\n",
              "            (out_lin): Linear(in_features=768, out_features=768, bias=True)\n",
              "          )\n",
              "          (sa_layer_norm): LayerNorm((768,), eps=1e-12, elementwise_affine=True)\n",
              "          (ffn): FFN(\n",
              "            (dropout): Dropout(p=0.1, inplace=False)\n",
              "            (lin1): Linear(in_features=768, out_features=3072, bias=True)\n",
              "            (lin2): Linear(in_features=3072, out_features=768, bias=True)\n",
              "          )\n",
              "          (output_layer_norm): LayerNorm((768,), eps=1e-12, elementwise_affine=True)\n",
              "        )\n",
              "        (2): TransformerBlock(\n",
              "          (attention): MultiHeadSelfAttention(\n",
              "            (dropout): Dropout(p=0.1, inplace=False)\n",
              "            (q_lin): Linear(in_features=768, out_features=768, bias=True)\n",
              "            (k_lin): Linear(in_features=768, out_features=768, bias=True)\n",
              "            (v_lin): Linear(in_features=768, out_features=768, bias=True)\n",
              "            (out_lin): Linear(in_features=768, out_features=768, bias=True)\n",
              "          )\n",
              "          (sa_layer_norm): LayerNorm((768,), eps=1e-12, elementwise_affine=True)\n",
              "          (ffn): FFN(\n",
              "            (dropout): Dropout(p=0.1, inplace=False)\n",
              "            (lin1): Linear(in_features=768, out_features=3072, bias=True)\n",
              "            (lin2): Linear(in_features=3072, out_features=768, bias=True)\n",
              "          )\n",
              "          (output_layer_norm): LayerNorm((768,), eps=1e-12, elementwise_affine=True)\n",
              "        )\n",
              "        (3): TransformerBlock(\n",
              "          (attention): MultiHeadSelfAttention(\n",
              "            (dropout): Dropout(p=0.1, inplace=False)\n",
              "            (q_lin): Linear(in_features=768, out_features=768, bias=True)\n",
              "            (k_lin): Linear(in_features=768, out_features=768, bias=True)\n",
              "            (v_lin): Linear(in_features=768, out_features=768, bias=True)\n",
              "            (out_lin): Linear(in_features=768, out_features=768, bias=True)\n",
              "          )\n",
              "          (sa_layer_norm): LayerNorm((768,), eps=1e-12, elementwise_affine=True)\n",
              "          (ffn): FFN(\n",
              "            (dropout): Dropout(p=0.1, inplace=False)\n",
              "            (lin1): Linear(in_features=768, out_features=3072, bias=True)\n",
              "            (lin2): Linear(in_features=3072, out_features=768, bias=True)\n",
              "          )\n",
              "          (output_layer_norm): LayerNorm((768,), eps=1e-12, elementwise_affine=True)\n",
              "        )\n",
              "        (4): TransformerBlock(\n",
              "          (attention): MultiHeadSelfAttention(\n",
              "            (dropout): Dropout(p=0.1, inplace=False)\n",
              "            (q_lin): Linear(in_features=768, out_features=768, bias=True)\n",
              "            (k_lin): Linear(in_features=768, out_features=768, bias=True)\n",
              "            (v_lin): Linear(in_features=768, out_features=768, bias=True)\n",
              "            (out_lin): Linear(in_features=768, out_features=768, bias=True)\n",
              "          )\n",
              "          (sa_layer_norm): LayerNorm((768,), eps=1e-12, elementwise_affine=True)\n",
              "          (ffn): FFN(\n",
              "            (dropout): Dropout(p=0.1, inplace=False)\n",
              "            (lin1): Linear(in_features=768, out_features=3072, bias=True)\n",
              "            (lin2): Linear(in_features=3072, out_features=768, bias=True)\n",
              "          )\n",
              "          (output_layer_norm): LayerNorm((768,), eps=1e-12, elementwise_affine=True)\n",
              "        )\n",
              "        (5): TransformerBlock(\n",
              "          (attention): MultiHeadSelfAttention(\n",
              "            (dropout): Dropout(p=0.1, inplace=False)\n",
              "            (q_lin): Linear(in_features=768, out_features=768, bias=True)\n",
              "            (k_lin): Linear(in_features=768, out_features=768, bias=True)\n",
              "            (v_lin): Linear(in_features=768, out_features=768, bias=True)\n",
              "            (out_lin): Linear(in_features=768, out_features=768, bias=True)\n",
              "          )\n",
              "          (sa_layer_norm): LayerNorm((768,), eps=1e-12, elementwise_affine=True)\n",
              "          (ffn): FFN(\n",
              "            (dropout): Dropout(p=0.1, inplace=False)\n",
              "            (lin1): Linear(in_features=768, out_features=3072, bias=True)\n",
              "            (lin2): Linear(in_features=3072, out_features=768, bias=True)\n",
              "          )\n",
              "          (output_layer_norm): LayerNorm((768,), eps=1e-12, elementwise_affine=True)\n",
              "        )\n",
              "      )\n",
              "    )\n",
              "  )\n",
              "  (l2): Dropout(p=0.3, inplace=False)\n",
              "  (l3): Linear(in_features=768, out_features=1, bias=True)\n",
              ")"
            ]
          },
          "metadata": {
            "tags": []
          },
          "execution_count": 12
        }
      ]
    },
    {
      "cell_type": "code",
      "metadata": {
        "id": "G2uVXpOlRoaI",
        "colab_type": "code",
        "colab": {}
      },
      "source": [
        "# Creating the loss function and optimizer\n",
        "loss_function = torch.nn.CrossEntropyLoss()\n",
        "optimizer = torch.optim.Adam(params =  model.parameters(), lr=LEARNING_RATE)"
      ],
      "execution_count": 13,
      "outputs": []
    },
    {
      "cell_type": "code",
      "metadata": {
        "id": "1Q_F8AFu_urf",
        "colab_type": "code",
        "colab": {}
      },
      "source": [
        "# Defining the training function on the 80% of the dataset for tuning the distilbert model\n",
        "\n",
        "def train(epoch):\n",
        "    model.train()\n",
        "    for _,data in enumerate(training_loader, 0):\n",
        "        ids = data['ids'].to(device, dtype = torch.long)\n",
        "        mask = data['mask'].to(device, dtype = torch.long)\n",
        "        targets = data['targets'].to(device, dtype = torch.long)\n",
        "        outputs = model(ids, mask).squeeze()\n",
        "        optimizer.zero_grad()\n",
        "        loss = loss_function(outputs, targets)\n",
        "        if _%500==0:\n",
        "            print(f'Epoch: {epoch}, Loss:  {loss.item()}')\n",
        "        \n",
        "        optimizer.zero_grad()\n",
        "        loss.backward()\n",
        "        optimizer.step()"
      ],
      "execution_count": 14,
      "outputs": []
    },
    {
      "cell_type": "code",
      "metadata": {
        "id": "analHGWmSL-I",
        "colab_type": "code",
        "colab": {
          "base_uri": "https://localhost:8080/",
          "height": 1000
        },
        "outputId": "17d0ce08-21e9-4a1e-f28a-7f197c061555"
      },
      "source": [
        "for epoch in range(EPOCHS):\n",
        "    train(epoch)"
      ],
      "execution_count": 19,
      "outputs": [
        {
          "output_type": "stream",
          "text": [
            "Epoch: 0, Loss:  4.281152248382568\n",
            "Epoch: 0, Loss:  1.4380497932434082\n",
            "Epoch: 0, Loss:  0.8455644249916077\n",
            "Epoch: 0, Loss:  0.7071265578269958\n",
            "Epoch: 0, Loss:  0.6060503721237183\n",
            "Epoch: 0, Loss:  0.9129670858383179\n",
            "Epoch: 0, Loss:  0.5552871227264404\n",
            "Epoch: 0, Loss:  0.7446519136428833\n",
            "Epoch: 0, Loss:  0.4004485607147217\n",
            "Epoch: 0, Loss:  0.3368568420410156\n",
            "Epoch: 0, Loss:  0.3948967456817627\n",
            "Epoch: 0, Loss:  0.5180408358573914\n",
            "Epoch: 0, Loss:  0.1444416642189026\n",
            "Epoch: 0, Loss:  0.09901189804077148\n",
            "Epoch: 0, Loss:  0.6328852772712708\n",
            "Epoch: 0, Loss:  0.19777247309684753\n",
            "Epoch: 0, Loss:  0.6900107264518738\n",
            "Epoch: 0, Loss:  0.5885286927223206\n",
            "Epoch: 0, Loss:  0.7088488340377808\n",
            "Epoch: 0, Loss:  0.5946123600006104\n",
            "Epoch: 0, Loss:  0.3296729624271393\n",
            "Epoch: 0, Loss:  0.6868255734443665\n",
            "Epoch: 0, Loss:  0.13432401418685913\n",
            "Epoch: 0, Loss:  0.6956230998039246\n",
            "Epoch: 0, Loss:  0.5299274325370789\n",
            "Epoch: 0, Loss:  0.2781771421432495\n",
            "Epoch: 0, Loss:  0.4445715546607971\n",
            "Epoch: 0, Loss:  0.09510701894760132\n",
            "Epoch: 1, Loss:  0.27016985416412354\n",
            "Epoch: 1, Loss:  0.054642677307128906\n",
            "Epoch: 1, Loss:  0.30346518754959106\n",
            "Epoch: 1, Loss:  0.017406344413757324\n",
            "Epoch: 1, Loss:  0.08750641345977783\n",
            "Epoch: 1, Loss:  0.03405195474624634\n",
            "Epoch: 1, Loss:  0.07938683032989502\n",
            "Epoch: 1, Loss:  0.11607855558395386\n",
            "Epoch: 1, Loss:  0.028303146362304688\n",
            "Epoch: 1, Loss:  0.1841825246810913\n",
            "Epoch: 1, Loss:  0.2071923017501831\n",
            "Epoch: 1, Loss:  0.04517453908920288\n",
            "Epoch: 1, Loss:  0.013169288635253906\n",
            "Epoch: 1, Loss:  0.025027990341186523\n",
            "Epoch: 1, Loss:  0.04837489128112793\n",
            "Epoch: 1, Loss:  0.6234281063079834\n",
            "Epoch: 1, Loss:  0.7541947960853577\n",
            "Epoch: 1, Loss:  0.12764328718185425\n",
            "Epoch: 1, Loss:  1.722091555595398\n",
            "Epoch: 1, Loss:  0.05093199014663696\n",
            "Epoch: 1, Loss:  0.15634852647781372\n",
            "Epoch: 1, Loss:  0.3462532162666321\n",
            "Epoch: 1, Loss:  0.25980180501937866\n",
            "Epoch: 1, Loss:  0.04799586534500122\n",
            "Epoch: 1, Loss:  0.05977886915206909\n",
            "Epoch: 1, Loss:  0.030341148376464844\n",
            "Epoch: 1, Loss:  0.33022916316986084\n",
            "Epoch: 1, Loss:  0.6664999723434448\n",
            "Epoch: 2, Loss:  0.10707825422286987\n",
            "Epoch: 2, Loss:  0.01628291606903076\n",
            "Epoch: 2, Loss:  0.010727763175964355\n",
            "Epoch: 2, Loss:  0.4901128113269806\n",
            "Epoch: 2, Loss:  0.01941227912902832\n",
            "Epoch: 2, Loss:  0.049206316471099854\n",
            "Epoch: 2, Loss:  0.005482614040374756\n",
            "Epoch: 2, Loss:  0.007746875286102295\n",
            "Epoch: 2, Loss:  0.23727887868881226\n",
            "Epoch: 2, Loss:  0.14076381921768188\n",
            "Epoch: 2, Loss:  0.12830275297164917\n",
            "Epoch: 2, Loss:  0.04712897539138794\n",
            "Epoch: 2, Loss:  0.013259530067443848\n",
            "Epoch: 2, Loss:  0.010828018188476562\n",
            "Epoch: 2, Loss:  0.01501530408859253\n",
            "Epoch: 2, Loss:  0.018444418907165527\n",
            "Epoch: 2, Loss:  0.004338860511779785\n",
            "Epoch: 2, Loss:  0.046509504318237305\n",
            "Epoch: 2, Loss:  0.07254093885421753\n",
            "Epoch: 2, Loss:  0.018072128295898438\n",
            "Epoch: 2, Loss:  0.23432499170303345\n",
            "Epoch: 2, Loss:  0.010344624519348145\n",
            "Epoch: 2, Loss:  0.03937125205993652\n",
            "Epoch: 2, Loss:  0.007562875747680664\n",
            "Epoch: 2, Loss:  0.2048141360282898\n",
            "Epoch: 2, Loss:  0.024509668350219727\n",
            "Epoch: 2, Loss:  0.003348708152770996\n",
            "Epoch: 2, Loss:  0.0026100873947143555\n",
            "Epoch: 3, Loss:  0.0156252384185791\n",
            "Epoch: 3, Loss:  0.004347085952758789\n",
            "Epoch: 3, Loss:  0.06759989261627197\n",
            "Epoch: 3, Loss:  0.17667189240455627\n",
            "Epoch: 3, Loss:  0.05426585674285889\n",
            "Epoch: 3, Loss:  0.0017549395561218262\n",
            "Epoch: 3, Loss:  0.0007773637771606445\n",
            "Epoch: 3, Loss:  0.0001856088638305664\n",
            "Epoch: 3, Loss:  0.020690441131591797\n",
            "Epoch: 3, Loss:  0.015665411949157715\n",
            "Epoch: 3, Loss:  0.009442329406738281\n",
            "Epoch: 3, Loss:  0.0072479248046875\n",
            "Epoch: 3, Loss:  0.010169386863708496\n",
            "Epoch: 3, Loss:  0.009244203567504883\n",
            "Epoch: 3, Loss:  0.03216958045959473\n",
            "Epoch: 3, Loss:  0.036180734634399414\n",
            "Epoch: 3, Loss:  0.0019136667251586914\n",
            "Epoch: 3, Loss:  0.03170359134674072\n",
            "Epoch: 3, Loss:  0.004113197326660156\n",
            "Epoch: 3, Loss:  0.0006847381591796875\n",
            "Epoch: 3, Loss:  0.0032194852828979492\n",
            "Epoch: 3, Loss:  0.009397387504577637\n",
            "Epoch: 3, Loss:  0.005313992500305176\n",
            "Epoch: 3, Loss:  0.0054732561111450195\n",
            "Epoch: 3, Loss:  0.08010613918304443\n",
            "Epoch: 3, Loss:  1.9253246784210205\n",
            "Epoch: 3, Loss:  0.008280038833618164\n",
            "Epoch: 3, Loss:  0.001731276512145996\n",
            "Epoch: 4, Loss:  0.0037099123001098633\n",
            "Epoch: 4, Loss:  0.028349459171295166\n",
            "Epoch: 4, Loss:  0.002220630645751953\n",
            "Epoch: 4, Loss:  0.0047446489334106445\n",
            "Epoch: 4, Loss:  0.0014221668243408203\n",
            "Epoch: 4, Loss:  0.02860724925994873\n",
            "Epoch: 4, Loss:  0.005587339401245117\n",
            "Epoch: 4, Loss:  0.001660466194152832\n",
            "Epoch: 4, Loss:  0.0007399320602416992\n",
            "Epoch: 4, Loss:  0.0008828639984130859\n",
            "Epoch: 4, Loss:  0.002036750316619873\n",
            "Epoch: 4, Loss:  0.0048340559005737305\n",
            "Epoch: 4, Loss:  0.007646918296813965\n",
            "Epoch: 4, Loss:  0.0005767345428466797\n",
            "Epoch: 4, Loss:  0.020934224128723145\n",
            "Epoch: 4, Loss:  0.0025025606155395508\n",
            "Epoch: 4, Loss:  0.0054291486740112305\n",
            "Epoch: 4, Loss:  0.003363370895385742\n",
            "Epoch: 4, Loss:  0.0002703666687011719\n",
            "Epoch: 4, Loss:  0.012174606323242188\n",
            "Epoch: 4, Loss:  0.00036394596099853516\n",
            "Epoch: 4, Loss:  0.00441288948059082\n",
            "Epoch: 4, Loss:  0.0221937894821167\n",
            "Epoch: 4, Loss:  0.00028574466705322266\n",
            "Epoch: 4, Loss:  0.0009862780570983887\n",
            "Epoch: 4, Loss:  0.001188039779663086\n",
            "Epoch: 4, Loss:  0.006429910659790039\n",
            "Epoch: 4, Loss:  0.008768558502197266\n"
          ],
          "name": "stdout"
        }
      ]
    },
    {
      "cell_type": "code",
      "metadata": {
        "id": "JoQAOwlUSR16",
        "colab_type": "code",
        "colab": {}
      },
      "source": [
        "def valid(model, testing_loader):\n",
        "  model.eval()\n",
        "  n_correct, n_wrong, total = (0, 0, 0)\n",
        "  with torch.no_grad():\n",
        "    for _, data in enumerate(testing_loader, 0):\n",
        "      ids = data['ids'].to(device, dtype = torch.long)\n",
        "      mask = data['mask'].to(device, dtype = torch.long)\n",
        "      target = data['targets'].to(device, dtype = torch.long)\n",
        "      output = model(ids, mask).squeeze()\n",
        "      big_val, big_idx = torch.max(output.data, dim=1)\n",
        "      total+=target.size(0)\n",
        "      n_correct+=(big_idx==target).sum().item()\n",
        "  return (n_correct*100)/total"
      ],
      "execution_count": 24,
      "outputs": []
    },
    {
      "cell_type": "code",
      "metadata": {
        "id": "MXVJ7i38ceZc",
        "colab_type": "code",
        "colab": {
          "base_uri": "https://localhost:8080/",
          "height": 34
        },
        "outputId": "b9025258-1985-46b8-c103-599dbf49b417"
      },
      "source": [
        "acc = valid(model, testing_loader)\n",
        "print(\"This is the accuracy of our model\", acc)"
      ],
      "execution_count": 25,
      "outputs": [
        {
          "output_type": "stream",
          "text": [
            "This is the accuracy of our model 88.15028901734104\n"
          ],
          "name": "stdout"
        }
      ]
    },
    {
      "cell_type": "code",
      "metadata": {
        "id": "EHBSqVI4cp6l",
        "colab_type": "code",
        "colab": {
          "base_uri": "https://localhost:8080/",
          "height": 34
        },
        "outputId": "134ff7f7-b399-4906-d413-16ebcc0dcf23"
      },
      "source": [
        "output_model_file = 'model/pytorch_distilBert.bin'\n",
        "output_vocab_file = 'model/vocab_distilBert.bin'\n",
        "\n",
        "model_to_save = model\n",
        "torch.save(model_to_save, output_model_file)\n",
        "tokenizer.save_vocabulary(output_vocab_file)\n",
        "\n",
        "print(\"All files saved\")"
      ],
      "execution_count": 28,
      "outputs": [
        {
          "output_type": "stream",
          "text": [
            "All files saved\n"
          ],
          "name": "stdout"
        }
      ]
    },
    {
      "cell_type": "code",
      "metadata": {
        "id": "RxeFsk_1eHfU",
        "colab_type": "code",
        "colab": {}
      },
      "source": [
        ""
      ],
      "execution_count": null,
      "outputs": []
    }
  ]
}