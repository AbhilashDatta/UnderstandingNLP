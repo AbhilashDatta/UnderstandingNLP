{
  "nbformat": 4,
  "nbformat_minor": 0,
  "metadata": {
    "colab": {
      "name": "ModelInterpretabilityAnalysisOnSimpleDNN.ipynb",
      "provenance": [],
      "authorship_tag": "ABX9TyONIHQSKi4kfkc2jGIew/GE",
      "include_colab_link": true
    },
    "kernelspec": {
      "name": "python3",
      "display_name": "Python 3"
    },
    "language_info": {
      "name": "python"
    }
  },
  "cells": [
    {
      "cell_type": "markdown",
      "metadata": {
        "id": "view-in-github",
        "colab_type": "text"
      },
      "source": [
        "<a href=\"https://colab.research.google.com/github/bhadreshpsavani/UnderstandingNLP/blob/master/ModelInterpretabilityAnalysisOnSimpleDNN.ipynb\" target=\"_parent\"><img src=\"https://colab.research.google.com/assets/colab-badge.svg\" alt=\"Open In Colab\"/></a>"
      ]
    },
    {
      "cell_type": "markdown",
      "metadata": {
        "id": "sopRUPPPbr4t"
      },
      "source": [
        "# ModelInterpretabilityAnalysisOnSimpleDNN\n",
        "In this notebook we will do model interpretability analysis with Captum library on titanic survival dataset"
      ]
    },
    {
      "cell_type": "code",
      "metadata": {
        "id": "yxrHJM_tbQIk"
      },
      "source": [
        "# install external libraries\n",
        "!pip install -q captum scipy"
      ],
      "execution_count": 3,
      "outputs": []
    },
    {
      "cell_type": "code",
      "metadata": {
        "id": "QB71WCLEb9a8"
      },
      "source": [
        "import numpy as np\n",
        "import pandas as pd\n",
        "from scipy import stats\n",
        "import torch\n",
        "\n",
        "from captum.attr import IntegratedGradients, LayerConductance, NeuronConductance\n",
        "\n",
        "import matplotlib\n",
        "import matplotlib.pyplot as plt\n",
        "%matplotlib inline"
      ],
      "execution_count": 4,
      "outputs": []
    },
    {
      "cell_type": "markdown",
      "metadata": {
        "id": "xOZ4hNNWsMjk"
      },
      "source": [
        "## Data"
      ]
    },
    {
      "cell_type": "code",
      "metadata": {
        "colab": {
          "base_uri": "https://localhost:8080/",
          "height": 272
        },
        "id": "VxMa_30tco_M",
        "outputId": "d02ce7f1-28a7-4108-cff4-0573f9af6afc"
      },
      "source": [
        "# read data\n",
        "dataset_path = \"https://biostat.app.vumc.org/wiki/pub/Main/DataSets/titanic3.csv\"\n",
        "titanic_data = pd.read_csv(dataset_path)\n",
        "titanic_data.head()"
      ],
      "execution_count": 27,
      "outputs": [
        {
          "output_type": "execute_result",
          "data": {
            "text/html": [
              "<div>\n",
              "<style scoped>\n",
              "    .dataframe tbody tr th:only-of-type {\n",
              "        vertical-align: middle;\n",
              "    }\n",
              "\n",
              "    .dataframe tbody tr th {\n",
              "        vertical-align: top;\n",
              "    }\n",
              "\n",
              "    .dataframe thead th {\n",
              "        text-align: right;\n",
              "    }\n",
              "</style>\n",
              "<table border=\"1\" class=\"dataframe\">\n",
              "  <thead>\n",
              "    <tr style=\"text-align: right;\">\n",
              "      <th></th>\n",
              "      <th>pclass</th>\n",
              "      <th>survived</th>\n",
              "      <th>name</th>\n",
              "      <th>sex</th>\n",
              "      <th>age</th>\n",
              "      <th>sibsp</th>\n",
              "      <th>parch</th>\n",
              "      <th>ticket</th>\n",
              "      <th>fare</th>\n",
              "      <th>cabin</th>\n",
              "      <th>embarked</th>\n",
              "      <th>boat</th>\n",
              "      <th>body</th>\n",
              "      <th>home.dest</th>\n",
              "    </tr>\n",
              "  </thead>\n",
              "  <tbody>\n",
              "    <tr>\n",
              "      <th>0</th>\n",
              "      <td>1</td>\n",
              "      <td>1</td>\n",
              "      <td>Allen, Miss. Elisabeth Walton</td>\n",
              "      <td>female</td>\n",
              "      <td>29.00</td>\n",
              "      <td>0</td>\n",
              "      <td>0</td>\n",
              "      <td>24160</td>\n",
              "      <td>211.3375</td>\n",
              "      <td>B5</td>\n",
              "      <td>S</td>\n",
              "      <td>2</td>\n",
              "      <td>NaN</td>\n",
              "      <td>St Louis, MO</td>\n",
              "    </tr>\n",
              "    <tr>\n",
              "      <th>1</th>\n",
              "      <td>1</td>\n",
              "      <td>1</td>\n",
              "      <td>Allison, Master. Hudson Trevor</td>\n",
              "      <td>male</td>\n",
              "      <td>0.92</td>\n",
              "      <td>1</td>\n",
              "      <td>2</td>\n",
              "      <td>113781</td>\n",
              "      <td>151.5500</td>\n",
              "      <td>C22 C26</td>\n",
              "      <td>S</td>\n",
              "      <td>11</td>\n",
              "      <td>NaN</td>\n",
              "      <td>Montreal, PQ / Chesterville, ON</td>\n",
              "    </tr>\n",
              "    <tr>\n",
              "      <th>2</th>\n",
              "      <td>1</td>\n",
              "      <td>0</td>\n",
              "      <td>Allison, Miss. Helen Loraine</td>\n",
              "      <td>female</td>\n",
              "      <td>2.00</td>\n",
              "      <td>1</td>\n",
              "      <td>2</td>\n",
              "      <td>113781</td>\n",
              "      <td>151.5500</td>\n",
              "      <td>C22 C26</td>\n",
              "      <td>S</td>\n",
              "      <td>NaN</td>\n",
              "      <td>NaN</td>\n",
              "      <td>Montreal, PQ / Chesterville, ON</td>\n",
              "    </tr>\n",
              "    <tr>\n",
              "      <th>3</th>\n",
              "      <td>1</td>\n",
              "      <td>0</td>\n",
              "      <td>Allison, Mr. Hudson Joshua Creighton</td>\n",
              "      <td>male</td>\n",
              "      <td>30.00</td>\n",
              "      <td>1</td>\n",
              "      <td>2</td>\n",
              "      <td>113781</td>\n",
              "      <td>151.5500</td>\n",
              "      <td>C22 C26</td>\n",
              "      <td>S</td>\n",
              "      <td>NaN</td>\n",
              "      <td>135.0</td>\n",
              "      <td>Montreal, PQ / Chesterville, ON</td>\n",
              "    </tr>\n",
              "    <tr>\n",
              "      <th>4</th>\n",
              "      <td>1</td>\n",
              "      <td>0</td>\n",
              "      <td>Allison, Mrs. Hudson J C (Bessie Waldo Daniels)</td>\n",
              "      <td>female</td>\n",
              "      <td>25.00</td>\n",
              "      <td>1</td>\n",
              "      <td>2</td>\n",
              "      <td>113781</td>\n",
              "      <td>151.5500</td>\n",
              "      <td>C22 C26</td>\n",
              "      <td>S</td>\n",
              "      <td>NaN</td>\n",
              "      <td>NaN</td>\n",
              "      <td>Montreal, PQ / Chesterville, ON</td>\n",
              "    </tr>\n",
              "  </tbody>\n",
              "</table>\n",
              "</div>"
            ],
            "text/plain": [
              "   pclass  survived  ...   body                        home.dest\n",
              "0       1         1  ...    NaN                     St Louis, MO\n",
              "1       1         1  ...    NaN  Montreal, PQ / Chesterville, ON\n",
              "2       1         0  ...    NaN  Montreal, PQ / Chesterville, ON\n",
              "3       1         0  ...  135.0  Montreal, PQ / Chesterville, ON\n",
              "4       1         0  ...    NaN  Montreal, PQ / Chesterville, ON\n",
              "\n",
              "[5 rows x 14 columns]"
            ]
          },
          "metadata": {
            "tags": []
          },
          "execution_count": 27
        }
      ]
    },
    {
      "cell_type": "code",
      "metadata": {
        "colab": {
          "base_uri": "https://localhost:8080/"
        },
        "id": "9Di9wQIsc2Xa",
        "outputId": "6ca1e219-37fb-4e42-f04c-04a1b6a5319c"
      },
      "source": [
        "titanic_data.info()"
      ],
      "execution_count": 28,
      "outputs": [
        {
          "output_type": "stream",
          "text": [
            "<class 'pandas.core.frame.DataFrame'>\n",
            "RangeIndex: 1309 entries, 0 to 1308\n",
            "Data columns (total 14 columns):\n",
            " #   Column     Non-Null Count  Dtype  \n",
            "---  ------     --------------  -----  \n",
            " 0   pclass     1309 non-null   int64  \n",
            " 1   survived   1309 non-null   int64  \n",
            " 2   name       1309 non-null   object \n",
            " 3   sex        1309 non-null   object \n",
            " 4   age        1046 non-null   float64\n",
            " 5   sibsp      1309 non-null   int64  \n",
            " 6   parch      1309 non-null   int64  \n",
            " 7   ticket     1309 non-null   object \n",
            " 8   fare       1308 non-null   float64\n",
            " 9   cabin      295 non-null    object \n",
            " 10  embarked   1307 non-null   object \n",
            " 11  boat       486 non-null    object \n",
            " 12  body       121 non-null    float64\n",
            " 13  home.dest  745 non-null    object \n",
            "dtypes: float64(3), int64(4), object(7)\n",
            "memory usage: 143.3+ KB\n"
          ],
          "name": "stdout"
        }
      ]
    },
    {
      "cell_type": "markdown",
      "metadata": {
        "id": "gN8t0HO1dKo1"
      },
      "source": [
        "There are few categorical features that needs to be one hot encoded. There are also null values in few important columns like fare and boat we can replace it with average value"
      ]
    },
    {
      "cell_type": "code",
      "metadata": {
        "colab": {
          "base_uri": "https://localhost:8080/",
          "height": 419
        },
        "id": "et8opQHrc4Ye",
        "outputId": "4e613922-3f78-45da-dd71-9a093245c176"
      },
      "source": [
        "titanic_data = pd.concat([titanic_data, \n",
        "                          pd.get_dummies(titanic_data['sex']),\n",
        "                          pd.get_dummies(titanic_data['embarked'],prefix=\"embark\"),\n",
        "                          pd.get_dummies(titanic_data['pclass'],prefix=\"class\")], axis=1)\n",
        "titanic_data[\"age\"] = titanic_data[\"age\"].fillna(titanic_data[\"age\"].mean())\n",
        "titanic_data[\"fare\"] = titanic_data[\"fare\"].fillna(titanic_data[\"fare\"].mean())\n",
        "titanic_data = titanic_data.drop(['name','ticket','cabin','boat','body','home.dest','sex','embarked','pclass'], axis=1)\n",
        "titanic_data"
      ],
      "execution_count": 29,
      "outputs": [
        {
          "output_type": "execute_result",
          "data": {
            "text/html": [
              "<div>\n",
              "<style scoped>\n",
              "    .dataframe tbody tr th:only-of-type {\n",
              "        vertical-align: middle;\n",
              "    }\n",
              "\n",
              "    .dataframe tbody tr th {\n",
              "        vertical-align: top;\n",
              "    }\n",
              "\n",
              "    .dataframe thead th {\n",
              "        text-align: right;\n",
              "    }\n",
              "</style>\n",
              "<table border=\"1\" class=\"dataframe\">\n",
              "  <thead>\n",
              "    <tr style=\"text-align: right;\">\n",
              "      <th></th>\n",
              "      <th>survived</th>\n",
              "      <th>age</th>\n",
              "      <th>sibsp</th>\n",
              "      <th>parch</th>\n",
              "      <th>fare</th>\n",
              "      <th>female</th>\n",
              "      <th>male</th>\n",
              "      <th>embark_C</th>\n",
              "      <th>embark_Q</th>\n",
              "      <th>embark_S</th>\n",
              "      <th>class_1</th>\n",
              "      <th>class_2</th>\n",
              "      <th>class_3</th>\n",
              "    </tr>\n",
              "  </thead>\n",
              "  <tbody>\n",
              "    <tr>\n",
              "      <th>0</th>\n",
              "      <td>1</td>\n",
              "      <td>29.000000</td>\n",
              "      <td>0</td>\n",
              "      <td>0</td>\n",
              "      <td>211.3375</td>\n",
              "      <td>1</td>\n",
              "      <td>0</td>\n",
              "      <td>0</td>\n",
              "      <td>0</td>\n",
              "      <td>1</td>\n",
              "      <td>1</td>\n",
              "      <td>0</td>\n",
              "      <td>0</td>\n",
              "    </tr>\n",
              "    <tr>\n",
              "      <th>1</th>\n",
              "      <td>1</td>\n",
              "      <td>0.920000</td>\n",
              "      <td>1</td>\n",
              "      <td>2</td>\n",
              "      <td>151.5500</td>\n",
              "      <td>0</td>\n",
              "      <td>1</td>\n",
              "      <td>0</td>\n",
              "      <td>0</td>\n",
              "      <td>1</td>\n",
              "      <td>1</td>\n",
              "      <td>0</td>\n",
              "      <td>0</td>\n",
              "    </tr>\n",
              "    <tr>\n",
              "      <th>2</th>\n",
              "      <td>0</td>\n",
              "      <td>2.000000</td>\n",
              "      <td>1</td>\n",
              "      <td>2</td>\n",
              "      <td>151.5500</td>\n",
              "      <td>1</td>\n",
              "      <td>0</td>\n",
              "      <td>0</td>\n",
              "      <td>0</td>\n",
              "      <td>1</td>\n",
              "      <td>1</td>\n",
              "      <td>0</td>\n",
              "      <td>0</td>\n",
              "    </tr>\n",
              "    <tr>\n",
              "      <th>3</th>\n",
              "      <td>0</td>\n",
              "      <td>30.000000</td>\n",
              "      <td>1</td>\n",
              "      <td>2</td>\n",
              "      <td>151.5500</td>\n",
              "      <td>0</td>\n",
              "      <td>1</td>\n",
              "      <td>0</td>\n",
              "      <td>0</td>\n",
              "      <td>1</td>\n",
              "      <td>1</td>\n",
              "      <td>0</td>\n",
              "      <td>0</td>\n",
              "    </tr>\n",
              "    <tr>\n",
              "      <th>4</th>\n",
              "      <td>0</td>\n",
              "      <td>25.000000</td>\n",
              "      <td>1</td>\n",
              "      <td>2</td>\n",
              "      <td>151.5500</td>\n",
              "      <td>1</td>\n",
              "      <td>0</td>\n",
              "      <td>0</td>\n",
              "      <td>0</td>\n",
              "      <td>1</td>\n",
              "      <td>1</td>\n",
              "      <td>0</td>\n",
              "      <td>0</td>\n",
              "    </tr>\n",
              "    <tr>\n",
              "      <th>...</th>\n",
              "      <td>...</td>\n",
              "      <td>...</td>\n",
              "      <td>...</td>\n",
              "      <td>...</td>\n",
              "      <td>...</td>\n",
              "      <td>...</td>\n",
              "      <td>...</td>\n",
              "      <td>...</td>\n",
              "      <td>...</td>\n",
              "      <td>...</td>\n",
              "      <td>...</td>\n",
              "      <td>...</td>\n",
              "      <td>...</td>\n",
              "    </tr>\n",
              "    <tr>\n",
              "      <th>1304</th>\n",
              "      <td>0</td>\n",
              "      <td>14.500000</td>\n",
              "      <td>1</td>\n",
              "      <td>0</td>\n",
              "      <td>14.4542</td>\n",
              "      <td>1</td>\n",
              "      <td>0</td>\n",
              "      <td>1</td>\n",
              "      <td>0</td>\n",
              "      <td>0</td>\n",
              "      <td>0</td>\n",
              "      <td>0</td>\n",
              "      <td>1</td>\n",
              "    </tr>\n",
              "    <tr>\n",
              "      <th>1305</th>\n",
              "      <td>0</td>\n",
              "      <td>29.881138</td>\n",
              "      <td>1</td>\n",
              "      <td>0</td>\n",
              "      <td>14.4542</td>\n",
              "      <td>1</td>\n",
              "      <td>0</td>\n",
              "      <td>1</td>\n",
              "      <td>0</td>\n",
              "      <td>0</td>\n",
              "      <td>0</td>\n",
              "      <td>0</td>\n",
              "      <td>1</td>\n",
              "    </tr>\n",
              "    <tr>\n",
              "      <th>1306</th>\n",
              "      <td>0</td>\n",
              "      <td>26.500000</td>\n",
              "      <td>0</td>\n",
              "      <td>0</td>\n",
              "      <td>7.2250</td>\n",
              "      <td>0</td>\n",
              "      <td>1</td>\n",
              "      <td>1</td>\n",
              "      <td>0</td>\n",
              "      <td>0</td>\n",
              "      <td>0</td>\n",
              "      <td>0</td>\n",
              "      <td>1</td>\n",
              "    </tr>\n",
              "    <tr>\n",
              "      <th>1307</th>\n",
              "      <td>0</td>\n",
              "      <td>27.000000</td>\n",
              "      <td>0</td>\n",
              "      <td>0</td>\n",
              "      <td>7.2250</td>\n",
              "      <td>0</td>\n",
              "      <td>1</td>\n",
              "      <td>1</td>\n",
              "      <td>0</td>\n",
              "      <td>0</td>\n",
              "      <td>0</td>\n",
              "      <td>0</td>\n",
              "      <td>1</td>\n",
              "    </tr>\n",
              "    <tr>\n",
              "      <th>1308</th>\n",
              "      <td>0</td>\n",
              "      <td>29.000000</td>\n",
              "      <td>0</td>\n",
              "      <td>0</td>\n",
              "      <td>7.8750</td>\n",
              "      <td>0</td>\n",
              "      <td>1</td>\n",
              "      <td>0</td>\n",
              "      <td>0</td>\n",
              "      <td>1</td>\n",
              "      <td>0</td>\n",
              "      <td>0</td>\n",
              "      <td>1</td>\n",
              "    </tr>\n",
              "  </tbody>\n",
              "</table>\n",
              "<p>1309 rows × 13 columns</p>\n",
              "</div>"
            ],
            "text/plain": [
              "      survived        age  sibsp  parch  ...  embark_S  class_1  class_2  class_3\n",
              "0            1  29.000000      0      0  ...         1        1        0        0\n",
              "1            1   0.920000      1      2  ...         1        1        0        0\n",
              "2            0   2.000000      1      2  ...         1        1        0        0\n",
              "3            0  30.000000      1      2  ...         1        1        0        0\n",
              "4            0  25.000000      1      2  ...         1        1        0        0\n",
              "...        ...        ...    ...    ...  ...       ...      ...      ...      ...\n",
              "1304         0  14.500000      1      0  ...         0        0        0        1\n",
              "1305         0  29.881138      1      0  ...         0        0        0        1\n",
              "1306         0  26.500000      0      0  ...         0        0        0        1\n",
              "1307         0  27.000000      0      0  ...         0        0        0        1\n",
              "1308         0  29.000000      0      0  ...         1        0        0        1\n",
              "\n",
              "[1309 rows x 13 columns]"
            ]
          },
          "metadata": {
            "tags": []
          },
          "execution_count": 29
        }
      ]
    },
    {
      "cell_type": "code",
      "metadata": {
        "colab": {
          "base_uri": "https://localhost:8080/"
        },
        "id": "za-ThUSCd7Ew",
        "outputId": "b5ec1df5-53dc-4aaf-b06e-4d8ec3fae41f"
      },
      "source": [
        "titanic_data.info()"
      ],
      "execution_count": 30,
      "outputs": [
        {
          "output_type": "stream",
          "text": [
            "<class 'pandas.core.frame.DataFrame'>\n",
            "RangeIndex: 1309 entries, 0 to 1308\n",
            "Data columns (total 13 columns):\n",
            " #   Column    Non-Null Count  Dtype  \n",
            "---  ------    --------------  -----  \n",
            " 0   survived  1309 non-null   int64  \n",
            " 1   age       1309 non-null   float64\n",
            " 2   sibsp     1309 non-null   int64  \n",
            " 3   parch     1309 non-null   int64  \n",
            " 4   fare      1309 non-null   float64\n",
            " 5   female    1309 non-null   uint8  \n",
            " 6   male      1309 non-null   uint8  \n",
            " 7   embark_C  1309 non-null   uint8  \n",
            " 8   embark_Q  1309 non-null   uint8  \n",
            " 9   embark_S  1309 non-null   uint8  \n",
            " 10  class_1   1309 non-null   uint8  \n",
            " 11  class_2   1309 non-null   uint8  \n",
            " 12  class_3   1309 non-null   uint8  \n",
            "dtypes: float64(2), int64(3), uint8(8)\n",
            "memory usage: 61.5 KB\n"
          ],
          "name": "stdout"
        }
      ]
    },
    {
      "cell_type": "markdown",
      "metadata": {
        "id": "kMAN2mSBeOO8"
      },
      "source": [
        "### Train and Test Set Split"
      ]
    },
    {
      "cell_type": "code",
      "metadata": {
        "id": "iBqAIBA1eG7s"
      },
      "source": [
        "# for reproducibility\n",
        "np.random.seed(131254)\n",
        "\n",
        "# get labels and feature data seperated\n",
        "labels = titanic_data[\"survived\"].to_numpy()\n",
        "titanic_data = titanic_data.drop(['survived'], axis=1)\n",
        "feature_names = list(titanic_data.columns)\n",
        "data = titanic_data.to_numpy()\n",
        "\n",
        "# train test split\n",
        "train_indices = np.random.choice(int(len(labels)), int(0.7*len(labels)), replace=False)\n",
        "test_indices = list(set(range(len(labels)))-set(train_indices))\n",
        "train_features = data[train_indices]\n",
        "train_labels = labels[train_indices]\n",
        "test_features = data[test_indices]\n",
        "test_labels = labels[test_indices]"
      ],
      "execution_count": 31,
      "outputs": []
    },
    {
      "cell_type": "markdown",
      "metadata": {
        "id": "w1ftxyT3sPOt"
      },
      "source": [
        "## Model Training and Testing"
      ]
    },
    {
      "cell_type": "code",
      "metadata": {
        "id": "RtEnIZA8nJAU"
      },
      "source": [
        "import torch\n",
        "import torch.nn as nn\n",
        "torch.manual_seed(1)\n",
        "class TitanicSimpleNNModel(nn.Module):\n",
        "  def __init__(self):\n",
        "    super().__init__()\n",
        "    self.linear1 = nn.Linear(12, 12)\n",
        "    self.sigmoid1 = nn.Sigmoid()\n",
        "    self.linear2 = nn.Linear(12, 8)\n",
        "    self.sigmoid2 = nn.Sigmoid()\n",
        "    self.linear3 = nn.Linear(8, 2)\n",
        "    self.softmax = nn.Softmax()\n",
        "  def forward(self, x):\n",
        "    x = self.sigmoid1(self.linear1(x))\n",
        "    x = self.sigmoid2(self.linear2(x))\n",
        "    x = self.softmax(self.linear3(x))\n",
        "    return x"
      ],
      "execution_count": 33,
      "outputs": []
    },
    {
      "cell_type": "code",
      "metadata": {
        "colab": {
          "base_uri": "https://localhost:8080/"
        },
        "id": "1ZMEEZeYo6lp",
        "outputId": "dd380491-9e54-4b90-8c3c-21bbc26a6982"
      },
      "source": [
        "net = TitanicSimpleNNModel()\n",
        "\n",
        "criterion = nn.CrossEntropyLoss()\n",
        "optimizer = torch.optim.Adam(net.parameters(), lr=0.01)\n",
        "\n",
        "input_tensor = torch.from_numpy(train_features).type(torch.FloatTensor)\n",
        "label_tensor = torch.from_numpy(train_labels)\n",
        "\n",
        "epochs = 200\n",
        "for epoch in range(epochs):\n",
        "  output = net(input_tensor)\n",
        "  loss = criterion(output, label_tensor)\n",
        "  optimizer.zero_grad()\n",
        "  loss.backward()\n",
        "  optimizer.step()\n",
        "  if epoch % 20 == 0:\n",
        "    print ('Epoch {}/{} => Loss: {:.2f}'.format(epoch+1, epochs, loss.item()))\n",
        "torch.save(net.state_dict(), 'titanic_model.pt')"
      ],
      "execution_count": 40,
      "outputs": [
        {
          "output_type": "stream",
          "text": [
            "/usr/local/lib/python3.7/dist-packages/ipykernel_launcher.py:16: UserWarning: Implicit dimension choice for softmax has been deprecated. Change the call to include dim=X as an argument.\n",
            "  app.launch_new_instance()\n"
          ],
          "name": "stderr"
        },
        {
          "output_type": "stream",
          "text": [
            "Epoch 1/200 => Loss: 0.70\n",
            "Epoch 21/200 => Loss: 0.66\n",
            "Epoch 41/200 => Loss: 0.64\n",
            "Epoch 61/200 => Loss: 0.58\n",
            "Epoch 81/200 => Loss: 0.52\n",
            "Epoch 101/200 => Loss: 0.51\n",
            "Epoch 121/200 => Loss: 0.50\n",
            "Epoch 141/200 => Loss: 0.49\n",
            "Epoch 161/200 => Loss: 0.49\n",
            "Epoch 181/200 => Loss: 0.48\n"
          ],
          "name": "stdout"
        }
      ]
    },
    {
      "cell_type": "code",
      "metadata": {
        "colab": {
          "base_uri": "https://localhost:8080/"
        },
        "id": "tVPPyfFlqeDp",
        "outputId": "a2cf847b-4484-4de7-b9f8-2b4955afe725"
      },
      "source": [
        "out_prob = net(input_tensor).detach().numpy()\n",
        "out_classes = np.argmax(out_prob, axis=1)\n",
        "print(\"Train Accuracy:\", sum(out_classes==train_labels)/ len(train_labels))"
      ],
      "execution_count": 42,
      "outputs": [
        {
          "output_type": "stream",
          "text": [
            "Train Accuracy: 0.8307860262008734\n"
          ],
          "name": "stdout"
        },
        {
          "output_type": "stream",
          "text": [
            "/usr/local/lib/python3.7/dist-packages/ipykernel_launcher.py:16: UserWarning: Implicit dimension choice for softmax has been deprecated. Change the call to include dim=X as an argument.\n",
            "  app.launch_new_instance()\n"
          ],
          "name": "stderr"
        }
      ]
    },
    {
      "cell_type": "code",
      "metadata": {
        "colab": {
          "base_uri": "https://localhost:8080/"
        },
        "id": "mxBQBxL0rbaH",
        "outputId": "e04706f6-b330-41b1-a587-6100e772b0ac"
      },
      "source": [
        "test_input = torch.from_numpy(test_features).type(torch.FloatTensor)\n",
        "out_prob = net(test_input).detach().numpy()\n",
        "out_classes = np.argmax(out_prob, axis=1)\n",
        "print(\"Test Accuracy:\", sum(out_classes==test_labels)/ len(test_labels))"
      ],
      "execution_count": 45,
      "outputs": [
        {
          "output_type": "stream",
          "text": [
            "Test Accuracy: 0.811704834605598\n"
          ],
          "name": "stdout"
        },
        {
          "output_type": "stream",
          "text": [
            "/usr/local/lib/python3.7/dist-packages/ipykernel_launcher.py:16: UserWarning: Implicit dimension choice for softmax has been deprecated. Change the call to include dim=X as an argument.\n",
            "  app.launch_new_instance()\n"
          ],
          "name": "stderr"
        }
      ]
    },
    {
      "cell_type": "markdown",
      "metadata": {
        "id": "kJ-KJsGhsSDs"
      },
      "source": [
        "## Interpreting\n",
        "\n",
        "It is wise to get understanding of feature importance in Model. `Integrated Gradient` Can be helpful for this purpose"
      ]
    },
    {
      "cell_type": "markdown",
      "metadata": {
        "id": "v-AYcMafwEKQ"
      },
      "source": [
        "### Network Attribution"
      ]
    },
    {
      "cell_type": "code",
      "metadata": {
        "id": "kYkMyrC0r2Uz"
      },
      "source": [
        "ig = IntegratedGradients(net)"
      ],
      "execution_count": 46,
      "outputs": []
    },
    {
      "cell_type": "code",
      "metadata": {
        "colab": {
          "base_uri": "https://localhost:8080/"
        },
        "id": "K2idbKQ8tE5h",
        "outputId": "a3dfa31d-d6c6-4feb-c914-4014e88a84b5"
      },
      "source": [
        "# our input will require gradient\n",
        "test_input.requires_grad_()\n",
        "# attribute() is like forward method of model architecture\n",
        "attr, delta = ig.attribute(test_input, target=1, return_convergence_delta=True)\n",
        "# attr indicates feature importance value while delta approximates the error between the approximated integral and true integral.\n",
        "attr = attr.detach().numpy()"
      ],
      "execution_count": 47,
      "outputs": [
        {
          "output_type": "stream",
          "text": [
            "/usr/local/lib/python3.7/dist-packages/ipykernel_launcher.py:16: UserWarning: Implicit dimension choice for softmax has been deprecated. Change the call to include dim=X as an argument.\n",
            "  app.launch_new_instance()\n"
          ],
          "name": "stderr"
        }
      ]
    },
    {
      "cell_type": "code",
      "metadata": {
        "colab": {
          "base_uri": "https://localhost:8080/",
          "height": 626
        },
        "id": "FwQfCzWut4Re",
        "outputId": "186e54e2-f9d1-465a-ae43-03936178d0a0"
      },
      "source": [
        "# Helper method to print importances and visualize distribution\n",
        "def visualize_importances(feature_names, importances, title=\"Average Feature Importances\", plot=True, axis_title=\"Features\"):\n",
        "    print(title)\n",
        "    for i in range(len(feature_names)):\n",
        "        print(feature_names[i], \": \", '%.3f'%(importances[i]))\n",
        "    x_pos = (np.arange(len(feature_names)))\n",
        "    if plot:\n",
        "        plt.figure(figsize=(12,6))\n",
        "        plt.bar(x_pos, importances, align='center')\n",
        "        plt.xticks(x_pos, feature_names, wrap=True)\n",
        "        plt.xlabel(axis_title)\n",
        "        plt.title(title)\n",
        "visualize_importances(feature_names, np.mean(attr, axis=0))"
      ],
      "execution_count": 48,
      "outputs": [
        {
          "output_type": "stream",
          "text": [
            "Average Feature Importances\n",
            "age :  -0.507\n",
            "sibsp :  -0.060\n",
            "parch :  -0.015\n",
            "fare :  0.096\n",
            "female :  0.165\n",
            "male :  -0.285\n",
            "embark_C :  0.053\n",
            "embark_Q :  0.008\n",
            "embark_S :  -0.033\n",
            "class_1 :  0.100\n",
            "class_2 :  0.051\n",
            "class_3 :  -0.247\n"
          ],
          "name": "stdout"
        },
        {
          "output_type": "display_data",
          "data": {
            "image/png": "[encoded data removed]",
            "text/plain": [
              "<Figure size 864x432 with 1 Axes>"
            ]
          },
          "metadata": {
            "tags": [],
            "needs_background": "light"
          }
        }
      ]
    },
    {
      "cell_type": "code",
      "metadata": {
        "colab": {
          "base_uri": "https://localhost:8080/",
          "height": 281
        },
        "id": "Sz1JN3niv-yk",
        "outputId": "cb8ed55e-fdc9-432e-9b7c-afc084e5c86a"
      },
      "source": [
        "plt.hist(attr[:,1], 100);\n",
        "plt.title(\"Distribution of Sibsp Attribution Values\");"
      ],
      "execution_count": 49,
      "outputs": [
        {
          "output_type": "display_data",
          "data": {
            "image/png": "[encoded data removed]",
            "text/plain": [
              "<Figure size 432x288 with 1 Axes>"
            ]
          },
          "metadata": {
            "tags": [],
            "needs_background": "light"
          }
        }
      ]
    },
    {
      "cell_type": "code",
      "metadata": {
        "colab": {
          "base_uri": "https://localhost:8080/",
          "height": 280
        },
        "id": "zrlUh0OGumSi",
        "outputId": "b9aabcdd-f14e-4498-bd35-01cbde982870"
      },
      "source": [
        "bin_means, bin_edges, _ = stats.binned_statistic(test_features[:,1], attr[:,1], statistic='mean', bins=6)\n",
        "bin_count, _, _ = stats.binned_statistic(test_features[:,1], attr[:,1], statistic='count', bins=6)\n",
        "\n",
        "bin_width = (bin_edges[1] - bin_edges[0])\n",
        "bin_centers = bin_edges[1:] - bin_width/2\n",
        "plt.scatter(bin_centers, bin_means, s=bin_count)\n",
        "plt.xlabel(\"Average Sibsp Feature Value\");\n",
        "plt.ylabel(\"Average Attribution\");"
      ],
      "execution_count": 51,
      "outputs": [
        {
          "output_type": "display_data",
          "data": {
            "image/png": "[encoded data removed]",
            "text/plain": [
              "<Figure size 432x288 with 1 Axes>"
            ]
          },
          "metadata": {
            "tags": [],
            "needs_background": "light"
          }
        }
      ]
    },
    {
      "cell_type": "markdown",
      "metadata": {
        "id": "NCXGdTONwHj7"
      },
      "source": [
        "### Layer Attribution:"
      ]
    },
    {
      "cell_type": "code",
      "metadata": {
        "id": "WewtZIftwBkl"
      },
      "source": [
        "cond = LayerConductance(net, net.sigmoid1)"
      ],
      "execution_count": 52,
      "outputs": []
    },
    {
      "cell_type": "code",
      "metadata": {
        "colab": {
          "base_uri": "https://localhost:8080/"
        },
        "id": "pt-DegHywRue",
        "outputId": "f2dfc25d-6532-4145-aff5-0a5ffe4b1aa9"
      },
      "source": [
        "cond_vals = cond.attribute(test_input,target=1)\n",
        "cond_vals = cond_vals.detach().numpy()"
      ],
      "execution_count": 53,
      "outputs": [
        {
          "output_type": "stream",
          "text": [
            "/usr/local/lib/python3.7/dist-packages/ipykernel_launcher.py:16: UserWarning: Implicit dimension choice for softmax has been deprecated. Change the call to include dim=X as an argument.\n",
            "  app.launch_new_instance()\n"
          ],
          "name": "stderr"
        }
      ]
    },
    {
      "cell_type": "code",
      "metadata": {
        "colab": {
          "base_uri": "https://localhost:8080/",
          "height": 625
        },
        "id": "GWsjFsGLwUNs",
        "outputId": "a321698e-fb74-4141-c753-525a31f0b903"
      },
      "source": [
        "visualize_importances(range(12),np.mean(cond_vals, axis=0),title=\"Average Neuron Importances\", axis_title=\"Neurons\")"
      ],
      "execution_count": 54,
      "outputs": [
        {
          "output_type": "stream",
          "text": [
            "Average Neuron Importances\n",
            "0 :  -0.068\n",
            "1 :  0.032\n",
            "2 :  -0.172\n",
            "3 :  -0.029\n",
            "4 :  -0.047\n",
            "5 :  -0.071\n",
            "6 :  -0.108\n",
            "7 :  0.004\n",
            "8 :  -0.110\n",
            "9 :  0.031\n",
            "10 :  -0.038\n",
            "11 :  -0.097\n"
          ],
          "name": "stdout"
        },
        {
          "output_type": "display_data",
          "data": {
            "image/png": "[encoded data removed]",
            "text/plain": [
              "<Figure size 864x432 with 1 Axes>"
            ]
          },
          "metadata": {
            "tags": [],
            "needs_background": "light"
          }
        }
      ]
    },
    {
      "cell_type": "code",
      "metadata": {
        "colab": {
          "base_uri": "https://localhost:8080/",
          "height": 1000
        },
        "id": "TwOWvSczwWQA",
        "outputId": "e120567b-b18e-4c9d-ddbe-187ba243213b"
      },
      "source": [
        "plt.hist(cond_vals[:,9], 100);\n",
        "plt.title(\"Neuron 9 Distribution\")\n",
        "plt.figure()\n",
        "plt.hist(cond_vals[:,7], 100);\n",
        "plt.title(\"Neuron 7 Distribution\");\n",
        "plt.figure()\n",
        "plt.hist(cond_vals[:,0], 100);\n",
        "plt.title(\"Neuron 0 Distribution\")\n",
        "plt.figure()\n",
        "plt.hist(cond_vals[:,10], 100);\n",
        "plt.title(\"Neuron 10 Distribution\");"
      ],
      "execution_count": 59,
      "outputs": [
        {
          "output_type": "display_data",
          "data": {
            "image/png": "[encoded data removed]",
            "text/plain": [
              "<Figure size 432x288 with 1 Axes>"
            ]
          },
          "metadata": {
            "tags": [],
            "needs_background": "light"
          }
        },
        {
          "output_type": "display_data",
          "data": {
            "image/png": "[encoded data removed]",
            "text/plain": [
              "<Figure size 432x288 with 1 Axes>"
            ]
          },
          "metadata": {
            "tags": [],
            "needs_background": "light"
          }
        },
        {
          "output_type": "display_data",
          "data": {
            "image/png": "[encoded data removed]",
            "text/plain": [
              "<Figure size 432x288 with 1 Axes>"
            ]
          },
          "metadata": {
            "tags": [],
            "needs_background": "light"
          }
        },
        {
          "output_type": "display_data",
          "data": {
            "image/png": "[encoded data removed]",
            "text/plain": [
              "<Figure size 432x288 with 1 Axes>"
            ]
          },
          "metadata": {
            "tags": [],
            "needs_background": "light"
          }
        }
      ]
    },
    {
      "cell_type": "markdown",
      "metadata": {
        "id": "GYNwzVGfwxzE"
      },
      "source": [
        "### Neuron Attribution:"
      ]
    },
    {
      "cell_type": "code",
      "metadata": {
        "id": "XJLHmYjuwgIZ"
      },
      "source": [
        "neuron_cond = NeuronConductance(net, net.sigmoid1)"
      ],
      "execution_count": 60,
      "outputs": []
    },
    {
      "cell_type": "code",
      "metadata": {
        "colab": {
          "base_uri": "https://localhost:8080/"
        },
        "id": "Yv_HAtk-w3Zo",
        "outputId": "294bdb8d-7056-42c7-d087-d01ff5a68b21"
      },
      "source": [
        "neuron_cond_vals_10 = neuron_cond.attribute(test_input, neuron_selector=10, target=1)\n",
        "\n",
        "neuron_cond_vals_0 = neuron_cond.attribute(test_input, neuron_selector=0, target=1)"
      ],
      "execution_count": 62,
      "outputs": [
        {
          "output_type": "stream",
          "text": [
            "/usr/local/lib/python3.7/dist-packages/ipykernel_launcher.py:16: UserWarning: Implicit dimension choice for softmax has been deprecated. Change the call to include dim=X as an argument.\n",
            "  app.launch_new_instance()\n"
          ],
          "name": "stderr"
        }
      ]
    },
    {
      "cell_type": "code",
      "metadata": {
        "colab": {
          "base_uri": "https://localhost:8080/",
          "height": 626
        },
        "id": "iWUcZ3U1w5NY",
        "outputId": "cdd0288d-7021-4891-c5d8-e816dddc65fa"
      },
      "source": [
        "visualize_importances(feature_names, neuron_cond_vals_0.mean(dim=0).detach().numpy(), title=\"Average Feature Importances for Neuron 0\")"
      ],
      "execution_count": 63,
      "outputs": [
        {
          "output_type": "stream",
          "text": [
            "Average Feature Importances for Neuron 0\n",
            "age :  0.001\n",
            "sibsp :  0.004\n",
            "parch :  -0.008\n",
            "fare :  -0.027\n",
            "female :  0.020\n",
            "male :  -0.044\n",
            "embark_C :  0.007\n",
            "embark_Q :  0.001\n",
            "embark_S :  -0.010\n",
            "class_1 :  0.018\n",
            "class_2 :  0.002\n",
            "class_3 :  -0.030\n"
          ],
          "name": "stdout"
        },
        {
          "output_type": "display_data",
          "data": {
            "image/png": "[encoded data removed]",
            "text/plain": [
              "<Figure size 864x432 with 1 Axes>"
            ]
          },
          "metadata": {
            "tags": [],
            "needs_background": "light"
          }
        }
      ]
    },
    {
      "cell_type": "code",
      "metadata": {
        "colab": {
          "base_uri": "https://localhost:8080/",
          "height": 626
        },
        "id": "_7yqBujOw_HG",
        "outputId": "773a1dd9-96ac-4a9b-e539-cc4279389b12"
      },
      "source": [
        "visualize_importances(feature_names, neuron_cond_vals_10.mean(dim=0).detach().numpy(), title=\"Average Feature Importances for Neuron 10\")"
      ],
      "execution_count": 64,
      "outputs": [
        {
          "output_type": "stream",
          "text": [
            "Average Feature Importances for Neuron 10\n",
            "age :  -0.020\n",
            "sibsp :  0.007\n",
            "parch :  0.006\n",
            "fare :  -0.017\n",
            "female :  0.016\n",
            "male :  -0.035\n",
            "embark_C :  0.004\n",
            "embark_Q :  0.002\n",
            "embark_S :  0.004\n",
            "class_1 :  0.010\n",
            "class_2 :  0.006\n",
            "class_3 :  -0.018\n"
          ],
          "name": "stdout"
        },
        {
          "output_type": "display_data",
          "data": {
            "image/png": "[encoded data removed]",
            "text/plain": [
              "<Figure size 864x432 with 1 Axes>"
            ]
          },
          "metadata": {
            "tags": [],
            "needs_background": "light"
          }
        }
      ]
    },
    {
      "cell_type": "markdown",
      "metadata": {
        "id": "Xiiss1qrxKEn"
      },
      "source": [
        "### Conclusion:\n",
        "\n",
        "Captum Allows us to interpret entire model, Layerwise Analyse and we can also do neuron based analysis.\n",
        "\n",
        "## Reference Tutorial:\n",
        "https://captum.ai/tutorials/Titanic_Basic_Interpret"
      ]
    },
    {
      "cell_type": "code",
      "metadata": {
        "id": "1WIfNwQVxCNy"
      },
      "source": [
        ""
      ],
      "execution_count": null,
      "outputs": []
    }
  ]
}